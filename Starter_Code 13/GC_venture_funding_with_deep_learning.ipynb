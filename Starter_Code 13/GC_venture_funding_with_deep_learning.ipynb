{
 "cells": [
  {
   "cell_type": "markdown",
   "metadata": {
    "id": "JmEcaJzVURr_"
   },
   "source": [
    "# Venture Funding with Deep Learning\n",
    "\n",
    "You work as a risk management associate at Alphabet Soup, a venture capital firm. Alphabet Soup’s business team receives many funding applications from startups every day. This team has asked you to help them create a model that predicts whether applicants will be successful if funded by Alphabet Soup.\n",
    "\n",
    "The business team has given you a CSV containing more than 34,000 organizations that have received funding from Alphabet Soup over the years. With your knowledge of machine learning and neural networks, you decide to use the features in the provided dataset to create a binary classifier model that will predict whether an applicant will become a successful business. The CSV file contains a variety of information about these businesses, including whether or not they ultimately became successful.\n",
    "\n",
    "## Instructions:\n",
    "\n",
    "The steps for this challenge are broken out into the following sections:\n",
    "\n",
    "* Prepare the data for use on a neural network model.\n",
    "\n",
    "* Compile and evaluate a binary classification model using a neural network.\n",
    "\n",
    "* Optimize the neural network model.\n",
    "\n",
    "### Prepare the Data for Use on a Neural Network Model \n",
    "\n",
    "Using your knowledge of Pandas and scikit-learn’s `StandardScaler()`, preprocess the dataset so that you can use it to compile and evaluate the neural network model later.\n",
    "\n",
    "Open the starter code file, and complete the following data preparation steps:\n",
    "\n",
    "1. Read the `applicants_data.csv` file into a Pandas DataFrame. Review the DataFrame, looking for categorical variables that will need to be encoded, as well as columns that could eventually define your features and target variables.   \n",
    "\n",
    "2. Drop the “EIN” (Employer Identification Number) and “NAME” columns from the DataFrame, because they are not relevant to the binary classification model.\n",
    " \n",
    "3. Encode the dataset’s categorical variables using `OneHotEncoder`, and then place the encoded variables into a new DataFrame.\n",
    "\n",
    "4. Add the original DataFrame’s numerical variables to the DataFrame containing the encoded variables.\n",
    "\n",
    "> **Note** To complete this step, you will employ the Pandas `concat()` function that was introduced earlier in this course. \n",
    "\n",
    "5. Using the preprocessed data, create the features (`X`) and target (`y`) datasets. The target dataset should be defined by the preprocessed DataFrame column “IS_SUCCESSFUL”. The remaining columns should define the features dataset. \n",
    "\n",
    "6. Split the features and target sets into training and testing datasets.\n",
    "\n",
    "7. Use scikit-learn's `StandardScaler` to scale the features data.\n",
    "\n",
    "### Compile and Evaluate a Binary Classification Model Using a Neural Network\n",
    "\n",
    "Use your knowledge of TensorFlow to design a binary classification deep neural network model. This model should use the dataset’s features to predict whether an Alphabet Soup&ndash;funded startup will be successful based on the features in the dataset. Consider the number of inputs before determining the number of layers that your model will contain or the number of neurons on each layer. Then, compile and fit your model. Finally, evaluate your binary classification model to calculate the model’s loss and accuracy. \n",
    " \n",
    "To do so, complete the following steps:\n",
    "\n",
    "1. Create a deep neural network by assigning the number of input features, the number of layers, and the number of neurons on each layer using Tensorflow’s Keras.\n",
    "\n",
    "> **Hint** You can start with a two-layer deep neural network model that uses the `relu` activation function for both layers.\n",
    "\n",
    "2. Compile and fit the model using the `binary_crossentropy` loss function, the `adam` optimizer, and the `accuracy` evaluation metric.\n",
    "\n",
    "> **Hint** When fitting the model, start with a small number of epochs, such as 20, 50, or 100.\n",
    "\n",
    "3. Evaluate the model using the test data to determine the model’s loss and accuracy.\n",
    "\n",
    "4. Save and export your model to an HDF5 file, and name the file `AlphabetSoup.h5`. \n",
    "\n",
    "### Optimize the Neural Network Model\n",
    "\n",
    "Using your knowledge of TensorFlow and Keras, optimize your model to improve the model's accuracy. Even if you do not successfully achieve a better accuracy, you'll need to demonstrate at least two attempts to optimize the model. You can include these attempts in your existing notebook. Or, you can make copies of the starter notebook in the same folder, rename them, and code each model optimization in a new notebook. \n",
    "\n",
    "> **Note** You will not lose points if your model does not achieve a high accuracy, as long as you make at least two attempts to optimize the model.\n",
    "\n",
    "To do so, complete the following steps:\n",
    "\n",
    "1. Define at least three new deep neural network models (the original plus 2 optimization attempts). With each, try to improve on your first model’s predictive accuracy.\n",
    "\n",
    "> **Rewind** Recall that perfect accuracy has a value of 1, so accuracy improves as its value moves closer to 1. To optimize your model for a predictive accuracy as close to 1 as possible, you can use any or all of the following techniques:\n",
    ">\n",
    "> * Adjust the input data by dropping different features columns to ensure that no variables or outliers confuse the model.\n",
    ">\n",
    "> * Add more neurons (nodes) to a hidden layer.\n",
    ">\n",
    "> * Add more hidden layers.\n",
    ">\n",
    "> * Use different activation functions for the hidden layers.\n",
    ">\n",
    "> * Add to or reduce the number of epochs in the training regimen.\n",
    "\n",
    "2. After finishing your models, display the accuracy scores achieved by each model, and compare the results.\n",
    "\n",
    "3. Save each of your models as an HDF5 file.\n"
   ]
  },
  {
   "cell_type": "code",
   "execution_count": 1,
   "metadata": {
    "id": "6XiL4BeyURsD"
   },
   "outputs": [],
   "source": [
    "# Imports\n",
    "import pandas as pd\n",
    "from pathlib import Path\n",
    "import tensorflow as tf\n",
    "from tensorflow.keras.layers import Dense\n",
    "from tensorflow.keras.models import Sequential\n",
    "from sklearn.model_selection import train_test_split\n",
    "from sklearn.preprocessing import StandardScaler,OneHotEncoder"
   ]
  },
  {
   "cell_type": "markdown",
   "metadata": {
    "id": "JzvfMq--URsD"
   },
   "source": [
    "---\n",
    "\n",
    "## Prepare the data to be used on a neural network model"
   ]
  },
  {
   "cell_type": "markdown",
   "metadata": {
    "id": "pJWhWy1zURsE"
   },
   "source": [
    "### Step 1: Read the `applicants_data.csv` file into a Pandas DataFrame. Review the DataFrame, looking for categorical variables that will need to be encoded, as well as columns that could eventually define your features and target variables.  \n"
   ]
  },
  {
   "cell_type": "code",
   "execution_count": 2,
   "metadata": {
    "id": "gSTFDSzYURsE"
   },
   "outputs": [
    {
     "data": {
      "text/html": [
       "<div>\n",
       "<style scoped>\n",
       "    .dataframe tbody tr th:only-of-type {\n",
       "        vertical-align: middle;\n",
       "    }\n",
       "\n",
       "    .dataframe tbody tr th {\n",
       "        vertical-align: top;\n",
       "    }\n",
       "\n",
       "    .dataframe thead th {\n",
       "        text-align: right;\n",
       "    }\n",
       "</style>\n",
       "<table border=\"1\" class=\"dataframe\">\n",
       "  <thead>\n",
       "    <tr style=\"text-align: right;\">\n",
       "      <th></th>\n",
       "      <th>EIN</th>\n",
       "      <th>NAME</th>\n",
       "      <th>APPLICATION_TYPE</th>\n",
       "      <th>AFFILIATION</th>\n",
       "      <th>CLASSIFICATION</th>\n",
       "      <th>USE_CASE</th>\n",
       "      <th>ORGANIZATION</th>\n",
       "      <th>STATUS</th>\n",
       "      <th>INCOME_AMT</th>\n",
       "      <th>SPECIAL_CONSIDERATIONS</th>\n",
       "      <th>ASK_AMT</th>\n",
       "      <th>IS_SUCCESSFUL</th>\n",
       "    </tr>\n",
       "  </thead>\n",
       "  <tbody>\n",
       "    <tr>\n",
       "      <th>0</th>\n",
       "      <td>10520599</td>\n",
       "      <td>BLUE KNIGHTS MOTORCYCLE CLUB</td>\n",
       "      <td>T10</td>\n",
       "      <td>Independent</td>\n",
       "      <td>C1000</td>\n",
       "      <td>ProductDev</td>\n",
       "      <td>Association</td>\n",
       "      <td>1</td>\n",
       "      <td>0</td>\n",
       "      <td>N</td>\n",
       "      <td>5000</td>\n",
       "      <td>1</td>\n",
       "    </tr>\n",
       "    <tr>\n",
       "      <th>1</th>\n",
       "      <td>10531628</td>\n",
       "      <td>AMERICAN CHESAPEAKE CLUB CHARITABLE TR</td>\n",
       "      <td>T3</td>\n",
       "      <td>Independent</td>\n",
       "      <td>C2000</td>\n",
       "      <td>Preservation</td>\n",
       "      <td>Co-operative</td>\n",
       "      <td>1</td>\n",
       "      <td>1-9999</td>\n",
       "      <td>N</td>\n",
       "      <td>108590</td>\n",
       "      <td>1</td>\n",
       "    </tr>\n",
       "    <tr>\n",
       "      <th>2</th>\n",
       "      <td>10547893</td>\n",
       "      <td>ST CLOUD PROFESSIONAL FIREFIGHTERS</td>\n",
       "      <td>T5</td>\n",
       "      <td>CompanySponsored</td>\n",
       "      <td>C3000</td>\n",
       "      <td>ProductDev</td>\n",
       "      <td>Association</td>\n",
       "      <td>1</td>\n",
       "      <td>0</td>\n",
       "      <td>N</td>\n",
       "      <td>5000</td>\n",
       "      <td>0</td>\n",
       "    </tr>\n",
       "    <tr>\n",
       "      <th>3</th>\n",
       "      <td>10553066</td>\n",
       "      <td>SOUTHSIDE ATHLETIC ASSOCIATION</td>\n",
       "      <td>T3</td>\n",
       "      <td>CompanySponsored</td>\n",
       "      <td>C2000</td>\n",
       "      <td>Preservation</td>\n",
       "      <td>Trust</td>\n",
       "      <td>1</td>\n",
       "      <td>10000-24999</td>\n",
       "      <td>N</td>\n",
       "      <td>6692</td>\n",
       "      <td>1</td>\n",
       "    </tr>\n",
       "    <tr>\n",
       "      <th>4</th>\n",
       "      <td>10556103</td>\n",
       "      <td>GENETIC RESEARCH INSTITUTE OF THE DESERT</td>\n",
       "      <td>T3</td>\n",
       "      <td>Independent</td>\n",
       "      <td>C1000</td>\n",
       "      <td>Heathcare</td>\n",
       "      <td>Trust</td>\n",
       "      <td>1</td>\n",
       "      <td>100000-499999</td>\n",
       "      <td>N</td>\n",
       "      <td>142590</td>\n",
       "      <td>1</td>\n",
       "    </tr>\n",
       "    <tr>\n",
       "      <th>...</th>\n",
       "      <td>...</td>\n",
       "      <td>...</td>\n",
       "      <td>...</td>\n",
       "      <td>...</td>\n",
       "      <td>...</td>\n",
       "      <td>...</td>\n",
       "      <td>...</td>\n",
       "      <td>...</td>\n",
       "      <td>...</td>\n",
       "      <td>...</td>\n",
       "      <td>...</td>\n",
       "      <td>...</td>\n",
       "    </tr>\n",
       "    <tr>\n",
       "      <th>34294</th>\n",
       "      <td>996009318</td>\n",
       "      <td>THE LIONS CLUB OF HONOLULU KAMEHAMEHA</td>\n",
       "      <td>T4</td>\n",
       "      <td>Independent</td>\n",
       "      <td>C1000</td>\n",
       "      <td>ProductDev</td>\n",
       "      <td>Association</td>\n",
       "      <td>1</td>\n",
       "      <td>0</td>\n",
       "      <td>N</td>\n",
       "      <td>5000</td>\n",
       "      <td>0</td>\n",
       "    </tr>\n",
       "    <tr>\n",
       "      <th>34295</th>\n",
       "      <td>996010315</td>\n",
       "      <td>INTERNATIONAL ASSOCIATION OF LIONS CLUBS</td>\n",
       "      <td>T4</td>\n",
       "      <td>CompanySponsored</td>\n",
       "      <td>C3000</td>\n",
       "      <td>ProductDev</td>\n",
       "      <td>Association</td>\n",
       "      <td>1</td>\n",
       "      <td>0</td>\n",
       "      <td>N</td>\n",
       "      <td>5000</td>\n",
       "      <td>0</td>\n",
       "    </tr>\n",
       "    <tr>\n",
       "      <th>34296</th>\n",
       "      <td>996012607</td>\n",
       "      <td>PTA HAWAII CONGRESS</td>\n",
       "      <td>T3</td>\n",
       "      <td>CompanySponsored</td>\n",
       "      <td>C2000</td>\n",
       "      <td>Preservation</td>\n",
       "      <td>Association</td>\n",
       "      <td>1</td>\n",
       "      <td>0</td>\n",
       "      <td>N</td>\n",
       "      <td>5000</td>\n",
       "      <td>0</td>\n",
       "    </tr>\n",
       "    <tr>\n",
       "      <th>34297</th>\n",
       "      <td>996015768</td>\n",
       "      <td>AMERICAN FEDERATION OF GOVERNMENT EMPLOYEES LO...</td>\n",
       "      <td>T5</td>\n",
       "      <td>Independent</td>\n",
       "      <td>C3000</td>\n",
       "      <td>ProductDev</td>\n",
       "      <td>Association</td>\n",
       "      <td>1</td>\n",
       "      <td>0</td>\n",
       "      <td>N</td>\n",
       "      <td>5000</td>\n",
       "      <td>1</td>\n",
       "    </tr>\n",
       "    <tr>\n",
       "      <th>34298</th>\n",
       "      <td>996086871</td>\n",
       "      <td>WATERHOUSE CHARITABLE TR</td>\n",
       "      <td>T3</td>\n",
       "      <td>Independent</td>\n",
       "      <td>C1000</td>\n",
       "      <td>Preservation</td>\n",
       "      <td>Co-operative</td>\n",
       "      <td>1</td>\n",
       "      <td>1M-5M</td>\n",
       "      <td>N</td>\n",
       "      <td>36500179</td>\n",
       "      <td>0</td>\n",
       "    </tr>\n",
       "  </tbody>\n",
       "</table>\n",
       "<p>34299 rows × 12 columns</p>\n",
       "</div>"
      ],
      "text/plain": [
       "             EIN                                               NAME  \\\n",
       "0       10520599                       BLUE KNIGHTS MOTORCYCLE CLUB   \n",
       "1       10531628             AMERICAN CHESAPEAKE CLUB CHARITABLE TR   \n",
       "2       10547893                 ST CLOUD PROFESSIONAL FIREFIGHTERS   \n",
       "3       10553066                     SOUTHSIDE ATHLETIC ASSOCIATION   \n",
       "4       10556103           GENETIC RESEARCH INSTITUTE OF THE DESERT   \n",
       "...          ...                                                ...   \n",
       "34294  996009318              THE LIONS CLUB OF HONOLULU KAMEHAMEHA   \n",
       "34295  996010315           INTERNATIONAL ASSOCIATION OF LIONS CLUBS   \n",
       "34296  996012607                                PTA HAWAII CONGRESS   \n",
       "34297  996015768  AMERICAN FEDERATION OF GOVERNMENT EMPLOYEES LO...   \n",
       "34298  996086871                           WATERHOUSE CHARITABLE TR   \n",
       "\n",
       "      APPLICATION_TYPE       AFFILIATION CLASSIFICATION      USE_CASE  \\\n",
       "0                  T10       Independent          C1000    ProductDev   \n",
       "1                   T3       Independent          C2000  Preservation   \n",
       "2                   T5  CompanySponsored          C3000    ProductDev   \n",
       "3                   T3  CompanySponsored          C2000  Preservation   \n",
       "4                   T3       Independent          C1000     Heathcare   \n",
       "...                ...               ...            ...           ...   \n",
       "34294               T4       Independent          C1000    ProductDev   \n",
       "34295               T4  CompanySponsored          C3000    ProductDev   \n",
       "34296               T3  CompanySponsored          C2000  Preservation   \n",
       "34297               T5       Independent          C3000    ProductDev   \n",
       "34298               T3       Independent          C1000  Preservation   \n",
       "\n",
       "       ORGANIZATION  STATUS     INCOME_AMT SPECIAL_CONSIDERATIONS   ASK_AMT  \\\n",
       "0       Association       1              0                      N      5000   \n",
       "1      Co-operative       1         1-9999                      N    108590   \n",
       "2       Association       1              0                      N      5000   \n",
       "3             Trust       1    10000-24999                      N      6692   \n",
       "4             Trust       1  100000-499999                      N    142590   \n",
       "...             ...     ...            ...                    ...       ...   \n",
       "34294   Association       1              0                      N      5000   \n",
       "34295   Association       1              0                      N      5000   \n",
       "34296   Association       1              0                      N      5000   \n",
       "34297   Association       1              0                      N      5000   \n",
       "34298  Co-operative       1          1M-5M                      N  36500179   \n",
       "\n",
       "       IS_SUCCESSFUL  \n",
       "0                  1  \n",
       "1                  1  \n",
       "2                  0  \n",
       "3                  1  \n",
       "4                  1  \n",
       "...              ...  \n",
       "34294              0  \n",
       "34295              0  \n",
       "34296              0  \n",
       "34297              1  \n",
       "34298              0  \n",
       "\n",
       "[34299 rows x 12 columns]"
      ]
     },
     "execution_count": 2,
     "metadata": {},
     "output_type": "execute_result"
    }
   ],
   "source": [
    "# Read the applicants_data.csv file from the Resources folder into a Pandas DataFrame\n",
    "applicant_data_df = pd.read_csv(\n",
    "    Path(\"Resources/applicants_data.csv\")\n",
    ")\n",
    "\n",
    "\n",
    "# Review the DataFrame\n",
    "# YOUR CODE HERE\n",
    "applicant_data_df\n"
   ]
  },
  {
   "cell_type": "code",
   "execution_count": 3,
   "metadata": {
    "id": "C-WB0yc4URsE"
   },
   "outputs": [
    {
     "data": {
      "text/plain": [
       "EIN                        int64\n",
       "NAME                      object\n",
       "APPLICATION_TYPE          object\n",
       "AFFILIATION               object\n",
       "CLASSIFICATION            object\n",
       "USE_CASE                  object\n",
       "ORGANIZATION              object\n",
       "STATUS                     int64\n",
       "INCOME_AMT                object\n",
       "SPECIAL_CONSIDERATIONS    object\n",
       "ASK_AMT                    int64\n",
       "IS_SUCCESSFUL              int64\n",
       "dtype: object"
      ]
     },
     "execution_count": 3,
     "metadata": {},
     "output_type": "execute_result"
    }
   ],
   "source": [
    "# Review the data types associated with the columns\n",
    "# YOUR CODE HERE\n",
    "applicant_data_df.dtypes"
   ]
  },
  {
   "cell_type": "markdown",
   "metadata": {
    "id": "XCwg3ahTURsE"
   },
   "source": [
    "### Step 2: Drop the “EIN” (Employer Identification Number) and “NAME” columns from the DataFrame, because they are not relevant to the binary classification model."
   ]
  },
  {
   "cell_type": "code",
   "execution_count": 4,
   "metadata": {
    "id": "dj7yoYaAURsE"
   },
   "outputs": [],
   "source": [
    "# Drop the 'EIN' and 'NAME' columns from the DataFrame\n",
    "applicant_data_df = applicant_data_df.drop(columns =[\"EIN\", \"NAME\"],axis=1)\n",
    "#applicant_data_df.EIN\n",
    "#applicant_data_df.NAME\n",
    "\n",
    "\n",
    "# Review the DataFrame\n",
    "# YOUR CODE HERE\n",
    "# to see the drop out columns better to run on a seperate cell below .\n",
    "\n"
   ]
  },
  {
   "cell_type": "code",
   "execution_count": 5,
   "metadata": {},
   "outputs": [
    {
     "data": {
      "text/html": [
       "<div>\n",
       "<style scoped>\n",
       "    .dataframe tbody tr th:only-of-type {\n",
       "        vertical-align: middle;\n",
       "    }\n",
       "\n",
       "    .dataframe tbody tr th {\n",
       "        vertical-align: top;\n",
       "    }\n",
       "\n",
       "    .dataframe thead th {\n",
       "        text-align: right;\n",
       "    }\n",
       "</style>\n",
       "<table border=\"1\" class=\"dataframe\">\n",
       "  <thead>\n",
       "    <tr style=\"text-align: right;\">\n",
       "      <th></th>\n",
       "      <th>APPLICATION_TYPE</th>\n",
       "      <th>AFFILIATION</th>\n",
       "      <th>CLASSIFICATION</th>\n",
       "      <th>USE_CASE</th>\n",
       "      <th>ORGANIZATION</th>\n",
       "      <th>STATUS</th>\n",
       "      <th>INCOME_AMT</th>\n",
       "      <th>SPECIAL_CONSIDERATIONS</th>\n",
       "      <th>ASK_AMT</th>\n",
       "      <th>IS_SUCCESSFUL</th>\n",
       "    </tr>\n",
       "  </thead>\n",
       "  <tbody>\n",
       "    <tr>\n",
       "      <th>0</th>\n",
       "      <td>T10</td>\n",
       "      <td>Independent</td>\n",
       "      <td>C1000</td>\n",
       "      <td>ProductDev</td>\n",
       "      <td>Association</td>\n",
       "      <td>1</td>\n",
       "      <td>0</td>\n",
       "      <td>N</td>\n",
       "      <td>5000</td>\n",
       "      <td>1</td>\n",
       "    </tr>\n",
       "    <tr>\n",
       "      <th>1</th>\n",
       "      <td>T3</td>\n",
       "      <td>Independent</td>\n",
       "      <td>C2000</td>\n",
       "      <td>Preservation</td>\n",
       "      <td>Co-operative</td>\n",
       "      <td>1</td>\n",
       "      <td>1-9999</td>\n",
       "      <td>N</td>\n",
       "      <td>108590</td>\n",
       "      <td>1</td>\n",
       "    </tr>\n",
       "    <tr>\n",
       "      <th>2</th>\n",
       "      <td>T5</td>\n",
       "      <td>CompanySponsored</td>\n",
       "      <td>C3000</td>\n",
       "      <td>ProductDev</td>\n",
       "      <td>Association</td>\n",
       "      <td>1</td>\n",
       "      <td>0</td>\n",
       "      <td>N</td>\n",
       "      <td>5000</td>\n",
       "      <td>0</td>\n",
       "    </tr>\n",
       "    <tr>\n",
       "      <th>3</th>\n",
       "      <td>T3</td>\n",
       "      <td>CompanySponsored</td>\n",
       "      <td>C2000</td>\n",
       "      <td>Preservation</td>\n",
       "      <td>Trust</td>\n",
       "      <td>1</td>\n",
       "      <td>10000-24999</td>\n",
       "      <td>N</td>\n",
       "      <td>6692</td>\n",
       "      <td>1</td>\n",
       "    </tr>\n",
       "    <tr>\n",
       "      <th>4</th>\n",
       "      <td>T3</td>\n",
       "      <td>Independent</td>\n",
       "      <td>C1000</td>\n",
       "      <td>Heathcare</td>\n",
       "      <td>Trust</td>\n",
       "      <td>1</td>\n",
       "      <td>100000-499999</td>\n",
       "      <td>N</td>\n",
       "      <td>142590</td>\n",
       "      <td>1</td>\n",
       "    </tr>\n",
       "    <tr>\n",
       "      <th>...</th>\n",
       "      <td>...</td>\n",
       "      <td>...</td>\n",
       "      <td>...</td>\n",
       "      <td>...</td>\n",
       "      <td>...</td>\n",
       "      <td>...</td>\n",
       "      <td>...</td>\n",
       "      <td>...</td>\n",
       "      <td>...</td>\n",
       "      <td>...</td>\n",
       "    </tr>\n",
       "    <tr>\n",
       "      <th>34294</th>\n",
       "      <td>T4</td>\n",
       "      <td>Independent</td>\n",
       "      <td>C1000</td>\n",
       "      <td>ProductDev</td>\n",
       "      <td>Association</td>\n",
       "      <td>1</td>\n",
       "      <td>0</td>\n",
       "      <td>N</td>\n",
       "      <td>5000</td>\n",
       "      <td>0</td>\n",
       "    </tr>\n",
       "    <tr>\n",
       "      <th>34295</th>\n",
       "      <td>T4</td>\n",
       "      <td>CompanySponsored</td>\n",
       "      <td>C3000</td>\n",
       "      <td>ProductDev</td>\n",
       "      <td>Association</td>\n",
       "      <td>1</td>\n",
       "      <td>0</td>\n",
       "      <td>N</td>\n",
       "      <td>5000</td>\n",
       "      <td>0</td>\n",
       "    </tr>\n",
       "    <tr>\n",
       "      <th>34296</th>\n",
       "      <td>T3</td>\n",
       "      <td>CompanySponsored</td>\n",
       "      <td>C2000</td>\n",
       "      <td>Preservation</td>\n",
       "      <td>Association</td>\n",
       "      <td>1</td>\n",
       "      <td>0</td>\n",
       "      <td>N</td>\n",
       "      <td>5000</td>\n",
       "      <td>0</td>\n",
       "    </tr>\n",
       "    <tr>\n",
       "      <th>34297</th>\n",
       "      <td>T5</td>\n",
       "      <td>Independent</td>\n",
       "      <td>C3000</td>\n",
       "      <td>ProductDev</td>\n",
       "      <td>Association</td>\n",
       "      <td>1</td>\n",
       "      <td>0</td>\n",
       "      <td>N</td>\n",
       "      <td>5000</td>\n",
       "      <td>1</td>\n",
       "    </tr>\n",
       "    <tr>\n",
       "      <th>34298</th>\n",
       "      <td>T3</td>\n",
       "      <td>Independent</td>\n",
       "      <td>C1000</td>\n",
       "      <td>Preservation</td>\n",
       "      <td>Co-operative</td>\n",
       "      <td>1</td>\n",
       "      <td>1M-5M</td>\n",
       "      <td>N</td>\n",
       "      <td>36500179</td>\n",
       "      <td>0</td>\n",
       "    </tr>\n",
       "  </tbody>\n",
       "</table>\n",
       "<p>34299 rows × 10 columns</p>\n",
       "</div>"
      ],
      "text/plain": [
       "      APPLICATION_TYPE       AFFILIATION CLASSIFICATION      USE_CASE  \\\n",
       "0                  T10       Independent          C1000    ProductDev   \n",
       "1                   T3       Independent          C2000  Preservation   \n",
       "2                   T5  CompanySponsored          C3000    ProductDev   \n",
       "3                   T3  CompanySponsored          C2000  Preservation   \n",
       "4                   T3       Independent          C1000     Heathcare   \n",
       "...                ...               ...            ...           ...   \n",
       "34294               T4       Independent          C1000    ProductDev   \n",
       "34295               T4  CompanySponsored          C3000    ProductDev   \n",
       "34296               T3  CompanySponsored          C2000  Preservation   \n",
       "34297               T5       Independent          C3000    ProductDev   \n",
       "34298               T3       Independent          C1000  Preservation   \n",
       "\n",
       "       ORGANIZATION  STATUS     INCOME_AMT SPECIAL_CONSIDERATIONS   ASK_AMT  \\\n",
       "0       Association       1              0                      N      5000   \n",
       "1      Co-operative       1         1-9999                      N    108590   \n",
       "2       Association       1              0                      N      5000   \n",
       "3             Trust       1    10000-24999                      N      6692   \n",
       "4             Trust       1  100000-499999                      N    142590   \n",
       "...             ...     ...            ...                    ...       ...   \n",
       "34294   Association       1              0                      N      5000   \n",
       "34295   Association       1              0                      N      5000   \n",
       "34296   Association       1              0                      N      5000   \n",
       "34297   Association       1              0                      N      5000   \n",
       "34298  Co-operative       1          1M-5M                      N  36500179   \n",
       "\n",
       "       IS_SUCCESSFUL  \n",
       "0                  1  \n",
       "1                  1  \n",
       "2                  0  \n",
       "3                  1  \n",
       "4                  1  \n",
       "...              ...  \n",
       "34294              0  \n",
       "34295              0  \n",
       "34296              0  \n",
       "34297              1  \n",
       "34298              0  \n",
       "\n",
       "[34299 rows x 10 columns]"
      ]
     },
     "execution_count": 5,
     "metadata": {},
     "output_type": "execute_result"
    }
   ],
   "source": [
    "# Review the DataFrame\n",
    "applicant_data_df"
   ]
  },
  {
   "cell_type": "code",
   "execution_count": 6,
   "metadata": {
    "id": "aHv_okM7URsF"
   },
   "outputs": [
    {
     "data": {
      "text/plain": [
       "['APPLICATION_TYPE',\n",
       " 'AFFILIATION',\n",
       " 'CLASSIFICATION',\n",
       " 'USE_CASE',\n",
       " 'ORGANIZATION',\n",
       " 'INCOME_AMT',\n",
       " 'SPECIAL_CONSIDERATIONS']"
      ]
     },
     "execution_count": 6,
     "metadata": {},
     "output_type": "execute_result"
    }
   ],
   "source": [
    "# Create a list of categorical variables \n",
    "categorical_variables = list(applicant_data_df.dtypes[applicant_data_df.dtypes == \"object\"].index)\n",
    "\n",
    "# Display the categorical variables list\n",
    "# YOUR CODE HERE\n",
    "categorical_variables\n",
    "\n"
   ]
  },
  {
   "cell_type": "code",
   "execution_count": 7,
   "metadata": {},
   "outputs": [],
   "source": [
    "### Step 3: Encode the dataset’s categorical variables using `OneHotEncoder`, and then place the encoded variables into a new DataFrame."
   ]
  },
  {
   "cell_type": "code",
   "execution_count": 8,
   "metadata": {
    "id": "IizC83_xURsF"
   },
   "outputs": [],
   "source": [
    "# Create a OneHotEncoder instance\n",
    "enc = OneHotEncoder(sparse=False)\n"
   ]
  },
  {
   "cell_type": "code",
   "execution_count": 9,
   "metadata": {
    "id": "fLUlCo48URsF"
   },
   "outputs": [],
   "source": [
    "# Encode the categorcal variables using OneHotEncoder\n",
    "encoded_data = enc.fit_transform(applicant_data_df[categorical_variables])\n"
   ]
  },
  {
   "cell_type": "code",
   "execution_count": 10,
   "metadata": {
    "id": "Bj-Hc08qURsF"
   },
   "outputs": [
    {
     "data": {
      "text/html": [
       "<div>\n",
       "<style scoped>\n",
       "    .dataframe tbody tr th:only-of-type {\n",
       "        vertical-align: middle;\n",
       "    }\n",
       "\n",
       "    .dataframe tbody tr th {\n",
       "        vertical-align: top;\n",
       "    }\n",
       "\n",
       "    .dataframe thead th {\n",
       "        text-align: right;\n",
       "    }\n",
       "</style>\n",
       "<table border=\"1\" class=\"dataframe\">\n",
       "  <thead>\n",
       "    <tr style=\"text-align: right;\">\n",
       "      <th></th>\n",
       "      <th>APPLICATION_TYPE_T10</th>\n",
       "      <th>APPLICATION_TYPE_T12</th>\n",
       "      <th>APPLICATION_TYPE_T13</th>\n",
       "      <th>APPLICATION_TYPE_T14</th>\n",
       "      <th>APPLICATION_TYPE_T15</th>\n",
       "      <th>APPLICATION_TYPE_T17</th>\n",
       "      <th>APPLICATION_TYPE_T19</th>\n",
       "      <th>APPLICATION_TYPE_T2</th>\n",
       "      <th>APPLICATION_TYPE_T25</th>\n",
       "      <th>APPLICATION_TYPE_T29</th>\n",
       "      <th>...</th>\n",
       "      <th>INCOME_AMT_1-9999</th>\n",
       "      <th>INCOME_AMT_10000-24999</th>\n",
       "      <th>INCOME_AMT_100000-499999</th>\n",
       "      <th>INCOME_AMT_10M-50M</th>\n",
       "      <th>INCOME_AMT_1M-5M</th>\n",
       "      <th>INCOME_AMT_25000-99999</th>\n",
       "      <th>INCOME_AMT_50M+</th>\n",
       "      <th>INCOME_AMT_5M-10M</th>\n",
       "      <th>SPECIAL_CONSIDERATIONS_N</th>\n",
       "      <th>SPECIAL_CONSIDERATIONS_Y</th>\n",
       "    </tr>\n",
       "  </thead>\n",
       "  <tbody>\n",
       "    <tr>\n",
       "      <th>0</th>\n",
       "      <td>1.0</td>\n",
       "      <td>0.0</td>\n",
       "      <td>0.0</td>\n",
       "      <td>0.0</td>\n",
       "      <td>0.0</td>\n",
       "      <td>0.0</td>\n",
       "      <td>0.0</td>\n",
       "      <td>0.0</td>\n",
       "      <td>0.0</td>\n",
       "      <td>0.0</td>\n",
       "      <td>...</td>\n",
       "      <td>0.0</td>\n",
       "      <td>0.0</td>\n",
       "      <td>0.0</td>\n",
       "      <td>0.0</td>\n",
       "      <td>0.0</td>\n",
       "      <td>0.0</td>\n",
       "      <td>0.0</td>\n",
       "      <td>0.0</td>\n",
       "      <td>1.0</td>\n",
       "      <td>0.0</td>\n",
       "    </tr>\n",
       "    <tr>\n",
       "      <th>1</th>\n",
       "      <td>0.0</td>\n",
       "      <td>0.0</td>\n",
       "      <td>0.0</td>\n",
       "      <td>0.0</td>\n",
       "      <td>0.0</td>\n",
       "      <td>0.0</td>\n",
       "      <td>0.0</td>\n",
       "      <td>0.0</td>\n",
       "      <td>0.0</td>\n",
       "      <td>0.0</td>\n",
       "      <td>...</td>\n",
       "      <td>1.0</td>\n",
       "      <td>0.0</td>\n",
       "      <td>0.0</td>\n",
       "      <td>0.0</td>\n",
       "      <td>0.0</td>\n",
       "      <td>0.0</td>\n",
       "      <td>0.0</td>\n",
       "      <td>0.0</td>\n",
       "      <td>1.0</td>\n",
       "      <td>0.0</td>\n",
       "    </tr>\n",
       "    <tr>\n",
       "      <th>2</th>\n",
       "      <td>0.0</td>\n",
       "      <td>0.0</td>\n",
       "      <td>0.0</td>\n",
       "      <td>0.0</td>\n",
       "      <td>0.0</td>\n",
       "      <td>0.0</td>\n",
       "      <td>0.0</td>\n",
       "      <td>0.0</td>\n",
       "      <td>0.0</td>\n",
       "      <td>0.0</td>\n",
       "      <td>...</td>\n",
       "      <td>0.0</td>\n",
       "      <td>0.0</td>\n",
       "      <td>0.0</td>\n",
       "      <td>0.0</td>\n",
       "      <td>0.0</td>\n",
       "      <td>0.0</td>\n",
       "      <td>0.0</td>\n",
       "      <td>0.0</td>\n",
       "      <td>1.0</td>\n",
       "      <td>0.0</td>\n",
       "    </tr>\n",
       "    <tr>\n",
       "      <th>3</th>\n",
       "      <td>0.0</td>\n",
       "      <td>0.0</td>\n",
       "      <td>0.0</td>\n",
       "      <td>0.0</td>\n",
       "      <td>0.0</td>\n",
       "      <td>0.0</td>\n",
       "      <td>0.0</td>\n",
       "      <td>0.0</td>\n",
       "      <td>0.0</td>\n",
       "      <td>0.0</td>\n",
       "      <td>...</td>\n",
       "      <td>0.0</td>\n",
       "      <td>1.0</td>\n",
       "      <td>0.0</td>\n",
       "      <td>0.0</td>\n",
       "      <td>0.0</td>\n",
       "      <td>0.0</td>\n",
       "      <td>0.0</td>\n",
       "      <td>0.0</td>\n",
       "      <td>1.0</td>\n",
       "      <td>0.0</td>\n",
       "    </tr>\n",
       "    <tr>\n",
       "      <th>4</th>\n",
       "      <td>0.0</td>\n",
       "      <td>0.0</td>\n",
       "      <td>0.0</td>\n",
       "      <td>0.0</td>\n",
       "      <td>0.0</td>\n",
       "      <td>0.0</td>\n",
       "      <td>0.0</td>\n",
       "      <td>0.0</td>\n",
       "      <td>0.0</td>\n",
       "      <td>0.0</td>\n",
       "      <td>...</td>\n",
       "      <td>0.0</td>\n",
       "      <td>0.0</td>\n",
       "      <td>1.0</td>\n",
       "      <td>0.0</td>\n",
       "      <td>0.0</td>\n",
       "      <td>0.0</td>\n",
       "      <td>0.0</td>\n",
       "      <td>0.0</td>\n",
       "      <td>1.0</td>\n",
       "      <td>0.0</td>\n",
       "    </tr>\n",
       "  </tbody>\n",
       "</table>\n",
       "<p>5 rows × 114 columns</p>\n",
       "</div>"
      ],
      "text/plain": [
       "   APPLICATION_TYPE_T10  APPLICATION_TYPE_T12  APPLICATION_TYPE_T13  \\\n",
       "0                   1.0                   0.0                   0.0   \n",
       "1                   0.0                   0.0                   0.0   \n",
       "2                   0.0                   0.0                   0.0   \n",
       "3                   0.0                   0.0                   0.0   \n",
       "4                   0.0                   0.0                   0.0   \n",
       "\n",
       "   APPLICATION_TYPE_T14  APPLICATION_TYPE_T15  APPLICATION_TYPE_T17  \\\n",
       "0                   0.0                   0.0                   0.0   \n",
       "1                   0.0                   0.0                   0.0   \n",
       "2                   0.0                   0.0                   0.0   \n",
       "3                   0.0                   0.0                   0.0   \n",
       "4                   0.0                   0.0                   0.0   \n",
       "\n",
       "   APPLICATION_TYPE_T19  APPLICATION_TYPE_T2  APPLICATION_TYPE_T25  \\\n",
       "0                   0.0                  0.0                   0.0   \n",
       "1                   0.0                  0.0                   0.0   \n",
       "2                   0.0                  0.0                   0.0   \n",
       "3                   0.0                  0.0                   0.0   \n",
       "4                   0.0                  0.0                   0.0   \n",
       "\n",
       "   APPLICATION_TYPE_T29  ...  INCOME_AMT_1-9999  INCOME_AMT_10000-24999  \\\n",
       "0                   0.0  ...                0.0                     0.0   \n",
       "1                   0.0  ...                1.0                     0.0   \n",
       "2                   0.0  ...                0.0                     0.0   \n",
       "3                   0.0  ...                0.0                     1.0   \n",
       "4                   0.0  ...                0.0                     0.0   \n",
       "\n",
       "   INCOME_AMT_100000-499999  INCOME_AMT_10M-50M  INCOME_AMT_1M-5M  \\\n",
       "0                       0.0                 0.0               0.0   \n",
       "1                       0.0                 0.0               0.0   \n",
       "2                       0.0                 0.0               0.0   \n",
       "3                       0.0                 0.0               0.0   \n",
       "4                       1.0                 0.0               0.0   \n",
       "\n",
       "   INCOME_AMT_25000-99999  INCOME_AMT_50M+  INCOME_AMT_5M-10M  \\\n",
       "0                     0.0              0.0                0.0   \n",
       "1                     0.0              0.0                0.0   \n",
       "2                     0.0              0.0                0.0   \n",
       "3                     0.0              0.0                0.0   \n",
       "4                     0.0              0.0                0.0   \n",
       "\n",
       "   SPECIAL_CONSIDERATIONS_N  SPECIAL_CONSIDERATIONS_Y  \n",
       "0                       1.0                       0.0  \n",
       "1                       1.0                       0.0  \n",
       "2                       1.0                       0.0  \n",
       "3                       1.0                       0.0  \n",
       "4                       1.0                       0.0  \n",
       "\n",
       "[5 rows x 114 columns]"
      ]
     },
     "execution_count": 10,
     "metadata": {},
     "output_type": "execute_result"
    }
   ],
   "source": [
    "# Create a DataFrame with the encoded variables\n",
    "encoded_df = pd.DataFrame(\n",
    "    encoded_data,\n",
    "    columns = enc.get_feature_names(categorical_variables)\n",
    ")\n",
    "\n",
    "# Review the DataFrame\n",
    "# YOUR CODE HERE\n",
    "encoded_df.head()\n",
    "\n"
   ]
  },
  {
   "cell_type": "markdown",
   "metadata": {
    "id": "A8Bd0AQTURsF"
   },
   "source": [
    "### Step 4: Add the original DataFrame’s numerical variables to the DataFrame containing the encoded variables.\n",
    "\n",
    "> **Note** To complete this step, you will employ the Pandas `concat()` function that was introduced earlier in this course. "
   ]
  },
  {
   "cell_type": "code",
   "execution_count": 11,
   "metadata": {
    "id": "r43_PQpFURsG"
   },
   "outputs": [
    {
     "data": {
      "text/html": [
       "<div>\n",
       "<style scoped>\n",
       "    .dataframe tbody tr th:only-of-type {\n",
       "        vertical-align: middle;\n",
       "    }\n",
       "\n",
       "    .dataframe tbody tr th {\n",
       "        vertical-align: top;\n",
       "    }\n",
       "\n",
       "    .dataframe thead th {\n",
       "        text-align: right;\n",
       "    }\n",
       "</style>\n",
       "<table border=\"1\" class=\"dataframe\">\n",
       "  <thead>\n",
       "    <tr style=\"text-align: right;\">\n",
       "      <th></th>\n",
       "      <th>STATUS</th>\n",
       "      <th>ASK_AMT</th>\n",
       "      <th>IS_SUCCESSFUL</th>\n",
       "    </tr>\n",
       "  </thead>\n",
       "  <tbody>\n",
       "    <tr>\n",
       "      <th>0</th>\n",
       "      <td>1</td>\n",
       "      <td>5000</td>\n",
       "      <td>1</td>\n",
       "    </tr>\n",
       "    <tr>\n",
       "      <th>1</th>\n",
       "      <td>1</td>\n",
       "      <td>108590</td>\n",
       "      <td>1</td>\n",
       "    </tr>\n",
       "    <tr>\n",
       "      <th>2</th>\n",
       "      <td>1</td>\n",
       "      <td>5000</td>\n",
       "      <td>0</td>\n",
       "    </tr>\n",
       "    <tr>\n",
       "      <th>3</th>\n",
       "      <td>1</td>\n",
       "      <td>6692</td>\n",
       "      <td>1</td>\n",
       "    </tr>\n",
       "    <tr>\n",
       "      <th>4</th>\n",
       "      <td>1</td>\n",
       "      <td>142590</td>\n",
       "      <td>1</td>\n",
       "    </tr>\n",
       "  </tbody>\n",
       "</table>\n",
       "</div>"
      ],
      "text/plain": [
       "   STATUS  ASK_AMT  IS_SUCCESSFUL\n",
       "0       1     5000              1\n",
       "1       1   108590              1\n",
       "2       1     5000              0\n",
       "3       1     6692              1\n",
       "4       1   142590              1"
      ]
     },
     "execution_count": 11,
     "metadata": {},
     "output_type": "execute_result"
    }
   ],
   "source": [
    "# Add the numerical variables from the original DataFrame to the one-hot encoding DataFrame\n",
    "# first lets create the numerical variable\n",
    "numerical_variables_df = applicant_data_df.drop(columns = categorical_variables)\n",
    "#encoded_df = # YOUR CODE HERE\n",
    "\n",
    "# Review the Dataframe\n",
    "# YOUR CODE HERE\n",
    "numerical_variables_df.head()\n"
   ]
  },
  {
   "cell_type": "code",
   "execution_count": 12,
   "metadata": {},
   "outputs": [
    {
     "data": {
      "text/html": [
       "<div>\n",
       "<style scoped>\n",
       "    .dataframe tbody tr th:only-of-type {\n",
       "        vertical-align: middle;\n",
       "    }\n",
       "\n",
       "    .dataframe tbody tr th {\n",
       "        vertical-align: top;\n",
       "    }\n",
       "\n",
       "    .dataframe thead th {\n",
       "        text-align: right;\n",
       "    }\n",
       "</style>\n",
       "<table border=\"1\" class=\"dataframe\">\n",
       "  <thead>\n",
       "    <tr style=\"text-align: right;\">\n",
       "      <th></th>\n",
       "      <th>STATUS</th>\n",
       "      <th>ASK_AMT</th>\n",
       "      <th>IS_SUCCESSFUL</th>\n",
       "      <th>APPLICATION_TYPE_T10</th>\n",
       "      <th>APPLICATION_TYPE_T12</th>\n",
       "      <th>APPLICATION_TYPE_T13</th>\n",
       "      <th>APPLICATION_TYPE_T14</th>\n",
       "      <th>APPLICATION_TYPE_T15</th>\n",
       "      <th>APPLICATION_TYPE_T17</th>\n",
       "      <th>APPLICATION_TYPE_T19</th>\n",
       "      <th>...</th>\n",
       "      <th>INCOME_AMT_1-9999</th>\n",
       "      <th>INCOME_AMT_10000-24999</th>\n",
       "      <th>INCOME_AMT_100000-499999</th>\n",
       "      <th>INCOME_AMT_10M-50M</th>\n",
       "      <th>INCOME_AMT_1M-5M</th>\n",
       "      <th>INCOME_AMT_25000-99999</th>\n",
       "      <th>INCOME_AMT_50M+</th>\n",
       "      <th>INCOME_AMT_5M-10M</th>\n",
       "      <th>SPECIAL_CONSIDERATIONS_N</th>\n",
       "      <th>SPECIAL_CONSIDERATIONS_Y</th>\n",
       "    </tr>\n",
       "  </thead>\n",
       "  <tbody>\n",
       "    <tr>\n",
       "      <th>0</th>\n",
       "      <td>1</td>\n",
       "      <td>5000</td>\n",
       "      <td>1</td>\n",
       "      <td>1.0</td>\n",
       "      <td>0.0</td>\n",
       "      <td>0.0</td>\n",
       "      <td>0.0</td>\n",
       "      <td>0.0</td>\n",
       "      <td>0.0</td>\n",
       "      <td>0.0</td>\n",
       "      <td>...</td>\n",
       "      <td>0.0</td>\n",
       "      <td>0.0</td>\n",
       "      <td>0.0</td>\n",
       "      <td>0.0</td>\n",
       "      <td>0.0</td>\n",
       "      <td>0.0</td>\n",
       "      <td>0.0</td>\n",
       "      <td>0.0</td>\n",
       "      <td>1.0</td>\n",
       "      <td>0.0</td>\n",
       "    </tr>\n",
       "    <tr>\n",
       "      <th>1</th>\n",
       "      <td>1</td>\n",
       "      <td>108590</td>\n",
       "      <td>1</td>\n",
       "      <td>0.0</td>\n",
       "      <td>0.0</td>\n",
       "      <td>0.0</td>\n",
       "      <td>0.0</td>\n",
       "      <td>0.0</td>\n",
       "      <td>0.0</td>\n",
       "      <td>0.0</td>\n",
       "      <td>...</td>\n",
       "      <td>1.0</td>\n",
       "      <td>0.0</td>\n",
       "      <td>0.0</td>\n",
       "      <td>0.0</td>\n",
       "      <td>0.0</td>\n",
       "      <td>0.0</td>\n",
       "      <td>0.0</td>\n",
       "      <td>0.0</td>\n",
       "      <td>1.0</td>\n",
       "      <td>0.0</td>\n",
       "    </tr>\n",
       "    <tr>\n",
       "      <th>2</th>\n",
       "      <td>1</td>\n",
       "      <td>5000</td>\n",
       "      <td>0</td>\n",
       "      <td>0.0</td>\n",
       "      <td>0.0</td>\n",
       "      <td>0.0</td>\n",
       "      <td>0.0</td>\n",
       "      <td>0.0</td>\n",
       "      <td>0.0</td>\n",
       "      <td>0.0</td>\n",
       "      <td>...</td>\n",
       "      <td>0.0</td>\n",
       "      <td>0.0</td>\n",
       "      <td>0.0</td>\n",
       "      <td>0.0</td>\n",
       "      <td>0.0</td>\n",
       "      <td>0.0</td>\n",
       "      <td>0.0</td>\n",
       "      <td>0.0</td>\n",
       "      <td>1.0</td>\n",
       "      <td>0.0</td>\n",
       "    </tr>\n",
       "    <tr>\n",
       "      <th>3</th>\n",
       "      <td>1</td>\n",
       "      <td>6692</td>\n",
       "      <td>1</td>\n",
       "      <td>0.0</td>\n",
       "      <td>0.0</td>\n",
       "      <td>0.0</td>\n",
       "      <td>0.0</td>\n",
       "      <td>0.0</td>\n",
       "      <td>0.0</td>\n",
       "      <td>0.0</td>\n",
       "      <td>...</td>\n",
       "      <td>0.0</td>\n",
       "      <td>1.0</td>\n",
       "      <td>0.0</td>\n",
       "      <td>0.0</td>\n",
       "      <td>0.0</td>\n",
       "      <td>0.0</td>\n",
       "      <td>0.0</td>\n",
       "      <td>0.0</td>\n",
       "      <td>1.0</td>\n",
       "      <td>0.0</td>\n",
       "    </tr>\n",
       "    <tr>\n",
       "      <th>4</th>\n",
       "      <td>1</td>\n",
       "      <td>142590</td>\n",
       "      <td>1</td>\n",
       "      <td>0.0</td>\n",
       "      <td>0.0</td>\n",
       "      <td>0.0</td>\n",
       "      <td>0.0</td>\n",
       "      <td>0.0</td>\n",
       "      <td>0.0</td>\n",
       "      <td>0.0</td>\n",
       "      <td>...</td>\n",
       "      <td>0.0</td>\n",
       "      <td>0.0</td>\n",
       "      <td>1.0</td>\n",
       "      <td>0.0</td>\n",
       "      <td>0.0</td>\n",
       "      <td>0.0</td>\n",
       "      <td>0.0</td>\n",
       "      <td>0.0</td>\n",
       "      <td>1.0</td>\n",
       "      <td>0.0</td>\n",
       "    </tr>\n",
       "    <tr>\n",
       "      <th>...</th>\n",
       "      <td>...</td>\n",
       "      <td>...</td>\n",
       "      <td>...</td>\n",
       "      <td>...</td>\n",
       "      <td>...</td>\n",
       "      <td>...</td>\n",
       "      <td>...</td>\n",
       "      <td>...</td>\n",
       "      <td>...</td>\n",
       "      <td>...</td>\n",
       "      <td>...</td>\n",
       "      <td>...</td>\n",
       "      <td>...</td>\n",
       "      <td>...</td>\n",
       "      <td>...</td>\n",
       "      <td>...</td>\n",
       "      <td>...</td>\n",
       "      <td>...</td>\n",
       "      <td>...</td>\n",
       "      <td>...</td>\n",
       "      <td>...</td>\n",
       "    </tr>\n",
       "    <tr>\n",
       "      <th>34294</th>\n",
       "      <td>1</td>\n",
       "      <td>5000</td>\n",
       "      <td>0</td>\n",
       "      <td>0.0</td>\n",
       "      <td>0.0</td>\n",
       "      <td>0.0</td>\n",
       "      <td>0.0</td>\n",
       "      <td>0.0</td>\n",
       "      <td>0.0</td>\n",
       "      <td>0.0</td>\n",
       "      <td>...</td>\n",
       "      <td>0.0</td>\n",
       "      <td>0.0</td>\n",
       "      <td>0.0</td>\n",
       "      <td>0.0</td>\n",
       "      <td>0.0</td>\n",
       "      <td>0.0</td>\n",
       "      <td>0.0</td>\n",
       "      <td>0.0</td>\n",
       "      <td>1.0</td>\n",
       "      <td>0.0</td>\n",
       "    </tr>\n",
       "    <tr>\n",
       "      <th>34295</th>\n",
       "      <td>1</td>\n",
       "      <td>5000</td>\n",
       "      <td>0</td>\n",
       "      <td>0.0</td>\n",
       "      <td>0.0</td>\n",
       "      <td>0.0</td>\n",
       "      <td>0.0</td>\n",
       "      <td>0.0</td>\n",
       "      <td>0.0</td>\n",
       "      <td>0.0</td>\n",
       "      <td>...</td>\n",
       "      <td>0.0</td>\n",
       "      <td>0.0</td>\n",
       "      <td>0.0</td>\n",
       "      <td>0.0</td>\n",
       "      <td>0.0</td>\n",
       "      <td>0.0</td>\n",
       "      <td>0.0</td>\n",
       "      <td>0.0</td>\n",
       "      <td>1.0</td>\n",
       "      <td>0.0</td>\n",
       "    </tr>\n",
       "    <tr>\n",
       "      <th>34296</th>\n",
       "      <td>1</td>\n",
       "      <td>5000</td>\n",
       "      <td>0</td>\n",
       "      <td>0.0</td>\n",
       "      <td>0.0</td>\n",
       "      <td>0.0</td>\n",
       "      <td>0.0</td>\n",
       "      <td>0.0</td>\n",
       "      <td>0.0</td>\n",
       "      <td>0.0</td>\n",
       "      <td>...</td>\n",
       "      <td>0.0</td>\n",
       "      <td>0.0</td>\n",
       "      <td>0.0</td>\n",
       "      <td>0.0</td>\n",
       "      <td>0.0</td>\n",
       "      <td>0.0</td>\n",
       "      <td>0.0</td>\n",
       "      <td>0.0</td>\n",
       "      <td>1.0</td>\n",
       "      <td>0.0</td>\n",
       "    </tr>\n",
       "    <tr>\n",
       "      <th>34297</th>\n",
       "      <td>1</td>\n",
       "      <td>5000</td>\n",
       "      <td>1</td>\n",
       "      <td>0.0</td>\n",
       "      <td>0.0</td>\n",
       "      <td>0.0</td>\n",
       "      <td>0.0</td>\n",
       "      <td>0.0</td>\n",
       "      <td>0.0</td>\n",
       "      <td>0.0</td>\n",
       "      <td>...</td>\n",
       "      <td>0.0</td>\n",
       "      <td>0.0</td>\n",
       "      <td>0.0</td>\n",
       "      <td>0.0</td>\n",
       "      <td>0.0</td>\n",
       "      <td>0.0</td>\n",
       "      <td>0.0</td>\n",
       "      <td>0.0</td>\n",
       "      <td>1.0</td>\n",
       "      <td>0.0</td>\n",
       "    </tr>\n",
       "    <tr>\n",
       "      <th>34298</th>\n",
       "      <td>1</td>\n",
       "      <td>36500179</td>\n",
       "      <td>0</td>\n",
       "      <td>0.0</td>\n",
       "      <td>0.0</td>\n",
       "      <td>0.0</td>\n",
       "      <td>0.0</td>\n",
       "      <td>0.0</td>\n",
       "      <td>0.0</td>\n",
       "      <td>0.0</td>\n",
       "      <td>...</td>\n",
       "      <td>0.0</td>\n",
       "      <td>0.0</td>\n",
       "      <td>0.0</td>\n",
       "      <td>0.0</td>\n",
       "      <td>1.0</td>\n",
       "      <td>0.0</td>\n",
       "      <td>0.0</td>\n",
       "      <td>0.0</td>\n",
       "      <td>1.0</td>\n",
       "      <td>0.0</td>\n",
       "    </tr>\n",
       "  </tbody>\n",
       "</table>\n",
       "<p>34299 rows × 117 columns</p>\n",
       "</div>"
      ],
      "text/plain": [
       "       STATUS   ASK_AMT  IS_SUCCESSFUL  APPLICATION_TYPE_T10  \\\n",
       "0           1      5000              1                   1.0   \n",
       "1           1    108590              1                   0.0   \n",
       "2           1      5000              0                   0.0   \n",
       "3           1      6692              1                   0.0   \n",
       "4           1    142590              1                   0.0   \n",
       "...       ...       ...            ...                   ...   \n",
       "34294       1      5000              0                   0.0   \n",
       "34295       1      5000              0                   0.0   \n",
       "34296       1      5000              0                   0.0   \n",
       "34297       1      5000              1                   0.0   \n",
       "34298       1  36500179              0                   0.0   \n",
       "\n",
       "       APPLICATION_TYPE_T12  APPLICATION_TYPE_T13  APPLICATION_TYPE_T14  \\\n",
       "0                       0.0                   0.0                   0.0   \n",
       "1                       0.0                   0.0                   0.0   \n",
       "2                       0.0                   0.0                   0.0   \n",
       "3                       0.0                   0.0                   0.0   \n",
       "4                       0.0                   0.0                   0.0   \n",
       "...                     ...                   ...                   ...   \n",
       "34294                   0.0                   0.0                   0.0   \n",
       "34295                   0.0                   0.0                   0.0   \n",
       "34296                   0.0                   0.0                   0.0   \n",
       "34297                   0.0                   0.0                   0.0   \n",
       "34298                   0.0                   0.0                   0.0   \n",
       "\n",
       "       APPLICATION_TYPE_T15  APPLICATION_TYPE_T17  APPLICATION_TYPE_T19  ...  \\\n",
       "0                       0.0                   0.0                   0.0  ...   \n",
       "1                       0.0                   0.0                   0.0  ...   \n",
       "2                       0.0                   0.0                   0.0  ...   \n",
       "3                       0.0                   0.0                   0.0  ...   \n",
       "4                       0.0                   0.0                   0.0  ...   \n",
       "...                     ...                   ...                   ...  ...   \n",
       "34294                   0.0                   0.0                   0.0  ...   \n",
       "34295                   0.0                   0.0                   0.0  ...   \n",
       "34296                   0.0                   0.0                   0.0  ...   \n",
       "34297                   0.0                   0.0                   0.0  ...   \n",
       "34298                   0.0                   0.0                   0.0  ...   \n",
       "\n",
       "       INCOME_AMT_1-9999  INCOME_AMT_10000-24999  INCOME_AMT_100000-499999  \\\n",
       "0                    0.0                     0.0                       0.0   \n",
       "1                    1.0                     0.0                       0.0   \n",
       "2                    0.0                     0.0                       0.0   \n",
       "3                    0.0                     1.0                       0.0   \n",
       "4                    0.0                     0.0                       1.0   \n",
       "...                  ...                     ...                       ...   \n",
       "34294                0.0                     0.0                       0.0   \n",
       "34295                0.0                     0.0                       0.0   \n",
       "34296                0.0                     0.0                       0.0   \n",
       "34297                0.0                     0.0                       0.0   \n",
       "34298                0.0                     0.0                       0.0   \n",
       "\n",
       "       INCOME_AMT_10M-50M  INCOME_AMT_1M-5M  INCOME_AMT_25000-99999  \\\n",
       "0                     0.0               0.0                     0.0   \n",
       "1                     0.0               0.0                     0.0   \n",
       "2                     0.0               0.0                     0.0   \n",
       "3                     0.0               0.0                     0.0   \n",
       "4                     0.0               0.0                     0.0   \n",
       "...                   ...               ...                     ...   \n",
       "34294                 0.0               0.0                     0.0   \n",
       "34295                 0.0               0.0                     0.0   \n",
       "34296                 0.0               0.0                     0.0   \n",
       "34297                 0.0               0.0                     0.0   \n",
       "34298                 0.0               1.0                     0.0   \n",
       "\n",
       "       INCOME_AMT_50M+  INCOME_AMT_5M-10M  SPECIAL_CONSIDERATIONS_N  \\\n",
       "0                  0.0                0.0                       1.0   \n",
       "1                  0.0                0.0                       1.0   \n",
       "2                  0.0                0.0                       1.0   \n",
       "3                  0.0                0.0                       1.0   \n",
       "4                  0.0                0.0                       1.0   \n",
       "...                ...                ...                       ...   \n",
       "34294              0.0                0.0                       1.0   \n",
       "34295              0.0                0.0                       1.0   \n",
       "34296              0.0                0.0                       1.0   \n",
       "34297              0.0                0.0                       1.0   \n",
       "34298              0.0                0.0                       1.0   \n",
       "\n",
       "       SPECIAL_CONSIDERATIONS_Y  \n",
       "0                           0.0  \n",
       "1                           0.0  \n",
       "2                           0.0  \n",
       "3                           0.0  \n",
       "4                           0.0  \n",
       "...                         ...  \n",
       "34294                       0.0  \n",
       "34295                       0.0  \n",
       "34296                       0.0  \n",
       "34297                       0.0  \n",
       "34298                       0.0  \n",
       "\n",
       "[34299 rows x 117 columns]"
      ]
     },
     "execution_count": 12,
     "metadata": {},
     "output_type": "execute_result"
    }
   ],
   "source": [
    "encoded_df = pd.concat([numerical_variables_df,encoded_df],axis=1)\n",
    "encoded_df"
   ]
  },
  {
   "cell_type": "markdown",
   "metadata": {
    "id": "RJHzn3uyURsG"
   },
   "source": [
    "### Step 5: Using the preprocessed data, create the features (`X`) and target (`y`) datasets. The target dataset should be defined by the preprocessed DataFrame column “IS_SUCCESSFUL”. The remaining columns should define the features dataset. \n",
    "\n"
   ]
  },
  {
   "cell_type": "code",
   "execution_count": 13,
   "metadata": {
    "id": "XpmWKy35URsG"
   },
   "outputs": [
    {
     "data": {
      "text/plain": [
       "0    1\n",
       "1    1\n",
       "2    0\n",
       "3    1\n",
       "4    1\n",
       "Name: IS_SUCCESSFUL, dtype: int64"
      ]
     },
     "execution_count": 13,
     "metadata": {},
     "output_type": "execute_result"
    }
   ],
   "source": [
    "# Define the target set y using the IS_SUCCESSFUL column\n",
    "# YOUR CODE HERE\n",
    "y = encoded_df[\"IS_SUCCESSFUL\"]\n",
    "\n",
    "\n",
    "# Display a sample of y\n",
    "# YOUR CODE HERE\n",
    "y[:5]\n"
   ]
  },
  {
   "cell_type": "code",
   "execution_count": 14,
   "metadata": {
    "id": "SzVEfRlaURsG"
   },
   "outputs": [
    {
     "data": {
      "text/html": [
       "<div>\n",
       "<style scoped>\n",
       "    .dataframe tbody tr th:only-of-type {\n",
       "        vertical-align: middle;\n",
       "    }\n",
       "\n",
       "    .dataframe tbody tr th {\n",
       "        vertical-align: top;\n",
       "    }\n",
       "\n",
       "    .dataframe thead th {\n",
       "        text-align: right;\n",
       "    }\n",
       "</style>\n",
       "<table border=\"1\" class=\"dataframe\">\n",
       "  <thead>\n",
       "    <tr style=\"text-align: right;\">\n",
       "      <th></th>\n",
       "      <th>STATUS</th>\n",
       "      <th>ASK_AMT</th>\n",
       "      <th>APPLICATION_TYPE_T10</th>\n",
       "      <th>APPLICATION_TYPE_T12</th>\n",
       "      <th>APPLICATION_TYPE_T13</th>\n",
       "      <th>APPLICATION_TYPE_T14</th>\n",
       "      <th>APPLICATION_TYPE_T15</th>\n",
       "      <th>APPLICATION_TYPE_T17</th>\n",
       "      <th>APPLICATION_TYPE_T19</th>\n",
       "      <th>APPLICATION_TYPE_T2</th>\n",
       "      <th>...</th>\n",
       "      <th>INCOME_AMT_1-9999</th>\n",
       "      <th>INCOME_AMT_10000-24999</th>\n",
       "      <th>INCOME_AMT_100000-499999</th>\n",
       "      <th>INCOME_AMT_10M-50M</th>\n",
       "      <th>INCOME_AMT_1M-5M</th>\n",
       "      <th>INCOME_AMT_25000-99999</th>\n",
       "      <th>INCOME_AMT_50M+</th>\n",
       "      <th>INCOME_AMT_5M-10M</th>\n",
       "      <th>SPECIAL_CONSIDERATIONS_N</th>\n",
       "      <th>SPECIAL_CONSIDERATIONS_Y</th>\n",
       "    </tr>\n",
       "  </thead>\n",
       "  <tbody>\n",
       "    <tr>\n",
       "      <th>0</th>\n",
       "      <td>1</td>\n",
       "      <td>5000</td>\n",
       "      <td>1.0</td>\n",
       "      <td>0.0</td>\n",
       "      <td>0.0</td>\n",
       "      <td>0.0</td>\n",
       "      <td>0.0</td>\n",
       "      <td>0.0</td>\n",
       "      <td>0.0</td>\n",
       "      <td>0.0</td>\n",
       "      <td>...</td>\n",
       "      <td>0.0</td>\n",
       "      <td>0.0</td>\n",
       "      <td>0.0</td>\n",
       "      <td>0.0</td>\n",
       "      <td>0.0</td>\n",
       "      <td>0.0</td>\n",
       "      <td>0.0</td>\n",
       "      <td>0.0</td>\n",
       "      <td>1.0</td>\n",
       "      <td>0.0</td>\n",
       "    </tr>\n",
       "    <tr>\n",
       "      <th>1</th>\n",
       "      <td>1</td>\n",
       "      <td>108590</td>\n",
       "      <td>0.0</td>\n",
       "      <td>0.0</td>\n",
       "      <td>0.0</td>\n",
       "      <td>0.0</td>\n",
       "      <td>0.0</td>\n",
       "      <td>0.0</td>\n",
       "      <td>0.0</td>\n",
       "      <td>0.0</td>\n",
       "      <td>...</td>\n",
       "      <td>1.0</td>\n",
       "      <td>0.0</td>\n",
       "      <td>0.0</td>\n",
       "      <td>0.0</td>\n",
       "      <td>0.0</td>\n",
       "      <td>0.0</td>\n",
       "      <td>0.0</td>\n",
       "      <td>0.0</td>\n",
       "      <td>1.0</td>\n",
       "      <td>0.0</td>\n",
       "    </tr>\n",
       "    <tr>\n",
       "      <th>2</th>\n",
       "      <td>1</td>\n",
       "      <td>5000</td>\n",
       "      <td>0.0</td>\n",
       "      <td>0.0</td>\n",
       "      <td>0.0</td>\n",
       "      <td>0.0</td>\n",
       "      <td>0.0</td>\n",
       "      <td>0.0</td>\n",
       "      <td>0.0</td>\n",
       "      <td>0.0</td>\n",
       "      <td>...</td>\n",
       "      <td>0.0</td>\n",
       "      <td>0.0</td>\n",
       "      <td>0.0</td>\n",
       "      <td>0.0</td>\n",
       "      <td>0.0</td>\n",
       "      <td>0.0</td>\n",
       "      <td>0.0</td>\n",
       "      <td>0.0</td>\n",
       "      <td>1.0</td>\n",
       "      <td>0.0</td>\n",
       "    </tr>\n",
       "    <tr>\n",
       "      <th>3</th>\n",
       "      <td>1</td>\n",
       "      <td>6692</td>\n",
       "      <td>0.0</td>\n",
       "      <td>0.0</td>\n",
       "      <td>0.0</td>\n",
       "      <td>0.0</td>\n",
       "      <td>0.0</td>\n",
       "      <td>0.0</td>\n",
       "      <td>0.0</td>\n",
       "      <td>0.0</td>\n",
       "      <td>...</td>\n",
       "      <td>0.0</td>\n",
       "      <td>1.0</td>\n",
       "      <td>0.0</td>\n",
       "      <td>0.0</td>\n",
       "      <td>0.0</td>\n",
       "      <td>0.0</td>\n",
       "      <td>0.0</td>\n",
       "      <td>0.0</td>\n",
       "      <td>1.0</td>\n",
       "      <td>0.0</td>\n",
       "    </tr>\n",
       "    <tr>\n",
       "      <th>4</th>\n",
       "      <td>1</td>\n",
       "      <td>142590</td>\n",
       "      <td>0.0</td>\n",
       "      <td>0.0</td>\n",
       "      <td>0.0</td>\n",
       "      <td>0.0</td>\n",
       "      <td>0.0</td>\n",
       "      <td>0.0</td>\n",
       "      <td>0.0</td>\n",
       "      <td>0.0</td>\n",
       "      <td>...</td>\n",
       "      <td>0.0</td>\n",
       "      <td>0.0</td>\n",
       "      <td>1.0</td>\n",
       "      <td>0.0</td>\n",
       "      <td>0.0</td>\n",
       "      <td>0.0</td>\n",
       "      <td>0.0</td>\n",
       "      <td>0.0</td>\n",
       "      <td>1.0</td>\n",
       "      <td>0.0</td>\n",
       "    </tr>\n",
       "  </tbody>\n",
       "</table>\n",
       "<p>5 rows × 116 columns</p>\n",
       "</div>"
      ],
      "text/plain": [
       "   STATUS  ASK_AMT  APPLICATION_TYPE_T10  APPLICATION_TYPE_T12  \\\n",
       "0       1     5000                   1.0                   0.0   \n",
       "1       1   108590                   0.0                   0.0   \n",
       "2       1     5000                   0.0                   0.0   \n",
       "3       1     6692                   0.0                   0.0   \n",
       "4       1   142590                   0.0                   0.0   \n",
       "\n",
       "   APPLICATION_TYPE_T13  APPLICATION_TYPE_T14  APPLICATION_TYPE_T15  \\\n",
       "0                   0.0                   0.0                   0.0   \n",
       "1                   0.0                   0.0                   0.0   \n",
       "2                   0.0                   0.0                   0.0   \n",
       "3                   0.0                   0.0                   0.0   \n",
       "4                   0.0                   0.0                   0.0   \n",
       "\n",
       "   APPLICATION_TYPE_T17  APPLICATION_TYPE_T19  APPLICATION_TYPE_T2  ...  \\\n",
       "0                   0.0                   0.0                  0.0  ...   \n",
       "1                   0.0                   0.0                  0.0  ...   \n",
       "2                   0.0                   0.0                  0.0  ...   \n",
       "3                   0.0                   0.0                  0.0  ...   \n",
       "4                   0.0                   0.0                  0.0  ...   \n",
       "\n",
       "   INCOME_AMT_1-9999  INCOME_AMT_10000-24999  INCOME_AMT_100000-499999  \\\n",
       "0                0.0                     0.0                       0.0   \n",
       "1                1.0                     0.0                       0.0   \n",
       "2                0.0                     0.0                       0.0   \n",
       "3                0.0                     1.0                       0.0   \n",
       "4                0.0                     0.0                       1.0   \n",
       "\n",
       "   INCOME_AMT_10M-50M  INCOME_AMT_1M-5M  INCOME_AMT_25000-99999  \\\n",
       "0                 0.0               0.0                     0.0   \n",
       "1                 0.0               0.0                     0.0   \n",
       "2                 0.0               0.0                     0.0   \n",
       "3                 0.0               0.0                     0.0   \n",
       "4                 0.0               0.0                     0.0   \n",
       "\n",
       "   INCOME_AMT_50M+  INCOME_AMT_5M-10M  SPECIAL_CONSIDERATIONS_N  \\\n",
       "0              0.0                0.0                       1.0   \n",
       "1              0.0                0.0                       1.0   \n",
       "2              0.0                0.0                       1.0   \n",
       "3              0.0                0.0                       1.0   \n",
       "4              0.0                0.0                       1.0   \n",
       "\n",
       "   SPECIAL_CONSIDERATIONS_Y  \n",
       "0                       0.0  \n",
       "1                       0.0  \n",
       "2                       0.0  \n",
       "3                       0.0  \n",
       "4                       0.0  \n",
       "\n",
       "[5 rows x 116 columns]"
      ]
     },
     "execution_count": 14,
     "metadata": {},
     "output_type": "execute_result"
    }
   ],
   "source": [
    "# Define features set X by selecting all columns but IS_SUCCESSFUL\n",
    "X = encoded_df.drop(columns=[\"IS_SUCCESSFUL\"])\n",
    "\n",
    "# Review the features DataFrame\n",
    "# YOUR CODE HERE\n",
    "X.head()\n"
   ]
  },
  {
   "cell_type": "markdown",
   "metadata": {
    "id": "Wgb0PFDKURsG"
   },
   "source": [
    "### Step 6: Split the features and target sets into training and testing datasets.\n"
   ]
  },
  {
   "cell_type": "code",
   "execution_count": 15,
   "metadata": {
    "colab": {
     "base_uri": "https://localhost:8080/",
     "height": 130
    },
    "id": "M_vGfjV4URsG",
    "outputId": "3e4d5433-5f56-45a7-8a68-ec877a10e6f2"
   },
   "outputs": [],
   "source": [
    "# Split the preprocessed data into a training and testing dataset\n",
    "# Assign the function a random_state equal to 1\n",
    "X_train, X_test, y_train, y_test = train_test_split(X, y, random_state=1)\n"
   ]
  },
  {
   "cell_type": "markdown",
   "metadata": {
    "id": "hDcNY8TGURsG"
   },
   "source": [
    "### Step 7: Use scikit-learn's `StandardScaler` to scale the features data."
   ]
  },
  {
   "cell_type": "code",
   "execution_count": 16,
   "metadata": {
    "id": "MWOH8vl-URsG"
   },
   "outputs": [],
   "source": [
    "# Create a StandardScaler instance\n",
    "scaler = StandardScaler()\n",
    "\n",
    "# Fit the scaler to the features training dataset\n",
    "X_scaler = scaler.fit(X_train)\n",
    "\n",
    "# Fit the scaler to the features training dataset\n",
    "X_train_scaled = X_scaler.transform(X_train)\n",
    "X_test_scaled = X_scaler.transform(X_test)\n"
   ]
  },
  {
   "cell_type": "markdown",
   "metadata": {
    "id": "RvE_rJAAURsH"
   },
   "source": [
    "---\n",
    "\n",
    "## Compile and Evaluate a Binary Classification Model Using a Neural Network"
   ]
  },
  {
   "cell_type": "markdown",
   "metadata": {
    "id": "mLD8vtTqURsH"
   },
   "source": [
    "### Step 1: Create a deep neural network by assigning the number of input features, the number of layers, and the number of neurons on each layer using Tensorflow’s Keras.\n",
    "\n",
    "> **Hint** You can start with a two-layer deep neural network model that uses the `relu` activation function for both layers.\n"
   ]
  },
  {
   "cell_type": "code",
   "execution_count": 17,
   "metadata": {
    "id": "K1Vgwz04URsH"
   },
   "outputs": [
    {
     "data": {
      "text/plain": [
       "116"
      ]
     },
     "execution_count": 17,
     "metadata": {},
     "output_type": "execute_result"
    }
   ],
   "source": [
    "# Define the the number of inputs (features) to the model\n",
    "number_input_features = len(X_train.iloc[0])\n",
    "\n",
    "# Review the number of features\n",
    "number_input_features\n"
   ]
  },
  {
   "cell_type": "code",
   "execution_count": 18,
   "metadata": {
    "id": "0mcgkl8SURsH"
   },
   "outputs": [],
   "source": [
    "# Define the number of neurons in the output layer\n",
    "number_output_neurons = 1"
   ]
  },
  {
   "cell_type": "code",
   "execution_count": 19,
   "metadata": {
    "id": "i0Q3iY3wURsH"
   },
   "outputs": [
    {
     "data": {
      "text/plain": [
       "58"
      ]
     },
     "execution_count": 19,
     "metadata": {},
     "output_type": "execute_result"
    }
   ],
   "source": [
    "# Define the number of hidden nodes for the first hidden layer\n",
    "hidden_nodes_layer1 = (number_input_features + number_output_neurons) // 2\n",
    "\n",
    "# Review the number hidden nodes in the first layer\n",
    "hidden_nodes_layer1\n"
   ]
  },
  {
   "cell_type": "code",
   "execution_count": 20,
   "metadata": {
    "id": "Ux_lAsrvURsH"
   },
   "outputs": [
    {
     "data": {
      "text/plain": [
       "29"
      ]
     },
     "execution_count": 20,
     "metadata": {},
     "output_type": "execute_result"
    }
   ],
   "source": [
    "# Define the number of hidden nodes for the second hidden layer\n",
    "hidden_nodes_layer2 = (hidden_nodes_layer1 + number_output_neurons) // 2\n",
    "\n",
    "# Review the number hidden nodes in the second layer\n",
    "hidden_nodes_layer2\n"
   ]
  },
  {
   "cell_type": "code",
   "execution_count": 21,
   "metadata": {
    "id": "1kq9QWhLURsH"
   },
   "outputs": [],
   "source": [
    "# Create the Sequential model instance\n",
    "nn = Sequential()\n"
   ]
  },
  {
   "cell_type": "code",
   "execution_count": 22,
   "metadata": {
    "id": "NcVrWCD_URsI"
   },
   "outputs": [],
   "source": [
    "# Add the first hidden layer\n",
    "# YOUR CODE HERE\n",
    "nn.add(Dense(units=hidden_nodes_layer1, input_dim=number_input_features, activation=\"relu\"))\n",
    "\n"
   ]
  },
  {
   "cell_type": "code",
   "execution_count": 23,
   "metadata": {
    "id": "Ugxr6lisURsI"
   },
   "outputs": [],
   "source": [
    "# Add the second hidden layer\n",
    "# YOUR CODE HERE\n",
    "nn.add(Dense(units=hidden_nodes_layer2, activation=\"relu\"))\n",
    "\n"
   ]
  },
  {
   "cell_type": "code",
   "execution_count": 24,
   "metadata": {
    "id": "QxcGEyNoURsI"
   },
   "outputs": [],
   "source": [
    "# Add the output layer to the model specifying the number of output neurons and activation function\n",
    "# YOUR CODE HERE\n",
    "nn.add(Dense(units=number_output_neurons, activation=\"sigmoid\"))\n"
   ]
  },
  {
   "cell_type": "code",
   "execution_count": 25,
   "metadata": {
    "id": "1L2ZVcXgURsI"
   },
   "outputs": [
    {
     "name": "stdout",
     "output_type": "stream",
     "text": [
      "Model: \"sequential\"\n",
      "_________________________________________________________________\n",
      "Layer (type)                 Output Shape              Param #   \n",
      "=================================================================\n",
      "dense (Dense)                (None, 58)                6786      \n",
      "_________________________________________________________________\n",
      "dense_1 (Dense)              (None, 29)                1711      \n",
      "_________________________________________________________________\n",
      "dense_2 (Dense)              (None, 1)                 30        \n",
      "=================================================================\n",
      "Total params: 8,527\n",
      "Trainable params: 8,527\n",
      "Non-trainable params: 0\n",
      "_________________________________________________________________\n"
     ]
    }
   ],
   "source": [
    "# Display the Sequential model summary\n",
    "# YOUR CODE HERE\n",
    "nn.summary()\n"
   ]
  },
  {
   "cell_type": "markdown",
   "metadata": {
    "id": "pzoKsvI3URsI"
   },
   "source": [
    "### Step 2: Compile and fit the model using the `binary_crossentropy` loss function, the `adam` optimizer, and the `accuracy` evaluation metric.\n"
   ]
  },
  {
   "cell_type": "code",
   "execution_count": 26,
   "metadata": {
    "id": "PR8r_cL1URsI"
   },
   "outputs": [],
   "source": [
    "# Compile the Sequential model\n",
    "# YOUR CODE HERE\n",
    "nn.compile(loss=\"binary_crossentropy\", optimizer=\"adam\", metrics=[\"accuracy\"])"
   ]
  },
  {
   "cell_type": "code",
   "execution_count": 27,
   "metadata": {
    "id": "5_z-FPHJURsI"
   },
   "outputs": [
    {
     "name": "stdout",
     "output_type": "stream",
     "text": [
      "Epoch 1/100\n",
      "804/804 [==============================] - 1s 835us/step - loss: 0.5763 - accuracy: 0.7203\n",
      "Epoch 2/100\n",
      "804/804 [==============================] - 1s 841us/step - loss: 0.5539 - accuracy: 0.7275\n",
      "Epoch 3/100\n",
      "804/804 [==============================] - 1s 827us/step - loss: 0.5494 - accuracy: 0.7305\n",
      "Epoch 4/100\n",
      "804/804 [==============================] - 1s 828us/step - loss: 0.5474 - accuracy: 0.7319\n",
      "Epoch 5/100\n",
      "804/804 [==============================] - 1s 835us/step - loss: 0.5456 - accuracy: 0.7322\n",
      "Epoch 6/100\n",
      "804/804 [==============================] - 1s 811us/step - loss: 0.5454 - accuracy: 0.7340\n",
      "Epoch 7/100\n",
      "804/804 [==============================] - 1s 819us/step - loss: 0.5436 - accuracy: 0.7334\n",
      "Epoch 8/100\n",
      "804/804 [==============================] - 1s 819us/step - loss: 0.5425 - accuracy: 0.7350\n",
      "Epoch 9/100\n",
      "804/804 [==============================] - 1s 817us/step - loss: 0.5429 - accuracy: 0.7350\n",
      "Epoch 10/100\n",
      "804/804 [==============================] - 1s 804us/step - loss: 0.5416 - accuracy: 0.7345\n",
      "Epoch 11/100\n",
      "804/804 [==============================] - 1s 804us/step - loss: 0.5414 - accuracy: 0.7361\n",
      "Epoch 12/100\n",
      "804/804 [==============================] - 1s 814us/step - loss: 0.5406 - accuracy: 0.7357\n",
      "Epoch 13/100\n",
      "804/804 [==============================] - 1s 809us/step - loss: 0.5403 - accuracy: 0.7369\n",
      "Epoch 14/100\n",
      "804/804 [==============================] - 1s 818us/step - loss: 0.5401 - accuracy: 0.7362\n",
      "Epoch 15/100\n",
      "804/804 [==============================] - 1s 811us/step - loss: 0.5393 - accuracy: 0.7376\n",
      "Epoch 16/100\n",
      "804/804 [==============================] - 1s 824us/step - loss: 0.5388 - accuracy: 0.7363\n",
      "Epoch 17/100\n",
      "804/804 [==============================] - 1s 823us/step - loss: 0.5386 - accuracy: 0.7376\n",
      "Epoch 18/100\n",
      "804/804 [==============================] - 1s 805us/step - loss: 0.5385 - accuracy: 0.7376\n",
      "Epoch 19/100\n",
      "804/804 [==============================] - 1s 801us/step - loss: 0.5376 - accuracy: 0.7383\n",
      "Epoch 20/100\n",
      "804/804 [==============================] - 1s 819us/step - loss: 0.5377 - accuracy: 0.7383\n",
      "Epoch 21/100\n",
      "804/804 [==============================] - 1s 817us/step - loss: 0.5371 - accuracy: 0.7383\n",
      "Epoch 22/100\n",
      "804/804 [==============================] - 1s 799us/step - loss: 0.5369 - accuracy: 0.7395\n",
      "Epoch 23/100\n",
      "804/804 [==============================] - 1s 807us/step - loss: 0.5365 - accuracy: 0.7390\n",
      "Epoch 24/100\n",
      "804/804 [==============================] - 1s 811us/step - loss: 0.5372 - accuracy: 0.7384\n",
      "Epoch 25/100\n",
      "804/804 [==============================] - 1s 814us/step - loss: 0.5363 - accuracy: 0.7378\n",
      "Epoch 26/100\n",
      "804/804 [==============================] - 1s 811us/step - loss: 0.5358 - accuracy: 0.7394\n",
      "Epoch 27/100\n",
      "804/804 [==============================] - 1s 806us/step - loss: 0.5360 - accuracy: 0.7396\n",
      "Epoch 28/100\n",
      "804/804 [==============================] - 1s 823us/step - loss: 0.5353 - accuracy: 0.7396\n",
      "Epoch 29/100\n",
      "804/804 [==============================] - 1s 808us/step - loss: 0.5355 - accuracy: 0.7392\n",
      "Epoch 30/100\n",
      "804/804 [==============================] - 1s 797us/step - loss: 0.5353 - accuracy: 0.7397\n",
      "Epoch 31/100\n",
      "804/804 [==============================] - 1s 805us/step - loss: 0.5349 - accuracy: 0.7400\n",
      "Epoch 32/100\n",
      "804/804 [==============================] - 1s 808us/step - loss: 0.5347 - accuracy: 0.7406\n",
      "Epoch 33/100\n",
      "804/804 [==============================] - 1s 794us/step - loss: 0.5349 - accuracy: 0.7402\n",
      "Epoch 34/100\n",
      "804/804 [==============================] - 1s 808us/step - loss: 0.5346 - accuracy: 0.7393\n",
      "Epoch 35/100\n",
      "804/804 [==============================] - 1s 803us/step - loss: 0.5345 - accuracy: 0.7395\n",
      "Epoch 36/100\n",
      "804/804 [==============================] - 1s 808us/step - loss: 0.5341 - accuracy: 0.7403\n",
      "Epoch 37/100\n",
      "804/804 [==============================] - 1s 802us/step - loss: 0.5341 - accuracy: 0.7399\n",
      "Epoch 38/100\n",
      "804/804 [==============================] - 1s 790us/step - loss: 0.5341 - accuracy: 0.7403\n",
      "Epoch 39/100\n",
      "804/804 [==============================] - 1s 800us/step - loss: 0.5339 - accuracy: 0.7406\n",
      "Epoch 40/100\n",
      "804/804 [==============================] - 1s 805us/step - loss: 0.5340 - accuracy: 0.7404\n",
      "Epoch 41/100\n",
      "804/804 [==============================] - 1s 812us/step - loss: 0.5336 - accuracy: 0.7396\n",
      "Epoch 42/100\n",
      "804/804 [==============================] - 1s 792us/step - loss: 0.5331 - accuracy: 0.7409\n",
      "Epoch 43/100\n",
      "804/804 [==============================] - 1s 810us/step - loss: 0.5337 - accuracy: 0.7407\n",
      "Epoch 44/100\n",
      "804/804 [==============================] - 1s 803us/step - loss: 0.5333 - accuracy: 0.7404\n",
      "Epoch 45/100\n",
      "804/804 [==============================] - 1s 809us/step - loss: 0.5328 - accuracy: 0.7414\n",
      "Epoch 46/100\n",
      "804/804 [==============================] - 1s 808us/step - loss: 0.5327 - accuracy: 0.7408\n",
      "Epoch 47/100\n",
      "804/804 [==============================] - 1s 822us/step - loss: 0.5327 - accuracy: 0.7412\n",
      "Epoch 48/100\n",
      "804/804 [==============================] - 1s 807us/step - loss: 0.5326 - accuracy: 0.7419\n",
      "Epoch 49/100\n",
      "804/804 [==============================] - 1s 804us/step - loss: 0.5322 - accuracy: 0.7409\n",
      "Epoch 50/100\n",
      "804/804 [==============================] - 1s 800us/step - loss: 0.5324 - accuracy: 0.7415\n",
      "Epoch 51/100\n",
      "804/804 [==============================] - 1s 802us/step - loss: 0.5321 - accuracy: 0.7417\n",
      "Epoch 52/100\n",
      "804/804 [==============================] - 1s 813us/step - loss: 0.5321 - accuracy: 0.7411\n",
      "Epoch 53/100\n",
      "804/804 [==============================] - 1s 811us/step - loss: 0.5318 - accuracy: 0.7417\n",
      "Epoch 54/100\n",
      "804/804 [==============================] - 1s 817us/step - loss: 0.5318 - accuracy: 0.7416\n",
      "Epoch 55/100\n",
      "804/804 [==============================] - 1s 796us/step - loss: 0.5318 - accuracy: 0.7416\n",
      "Epoch 56/100\n",
      "804/804 [==============================] - 1s 800us/step - loss: 0.5317 - accuracy: 0.7419\n",
      "Epoch 57/100\n",
      "804/804 [==============================] - 1s 806us/step - loss: 0.5315 - accuracy: 0.7422\n",
      "Epoch 58/100\n",
      "804/804 [==============================] - 1s 812us/step - loss: 0.5311 - accuracy: 0.7411\n",
      "Epoch 59/100\n",
      "804/804 [==============================] - 1s 804us/step - loss: 0.5311 - accuracy: 0.7423\n",
      "Epoch 60/100\n",
      "804/804 [==============================] - 1s 807us/step - loss: 0.5312 - accuracy: 0.7414\n",
      "Epoch 61/100\n",
      "804/804 [==============================] - 1s 807us/step - loss: 0.5306 - accuracy: 0.7420\n",
      "Epoch 62/100\n",
      "804/804 [==============================] - 1s 800us/step - loss: 0.5307 - accuracy: 0.7418\n",
      "Epoch 63/100\n",
      "804/804 [==============================] - 1s 804us/step - loss: 0.5309 - accuracy: 0.7419\n",
      "Epoch 64/100\n",
      "804/804 [==============================] - 1s 792us/step - loss: 0.5307 - accuracy: 0.7421\n",
      "Epoch 65/100\n",
      "804/804 [==============================] - 1s 808us/step - loss: 0.5305 - accuracy: 0.7414\n",
      "Epoch 66/100\n",
      "804/804 [==============================] - 1s 807us/step - loss: 0.5303 - accuracy: 0.7422\n",
      "Epoch 67/100\n",
      "804/804 [==============================] - 1s 796us/step - loss: 0.5308 - accuracy: 0.7422\n",
      "Epoch 68/100\n",
      "804/804 [==============================] - 1s 818us/step - loss: 0.5302 - accuracy: 0.7423\n",
      "Epoch 69/100\n",
      "804/804 [==============================] - 1s 815us/step - loss: 0.5304 - accuracy: 0.7416\n",
      "Epoch 70/100\n",
      "804/804 [==============================] - 1s 804us/step - loss: 0.5304 - accuracy: 0.7422\n",
      "Epoch 71/100\n",
      "804/804 [==============================] - 1s 814us/step - loss: 0.5298 - accuracy: 0.7431\n",
      "Epoch 72/100\n",
      "804/804 [==============================] - 1s 800us/step - loss: 0.5302 - accuracy: 0.7430\n",
      "Epoch 73/100\n",
      "804/804 [==============================] - 1s 818us/step - loss: 0.5299 - accuracy: 0.7426\n",
      "Epoch 74/100\n",
      "804/804 [==============================] - 1s 810us/step - loss: 0.5300 - accuracy: 0.7420\n",
      "Epoch 75/100\n",
      "804/804 [==============================] - 1s 815us/step - loss: 0.5298 - accuracy: 0.7427\n",
      "Epoch 76/100\n",
      "804/804 [==============================] - 1s 808us/step - loss: 0.5297 - accuracy: 0.7418\n",
      "Epoch 77/100\n",
      "804/804 [==============================] - 1s 794us/step - loss: 0.5295 - accuracy: 0.7423\n",
      "Epoch 78/100\n",
      "804/804 [==============================] - 1s 819us/step - loss: 0.5296 - accuracy: 0.7426\n",
      "Epoch 79/100\n",
      "804/804 [==============================] - 1s 809us/step - loss: 0.5294 - accuracy: 0.7430\n",
      "Epoch 80/100\n",
      "804/804 [==============================] - 1s 810us/step - loss: 0.5301 - accuracy: 0.7425\n",
      "Epoch 81/100\n",
      "804/804 [==============================] - 1s 818us/step - loss: 0.5294 - accuracy: 0.7430\n",
      "Epoch 82/100\n",
      "804/804 [==============================] - 1s 799us/step - loss: 0.5290 - accuracy: 0.7425\n",
      "Epoch 83/100\n",
      "804/804 [==============================] - 1s 808us/step - loss: 0.5293 - accuracy: 0.7424\n",
      "Epoch 84/100\n",
      "804/804 [==============================] - 1s 815us/step - loss: 0.5289 - accuracy: 0.7427\n",
      "Epoch 85/100\n",
      "804/804 [==============================] - 1s 813us/step - loss: 0.5290 - accuracy: 0.7427\n",
      "Epoch 86/100\n",
      "804/804 [==============================] - 1s 814us/step - loss: 0.5288 - accuracy: 0.7429\n",
      "Epoch 87/100\n",
      "804/804 [==============================] - 1s 818us/step - loss: 0.5285 - accuracy: 0.7427\n",
      "Epoch 88/100\n",
      "804/804 [==============================] - 1s 809us/step - loss: 0.5288 - accuracy: 0.7428\n",
      "Epoch 89/100\n",
      "804/804 [==============================] - 1s 815us/step - loss: 0.5285 - accuracy: 0.7431\n",
      "Epoch 90/100\n",
      "804/804 [==============================] - 1s 809us/step - loss: 0.5288 - accuracy: 0.7427\n",
      "Epoch 91/100\n",
      "804/804 [==============================] - 1s 811us/step - loss: 0.5288 - accuracy: 0.7425\n",
      "Epoch 92/100\n",
      "804/804 [==============================] - 1s 814us/step - loss: 0.5283 - accuracy: 0.7426\n",
      "Epoch 93/100\n",
      "804/804 [==============================] - 1s 813us/step - loss: 0.5281 - accuracy: 0.7429\n",
      "Epoch 94/100\n",
      "804/804 [==============================] - 1s 817us/step - loss: 0.5285 - accuracy: 0.7432\n",
      "Epoch 95/100\n",
      "804/804 [==============================] - 1s 812us/step - loss: 0.5283 - accuracy: 0.7432\n",
      "Epoch 96/100\n",
      "804/804 [==============================] - 1s 818us/step - loss: 0.5283 - accuracy: 0.7425\n",
      "Epoch 97/100\n",
      "804/804 [==============================] - 1s 814us/step - loss: 0.5282 - accuracy: 0.7433\n",
      "Epoch 98/100\n",
      "804/804 [==============================] - 1s 823us/step - loss: 0.5288 - accuracy: 0.7427\n",
      "Epoch 99/100\n",
      "804/804 [==============================] - 1s 817us/step - loss: 0.5279 - accuracy: 0.7424\n",
      "Epoch 100/100\n",
      "804/804 [==============================] - 1s 814us/step - loss: 0.5277 - accuracy: 0.7432\n"
     ]
    }
   ],
   "source": [
    "# Fit the model using 100 epochs and the training data\n",
    "epochs = 100\n",
    "# YOUR CODE HERE\n",
    "fit_model_baseline = nn.fit(X_train_scaled, y_train, epochs=epochs)\n"
   ]
  },
  {
   "cell_type": "markdown",
   "metadata": {
    "id": "JIbFSQ-FURsI"
   },
   "source": [
    "### Step 3: Evaluate the model using the test data to determine the model’s loss and accuracy.\n"
   ]
  },
  {
   "cell_type": "code",
   "execution_count": 28,
   "metadata": {
    "id": "rWaHGdGrURsI"
   },
   "outputs": [
    {
     "name": "stdout",
     "output_type": "stream",
     "text": [
      "268/268 - 0s - loss: 0.5605 - accuracy: 0.7306\n",
      "Loss: 0.5604761242866516, Accuracy: 0.7306122183799744\n"
     ]
    }
   ],
   "source": [
    "# Evaluate the model loss and accuracy metrics using the evaluate method and the test data\n",
    "model_loss_baseline, model_accuracy_baseline = nn.evaluate(X_test_scaled,y_test,verbose=2)\n",
    "\n",
    "# Display the model loss and accuracy results\n",
    "print(f\"Loss: {model_loss_baseline}, Accuracy: {model_accuracy_baseline}\")"
   ]
  },
  {
   "cell_type": "markdown",
   "metadata": {
    "id": "ppT2iIP5URsJ"
   },
   "source": [
    "### Step 4: Save and export your model to an HDF5 file, and name the file `AlphabetSoup.h5`. \n"
   ]
  },
  {
   "cell_type": "code",
   "execution_count": 29,
   "metadata": {
    "id": "iOuA28RQURsJ"
   },
   "outputs": [],
   "source": [
    "# Set the model's file path\n",
    "file_path = Path(\"Resources/AlphabetSoup.h5\")\n",
    "\n",
    "# Export your model to a HDF5 file\n",
    "# YOUR CODE HERE\n",
    "nn.save(file_path)\n"
   ]
  },
  {
   "cell_type": "markdown",
   "metadata": {
    "id": "xlN5E4WfURsJ"
   },
   "source": [
    "---\n",
    "\n",
    "## Optimize the neural network model\n"
   ]
  },
  {
   "cell_type": "markdown",
   "metadata": {
    "id": "0q7pN2XKURsJ"
   },
   "source": [
    "### Step 1: Define at least three new deep neural network models (resulting in the original plus 3 optimization attempts). With each, try to improve on your first model’s predictive accuracy.\n",
    "\n",
    "> **Rewind** Recall that perfect accuracy has a value of 1, so accuracy improves as its value moves closer to 1. To optimize your model for a predictive accuracy as close to 1 as possible, you can use any or all of the following techniques:\n",
    ">\n",
    "> * Adjust the input data by dropping different features columns to ensure that no variables or outliers confuse the model.\n",
    ">\n",
    "> * Add more neurons (nodes) to a hidden layer.\n",
    ">\n",
    "> * Add more hidden layers.\n",
    ">\n",
    "> * Use different activation functions for the hidden layers.\n",
    ">\n",
    "> * Add to or reduce the number of epochs in the training regimen.\n"
   ]
  },
  {
   "cell_type": "markdown",
   "metadata": {
    "id": "slhZ-iS1URsJ"
   },
   "source": [
    "### Alternative Model 1"
   ]
  },
  {
   "cell_type": "code",
   "execution_count": 30,
   "metadata": {
    "id": "zqbrMOgCURsJ"
   },
   "outputs": [
    {
     "data": {
      "text/plain": [
       "116"
      ]
     },
     "execution_count": 30,
     "metadata": {},
     "output_type": "execute_result"
    }
   ],
   "source": [
    "# Alternative model 1 with six hidden layers\n",
    "# Define the the number of inputs (features) to the model\n",
    "number_input_features_A1 = len(X_train.iloc[0])\n",
    "\n",
    "# Review the number of features\n",
    "number_input_features_A1"
   ]
  },
  {
   "cell_type": "code",
   "execution_count": 31,
   "metadata": {
    "id": "U3rrh76sURsJ"
   },
   "outputs": [],
   "source": [
    "# Define the number of neurons in the output layer\n",
    "number_output_neurons_A1 = 1"
   ]
  },
  {
   "cell_type": "code",
   "execution_count": 32,
   "metadata": {
    "id": "lMOrWGBKURsJ"
   },
   "outputs": [
    {
     "data": {
      "text/plain": [
       "58"
      ]
     },
     "execution_count": 32,
     "metadata": {},
     "output_type": "execute_result"
    }
   ],
   "source": [
    "# Define the number of hidden nodes for the first hidden layer\n",
    "hidden_nodes_layer1_A1 = (number_input_features_A1 + number_output_neurons_A1) // 2\n",
    "\n",
    "# Review the number of hidden nodes in the first layer\n",
    "hidden_nodes_layer1_A1"
   ]
  },
  {
   "cell_type": "code",
   "execution_count": 33,
   "metadata": {},
   "outputs": [
    {
     "data": {
      "text/plain": [
       "29"
      ]
     },
     "execution_count": 33,
     "metadata": {},
     "output_type": "execute_result"
    }
   ],
   "source": [
    "# Define the number of hidden nodes for the second hidden layer\n",
    "hidden_nodes_layer2_A1 = (hidden_nodes_layer1_A1 + number_output_neurons_A1) // 2\n",
    "\n",
    "# Review the number of hidden nodes in the second layer\n",
    "hidden_nodes_layer2_A1\n",
    "\n"
   ]
  },
  {
   "cell_type": "code",
   "execution_count": 34,
   "metadata": {},
   "outputs": [
    {
     "data": {
      "text/plain": [
       "15"
      ]
     },
     "execution_count": 34,
     "metadata": {},
     "output_type": "execute_result"
    }
   ],
   "source": [
    "# Define the number of hidden nodes for the third hidden layer\n",
    "hidden_nodes_layer3_A1 = (hidden_nodes_layer2_A1 + number_output_neurons_A1) // 2\n",
    "# Review the number of hidden nodes in the third layer\n",
    "hidden_nodes_layer3_A1\n"
   ]
  },
  {
   "cell_type": "code",
   "execution_count": 35,
   "metadata": {},
   "outputs": [
    {
     "data": {
      "text/plain": [
       "8"
      ]
     },
     "execution_count": 35,
     "metadata": {},
     "output_type": "execute_result"
    }
   ],
   "source": [
    "# Define the number of hidden nodes for the fourth hidden layer\n",
    "hidden_nodes_layer4_A1 = (hidden_nodes_layer3_A1 + number_output_neurons_A1) // 2\n",
    "# Review the number of hidden nodes in the fourth layer\n",
    "hidden_nodes_layer4_A1\n"
   ]
  },
  {
   "cell_type": "code",
   "execution_count": 36,
   "metadata": {},
   "outputs": [
    {
     "data": {
      "text/plain": [
       "4"
      ]
     },
     "execution_count": 36,
     "metadata": {},
     "output_type": "execute_result"
    }
   ],
   "source": [
    "# Define the number of hidden nodes for the fifth hidden layer\n",
    "hidden_nodes_layer5_A1 = (hidden_nodes_layer4_A1 + number_output_neurons_A1) // 2\n",
    "# Review the number of hidden nodes in the fourth layer\n",
    "hidden_nodes_layer5_A1"
   ]
  },
  {
   "cell_type": "code",
   "execution_count": 37,
   "metadata": {},
   "outputs": [
    {
     "data": {
      "text/plain": [
       "2"
      ]
     },
     "execution_count": 37,
     "metadata": {},
     "output_type": "execute_result"
    }
   ],
   "source": [
    "# Define the number of hidden nodes for the sith hidden layer\n",
    "hidden_nodes_layer6_A1 = (hidden_nodes_layer5_A1 + number_output_neurons_A1) // 2\n",
    "# Review the number of hidden nodes in the fourth layer\n",
    "hidden_nodes_layer6_A1"
   ]
  },
  {
   "cell_type": "code",
   "execution_count": 38,
   "metadata": {
    "id": "efNsx7TfURsK"
   },
   "outputs": [],
   "source": [
    "# Create the Sequential model instance\n",
    "nn_A1 = Sequential()"
   ]
  },
  {
   "cell_type": "code",
   "execution_count": 39,
   "metadata": {
    "id": "0uMhdXQWURsK"
   },
   "outputs": [
    {
     "name": "stdout",
     "output_type": "stream",
     "text": [
      "Model: \"sequential_1\"\n",
      "_________________________________________________________________\n",
      "Layer (type)                 Output Shape              Param #   \n",
      "=================================================================\n",
      "dense_3 (Dense)              (None, 58)                6786      \n",
      "_________________________________________________________________\n",
      "dense_4 (Dense)              (None, 29)                1711      \n",
      "_________________________________________________________________\n",
      "dense_5 (Dense)              (None, 15)                450       \n",
      "_________________________________________________________________\n",
      "dense_6 (Dense)              (None, 8)                 128       \n",
      "_________________________________________________________________\n",
      "dense_7 (Dense)              (None, 4)                 36        \n",
      "_________________________________________________________________\n",
      "dense_8 (Dense)              (None, 2)                 10        \n",
      "_________________________________________________________________\n",
      "dense_9 (Dense)              (None, 1)                 3         \n",
      "=================================================================\n",
      "Total params: 9,124\n",
      "Trainable params: 9,124\n",
      "Non-trainable params: 0\n",
      "_________________________________________________________________\n"
     ]
    }
   ],
   "source": [
    "# First hidden layer\n",
    "# YOUR CODE HERE\n",
    "nn_A1.add(Dense(units=hidden_nodes_layer1_A1, input_dim=number_input_features_A1, activation=\"relu\"))\n",
    "\n",
    "# second hidden layer\n",
    "#Your code here\n",
    "nn_A1.add(Dense(units=hidden_nodes_layer2_A1, activation=\"relu\"))\n",
    "\n",
    "# third hidden layer\n",
    "#Your code here\n",
    "nn_A1.add(Dense(units=hidden_nodes_layer3_A1, activation=\"relu\"))\n",
    "\n",
    "# fourth hidden layer\n",
    "#Your code here         \n",
    "nn_A1.add(Dense(units=hidden_nodes_layer4_A1, activation=\"relu\"))          \n",
    "\n",
    "          \n",
    "# fifth hidden layer\n",
    "#Your code here\n",
    "nn_A1.add(Dense(units=hidden_nodes_layer5_A1, activation=\"relu\"))\n",
    "\n",
    "# sith hidden layer\n",
    "#Your code here\n",
    "nn_A1.add(Dense(units=hidden_nodes_layer6_A1, activation=\"relu\"))\n",
    "\n",
    "# Output layer\n",
    "# YOUR CODE HERE\n",
    "nn_A1.add(Dense(units=number_output_neurons_A1, activation=\"sigmoid\"))\n",
    "\n",
    "# Check the structure of the model\n",
    "# YOUR CODE HERE\n",
    "nn_A1.summary()"
   ]
  },
  {
   "cell_type": "code",
   "execution_count": 40,
   "metadata": {
    "id": "2gDpRhG7URsK"
   },
   "outputs": [],
   "source": [
    "# Compile the Sequential model\n",
    "# YOUR CODE HERE Test two optmizers , the adam has higher accuracy score than the adagrad for that the adam optimizer is choosen.\n",
    "nn_A1.compile(loss=\"binary_crossentropy\", optimizer=\"adam\", metrics=[\"accuracy\"])\n",
    "#nn_A1.compile(loss=\"binary_crossentropy\", optimizer=\"adagrad\", metrics=[\"accuracy\"])\n"
   ]
  },
  {
   "cell_type": "code",
   "execution_count": 41,
   "metadata": {
    "id": "zE4UD4NyURsK"
   },
   "outputs": [
    {
     "name": "stdout",
     "output_type": "stream",
     "text": [
      "Epoch 1/100\n",
      "804/804 [==============================] - 1s 992us/step - loss: 0.6164 - accuracy: 0.7035\n",
      "Epoch 2/100\n",
      "804/804 [==============================] - 1s 981us/step - loss: 0.5760 - accuracy: 0.7227\n",
      "Epoch 3/100\n",
      "804/804 [==============================] - 1s 983us/step - loss: 0.5660 - accuracy: 0.7271\n",
      "Epoch 4/100\n",
      "804/804 [==============================] - 1s 976us/step - loss: 0.5619 - accuracy: 0.7294\n",
      "Epoch 5/100\n",
      "804/804 [==============================] - 1s 988us/step - loss: 0.5596 - accuracy: 0.7298\n",
      "Epoch 6/100\n",
      "804/804 [==============================] - 1s 973us/step - loss: 0.5544 - accuracy: 0.7332\n",
      "Epoch 7/100\n",
      "804/804 [==============================] - 1s 980us/step - loss: 0.5519 - accuracy: 0.7324\n",
      "Epoch 8/100\n",
      "804/804 [==============================] - 1s 980us/step - loss: 0.5513 - accuracy: 0.7325\n",
      "Epoch 9/100\n",
      "804/804 [==============================] - 1s 987us/step - loss: 0.5502 - accuracy: 0.7343\n",
      "Epoch 10/100\n",
      "804/804 [==============================] - 1s 983us/step - loss: 0.5496 - accuracy: 0.7345\n",
      "Epoch 11/100\n",
      "804/804 [==============================] - 1s 982us/step - loss: 0.5483 - accuracy: 0.7341\n",
      "Epoch 12/100\n",
      "804/804 [==============================] - 1s 983us/step - loss: 0.5467 - accuracy: 0.7357\n",
      "Epoch 13/100\n",
      "804/804 [==============================] - 1s 978us/step - loss: 0.5456 - accuracy: 0.7347\n",
      "Epoch 14/100\n",
      "804/804 [==============================] - 1s 980us/step - loss: 0.5452 - accuracy: 0.7364\n",
      "Epoch 15/100\n",
      "804/804 [==============================] - 1s 975us/step - loss: 0.5448 - accuracy: 0.7369\n",
      "Epoch 16/100\n",
      "804/804 [==============================] - 1s 980us/step - loss: 0.5443 - accuracy: 0.7362\n",
      "Epoch 17/100\n",
      "804/804 [==============================] - 1s 988us/step - loss: 0.5439 - accuracy: 0.7369\n",
      "Epoch 18/100\n",
      "804/804 [==============================] - 1s 979us/step - loss: 0.5428 - accuracy: 0.7369\n",
      "Epoch 19/100\n",
      "804/804 [==============================] - 1s 977us/step - loss: 0.5430 - accuracy: 0.7367\n",
      "Epoch 20/100\n",
      "804/804 [==============================] - 1s 978us/step - loss: 0.5426 - accuracy: 0.7374\n",
      "Epoch 21/100\n",
      "804/804 [==============================] - 1s 982us/step - loss: 0.5425 - accuracy: 0.7375\n",
      "Epoch 22/100\n",
      "804/804 [==============================] - 1s 989us/step - loss: 0.5422 - accuracy: 0.7370\n",
      "Epoch 23/100\n",
      "804/804 [==============================] - 1s 979us/step - loss: 0.5416 - accuracy: 0.7368\n",
      "Epoch 24/100\n",
      "804/804 [==============================] - 1s 980us/step - loss: 0.5417 - accuracy: 0.7377\n",
      "Epoch 25/100\n",
      "804/804 [==============================] - 1s 978us/step - loss: 0.5416 - accuracy: 0.7369\n",
      "Epoch 26/100\n",
      "804/804 [==============================] - 1s 980us/step - loss: 0.5420 - accuracy: 0.7374\n",
      "Epoch 27/100\n",
      "804/804 [==============================] - 1s 974us/step - loss: 0.5411 - accuracy: 0.7388\n",
      "Epoch 28/100\n",
      "804/804 [==============================] - 1s 977us/step - loss: 0.5413 - accuracy: 0.7385\n",
      "Epoch 29/100\n",
      "804/804 [==============================] - 1s 968us/step - loss: 0.5412 - accuracy: 0.7371\n",
      "Epoch 30/100\n",
      "804/804 [==============================] - 1s 982us/step - loss: 0.5410 - accuracy: 0.7372\n",
      "Epoch 31/100\n",
      "804/804 [==============================] - 1s 970us/step - loss: 0.5408 - accuracy: 0.7390\n",
      "Epoch 32/100\n",
      "804/804 [==============================] - 1s 949us/step - loss: 0.5404 - accuracy: 0.7376\n",
      "Epoch 33/100\n",
      "804/804 [==============================] - 1s 925us/step - loss: 0.5403 - accuracy: 0.7376\n",
      "Epoch 34/100\n",
      "804/804 [==============================] - 1s 973us/step - loss: 0.5400 - accuracy: 0.7382\n",
      "Epoch 35/100\n",
      "804/804 [==============================] - 1s 974us/step - loss: 0.5401 - accuracy: 0.7385\n",
      "Epoch 36/100\n",
      "804/804 [==============================] - 1s 981us/step - loss: 0.5405 - accuracy: 0.7378\n",
      "Epoch 37/100\n",
      "804/804 [==============================] - 1s 975us/step - loss: 0.5402 - accuracy: 0.7378\n",
      "Epoch 38/100\n",
      "804/804 [==============================] - 1s 988us/step - loss: 0.5399 - accuracy: 0.7375\n",
      "Epoch 39/100\n",
      "804/804 [==============================] - 1s 986us/step - loss: 0.5395 - accuracy: 0.7376\n",
      "Epoch 40/100\n",
      "804/804 [==============================] - 1s 970us/step - loss: 0.5396 - accuracy: 0.7386\n",
      "Epoch 41/100\n",
      "804/804 [==============================] - 1s 959us/step - loss: 0.5391 - accuracy: 0.7382\n",
      "Epoch 42/100\n",
      "804/804 [==============================] - 1s 998us/step - loss: 0.5397 - accuracy: 0.7383\n",
      "Epoch 43/100\n",
      "804/804 [==============================] - 1s 981us/step - loss: 0.5388 - accuracy: 0.7381\n",
      "Epoch 44/100\n",
      "804/804 [==============================] - 1s 982us/step - loss: 0.5390 - accuracy: 0.7387\n",
      "Epoch 45/100\n",
      "804/804 [==============================] - 1s 959us/step - loss: 0.5392 - accuracy: 0.7392\n",
      "Epoch 46/100\n",
      "804/804 [==============================] - 1s 977us/step - loss: 0.5388 - accuracy: 0.7383\n",
      "Epoch 47/100\n",
      "804/804 [==============================] - 1s 971us/step - loss: 0.5383 - accuracy: 0.7389\n",
      "Epoch 48/100\n",
      "804/804 [==============================] - 1s 982us/step - loss: 0.5381 - accuracy: 0.7392\n",
      "Epoch 49/100\n",
      "804/804 [==============================] - 1s 991us/step - loss: 0.5382 - accuracy: 0.7390\n",
      "Epoch 50/100\n",
      "804/804 [==============================] - 1s 977us/step - loss: 0.5390 - accuracy: 0.7384\n",
      "Epoch 51/100\n",
      "804/804 [==============================] - 1s 984us/step - loss: 0.5380 - accuracy: 0.7390\n",
      "Epoch 52/100\n",
      "804/804 [==============================] - 1s 977us/step - loss: 0.5380 - accuracy: 0.7399\n",
      "Epoch 53/100\n",
      "804/804 [==============================] - 1s 986us/step - loss: 0.5382 - accuracy: 0.7390\n",
      "Epoch 54/100\n",
      "804/804 [==============================] - 1s 995us/step - loss: 0.5380 - accuracy: 0.7393\n",
      "Epoch 55/100\n",
      "804/804 [==============================] - 1s 989us/step - loss: 0.5380 - accuracy: 0.7386\n",
      "Epoch 56/100\n",
      "804/804 [==============================] - 1s 992us/step - loss: 0.5383 - accuracy: 0.7389\n",
      "Epoch 57/100\n",
      "804/804 [==============================] - 1s 984us/step - loss: 0.5380 - accuracy: 0.7393\n",
      "Epoch 58/100\n",
      "804/804 [==============================] - 1s 989us/step - loss: 0.5380 - accuracy: 0.7392\n",
      "Epoch 59/100\n",
      "804/804 [==============================] - 1s 986us/step - loss: 0.5375 - accuracy: 0.7393\n",
      "Epoch 60/100\n",
      "804/804 [==============================] - 1s 991us/step - loss: 0.5380 - accuracy: 0.7397\n",
      "Epoch 61/100\n",
      "804/804 [==============================] - 1s 987us/step - loss: 0.5374 - accuracy: 0.7399\n",
      "Epoch 62/100\n",
      "804/804 [==============================] - 1s 987us/step - loss: 0.5379 - accuracy: 0.7397\n",
      "Epoch 63/100\n",
      "804/804 [==============================] - 1s 997us/step - loss: 0.5372 - accuracy: 0.7385\n",
      "Epoch 64/100\n",
      "804/804 [==============================] - 1s 977us/step - loss: 0.5372 - accuracy: 0.7407\n",
      "Epoch 65/100\n",
      "804/804 [==============================] - 1s 995us/step - loss: 0.5373 - accuracy: 0.7395\n",
      "Epoch 66/100\n",
      "804/804 [==============================] - 1s 998us/step - loss: 0.5371 - accuracy: 0.7406\n",
      "Epoch 67/100\n",
      "804/804 [==============================] - 1s 995us/step - loss: 0.5368 - accuracy: 0.7406\n",
      "Epoch 68/100\n",
      "804/804 [==============================] - 1s 985us/step - loss: 0.5370 - accuracy: 0.7394\n",
      "Epoch 69/100\n",
      "804/804 [==============================] - 1s 994us/step - loss: 0.5370 - accuracy: 0.7397\n",
      "Epoch 70/100\n",
      "804/804 [==============================] - 1s 1ms/step - loss: 0.5369 - accuracy: 0.7402\n",
      "Epoch 71/100\n",
      "804/804 [==============================] - 1s 995us/step - loss: 0.5365 - accuracy: 0.7389\n",
      "Epoch 72/100\n",
      "804/804 [==============================] - 1s 1ms/step - loss: 0.5369 - accuracy: 0.7395\n",
      "Epoch 73/100\n",
      "804/804 [==============================] - 1s 1ms/step - loss: 0.5366 - accuracy: 0.7399\n",
      "Epoch 74/100\n",
      "804/804 [==============================] - 1s 996us/step - loss: 0.5369 - accuracy: 0.7397\n",
      "Epoch 75/100\n",
      "804/804 [==============================] - 1s 1ms/step - loss: 0.5361 - accuracy: 0.7397\n",
      "Epoch 76/100\n",
      "804/804 [==============================] - 1s 991us/step - loss: 0.5364 - accuracy: 0.7413\n",
      "Epoch 77/100\n",
      "804/804 [==============================] - 1s 997us/step - loss: 0.5364 - accuracy: 0.7393\n",
      "Epoch 78/100\n",
      "804/804 [==============================] - 1s 1ms/step - loss: 0.5368 - accuracy: 0.7395\n",
      "Epoch 79/100\n",
      "804/804 [==============================] - 1s 998us/step - loss: 0.5361 - accuracy: 0.7402\n",
      "Epoch 80/100\n",
      "804/804 [==============================] - 1s 1ms/step - loss: 0.5363 - accuracy: 0.7401\n",
      "Epoch 81/100\n",
      "804/804 [==============================] - 1s 1ms/step - loss: 0.5362 - accuracy: 0.7400\n",
      "Epoch 82/100\n",
      "804/804 [==============================] - 1s 990us/step - loss: 0.5356 - accuracy: 0.7414\n",
      "Epoch 83/100\n",
      "804/804 [==============================] - 1s 996us/step - loss: 0.5355 - accuracy: 0.7395\n",
      "Epoch 84/100\n",
      "804/804 [==============================] - 1s 1ms/step - loss: 0.5352 - accuracy: 0.7402\n",
      "Epoch 85/100\n",
      "804/804 [==============================] - 1s 999us/step - loss: 0.5350 - accuracy: 0.7401\n",
      "Epoch 86/100\n",
      "804/804 [==============================] - 1s 992us/step - loss: 0.5346 - accuracy: 0.7400\n",
      "Epoch 87/100\n",
      "804/804 [==============================] - 1s 995us/step - loss: 0.5346 - accuracy: 0.7407\n",
      "Epoch 88/100\n",
      "804/804 [==============================] - 1s 993us/step - loss: 0.5347 - accuracy: 0.7404\n",
      "Epoch 89/100\n",
      "804/804 [==============================] - 1s 987us/step - loss: 0.5338 - accuracy: 0.7406\n",
      "Epoch 90/100\n",
      "804/804 [==============================] - 1s 989us/step - loss: 0.5338 - accuracy: 0.7402\n",
      "Epoch 91/100\n",
      "804/804 [==============================] - 1s 1ms/step - loss: 0.5336 - accuracy: 0.7409\n",
      "Epoch 92/100\n",
      "804/804 [==============================] - 1s 1ms/step - loss: 0.5334 - accuracy: 0.7414\n",
      "Epoch 93/100\n",
      "804/804 [==============================] - 1s 989us/step - loss: 0.5332 - accuracy: 0.7420\n",
      "Epoch 94/100\n",
      "804/804 [==============================] - 1s 992us/step - loss: 0.5337 - accuracy: 0.7402\n",
      "Epoch 95/100\n",
      "804/804 [==============================] - 1s 1000us/step - loss: 0.5333 - accuracy: 0.7410\n",
      "Epoch 96/100\n",
      "804/804 [==============================] - 1s 996us/step - loss: 0.5331 - accuracy: 0.7417\n",
      "Epoch 97/100\n",
      "804/804 [==============================] - 1s 991us/step - loss: 0.5336 - accuracy: 0.7413\n",
      "Epoch 98/100\n",
      "804/804 [==============================] - 1s 1ms/step - loss: 0.5329 - accuracy: 0.7414\n",
      "Epoch 99/100\n",
      "804/804 [==============================] - 1s 994us/step - loss: 0.5329 - accuracy: 0.7414\n",
      "Epoch 100/100\n",
      "804/804 [==============================] - 1s 992us/step - loss: 0.5332 - accuracy: 0.7416\n"
     ]
    }
   ],
   "source": [
    "# Fit the model using 100 epochs and the training data\n",
    "# YOUR CODE HERE\n",
    "fit_model_A1 = nn_A1.fit(X_train_scaled, y_train, epochs=100)\n"
   ]
  },
  {
   "cell_type": "markdown",
   "metadata": {
    "id": "aMZAmHrlURsK"
   },
   "source": [
    "#### Alternative Model 2"
   ]
  },
  {
   "cell_type": "code",
   "execution_count": 42,
   "metadata": {
    "id": "Mw0cxkvOURsK"
   },
   "outputs": [
    {
     "data": {
      "text/plain": [
       "116"
      ]
     },
     "execution_count": 42,
     "metadata": {},
     "output_type": "execute_result"
    }
   ],
   "source": [
    "#Alternative model two with two hidden layers\n",
    "# Define the the number of inputs (features) to the model\n",
    "number_input_features_A2 = len(X_train.iloc[0])\n",
    "\n",
    "# Review the number of features\n",
    "number_input_features_A2"
   ]
  },
  {
   "cell_type": "code",
   "execution_count": 43,
   "metadata": {
    "id": "qnLSrAKJURsK"
   },
   "outputs": [],
   "source": [
    "# Define the number of neurons in the output layer\n",
    "number_output_neurons_A2 = 1"
   ]
  },
  {
   "cell_type": "code",
   "execution_count": 44,
   "metadata": {
    "id": "myK4iGVBURsK"
   },
   "outputs": [
    {
     "data": {
      "text/plain": [
       "58"
      ]
     },
     "execution_count": 44,
     "metadata": {},
     "output_type": "execute_result"
    }
   ],
   "source": [
    "# Define the number of hidden nodes for the first hidden layer\n",
    "hidden_nodes_layer1_A2 = (number_input_features_A2 + number_output_neurons_A2) // 2\n",
    "\n",
    "# Review the number of hidden nodes in the first layer\n",
    "hidden_nodes_layer1_A2"
   ]
  },
  {
   "cell_type": "code",
   "execution_count": 45,
   "metadata": {},
   "outputs": [
    {
     "data": {
      "text/plain": [
       "29"
      ]
     },
     "execution_count": 45,
     "metadata": {},
     "output_type": "execute_result"
    }
   ],
   "source": [
    "# Define the number of hidden nodes for the second hidden layer\n",
    "hidden_nodes_layer2_A2 = (hidden_nodes_layer1_A2 + number_output_neurons_A2) // 2\n",
    "\n",
    "# Review the number of hidden nodes in the first layer\n",
    "hidden_nodes_layer2_A2"
   ]
  },
  {
   "cell_type": "code",
   "execution_count": 46,
   "metadata": {
    "id": "lB6J98OSURsL"
   },
   "outputs": [],
   "source": [
    "# Create the Sequential model instance\n",
    "nn_A2 = Sequential()"
   ]
  },
  {
   "cell_type": "code",
   "execution_count": 47,
   "metadata": {
    "id": "EX5HLuh9URsL"
   },
   "outputs": [
    {
     "name": "stdout",
     "output_type": "stream",
     "text": [
      "Model: \"sequential_2\"\n",
      "_________________________________________________________________\n",
      "Layer (type)                 Output Shape              Param #   \n",
      "=================================================================\n",
      "dense_10 (Dense)             (None, 58)                6786      \n",
      "_________________________________________________________________\n",
      "dense_11 (Dense)             (None, 29)                1711      \n",
      "_________________________________________________________________\n",
      "dense_12 (Dense)             (None, 1)                 30        \n",
      "=================================================================\n",
      "Total params: 8,527\n",
      "Trainable params: 8,527\n",
      "Non-trainable params: 0\n",
      "_________________________________________________________________\n"
     ]
    }
   ],
   "source": [
    "# First hidden layer with \"relu\" activation function for the input and sigmoid for the output layer\n",
    "# YOUR CODE HERE\n",
    "nn_A2.add(Dense(units=hidden_nodes_layer1_A2, input_dim=number_input_features, activation=\"relu\"))\n",
    "\n",
    "# second hidden layer\n",
    "# YOUR CODE HERE\n",
    "nn_A2.add(Dense(units=hidden_nodes_layer2_A2, activation=\"relu\"))\n",
    "\n",
    "\n",
    "# Output layer\n",
    "# YOUR CODE HERE\n",
    "nn_A2.add(Dense(units=number_output_neurons_A2, activation=\"sigmoid\"))\n",
    "\n",
    "# Check the structure of the model\n",
    "# YOUR CODE HERE\n",
    "nn_A2.summary()\n"
   ]
  },
  {
   "cell_type": "code",
   "execution_count": 48,
   "metadata": {
    "id": "JrI6zrIRURsL"
   },
   "outputs": [],
   "source": [
    "# Compile the model\n",
    "# YOUR CODE HERE\n",
    "nn_A2.compile(loss=\"binary_crossentropy\", optimizer=\"adam\", metrics=[\"accuracy\"])\n",
    "\n"
   ]
  },
  {
   "cell_type": "code",
   "execution_count": 49,
   "metadata": {
    "id": "8M3fXVn_URsL"
   },
   "outputs": [
    {
     "name": "stdout",
     "output_type": "stream",
     "text": [
      "Epoch 1/100\n",
      "804/804 [==============================] - 1s 828us/step - loss: 0.5773 - accuracy: 0.7187\n",
      "Epoch 2/100\n",
      "804/804 [==============================] - 1s 827us/step - loss: 0.5535 - accuracy: 0.7284\n",
      "Epoch 3/100\n",
      "804/804 [==============================] - 1s 824us/step - loss: 0.5511 - accuracy: 0.7304\n",
      "Epoch 4/100\n",
      "804/804 [==============================] - 1s 812us/step - loss: 0.5476 - accuracy: 0.7328\n",
      "Epoch 5/100\n",
      "804/804 [==============================] - 1s 807us/step - loss: 0.5461 - accuracy: 0.7332\n",
      "Epoch 6/100\n",
      "804/804 [==============================] - 1s 801us/step - loss: 0.5453 - accuracy: 0.7337\n",
      "Epoch 7/100\n",
      "804/804 [==============================] - 1s 811us/step - loss: 0.5438 - accuracy: 0.7339\n",
      "Epoch 8/100\n",
      "804/804 [==============================] - 1s 812us/step - loss: 0.5430 - accuracy: 0.7343\n",
      "Epoch 9/100\n",
      "804/804 [==============================] - 1s 812us/step - loss: 0.5429 - accuracy: 0.7347\n",
      "Epoch 10/100\n",
      "804/804 [==============================] - 1s 801us/step - loss: 0.5415 - accuracy: 0.7351\n",
      "Epoch 11/100\n",
      "804/804 [==============================] - 1s 821us/step - loss: 0.5413 - accuracy: 0.7351\n",
      "Epoch 12/100\n",
      "804/804 [==============================] - 1s 818us/step - loss: 0.5403 - accuracy: 0.7371\n",
      "Epoch 13/100\n",
      "804/804 [==============================] - 1s 804us/step - loss: 0.5403 - accuracy: 0.7361\n",
      "Epoch 14/100\n",
      "804/804 [==============================] - 1s 815us/step - loss: 0.5398 - accuracy: 0.7372\n",
      "Epoch 15/100\n",
      "804/804 [==============================] - 1s 799us/step - loss: 0.5396 - accuracy: 0.7370\n",
      "Epoch 16/100\n",
      "804/804 [==============================] - 1s 802us/step - loss: 0.5390 - accuracy: 0.7371\n",
      "Epoch 17/100\n",
      "804/804 [==============================] - 1s 808us/step - loss: 0.5381 - accuracy: 0.7374\n",
      "Epoch 18/100\n",
      "804/804 [==============================] - 1s 801us/step - loss: 0.5382 - accuracy: 0.7381\n",
      "Epoch 19/100\n",
      "804/804 [==============================] - 1s 802us/step - loss: 0.5375 - accuracy: 0.7375\n",
      "Epoch 20/100\n",
      "804/804 [==============================] - 1s 801us/step - loss: 0.5375 - accuracy: 0.7389\n",
      "Epoch 21/100\n",
      "804/804 [==============================] - 1s 803us/step - loss: 0.5374 - accuracy: 0.7392\n",
      "Epoch 22/100\n",
      "804/804 [==============================] - 1s 809us/step - loss: 0.5368 - accuracy: 0.7381\n",
      "Epoch 23/100\n",
      "804/804 [==============================] - 1s 801us/step - loss: 0.5362 - accuracy: 0.7392\n",
      "Epoch 24/100\n",
      "804/804 [==============================] - 1s 802us/step - loss: 0.5362 - accuracy: 0.7397\n",
      "Epoch 25/100\n",
      "804/804 [==============================] - 1s 801us/step - loss: 0.5360 - accuracy: 0.7395\n",
      "Epoch 26/100\n",
      "804/804 [==============================] - 1s 803us/step - loss: 0.5355 - accuracy: 0.7401\n",
      "Epoch 27/100\n",
      "804/804 [==============================] - 1s 803us/step - loss: 0.5350 - accuracy: 0.7389\n",
      "Epoch 28/100\n",
      "804/804 [==============================] - 1s 794us/step - loss: 0.5350 - accuracy: 0.7405\n",
      "Epoch 29/100\n",
      "804/804 [==============================] - 1s 799us/step - loss: 0.5346 - accuracy: 0.7405\n",
      "Epoch 30/100\n",
      "804/804 [==============================] - 1s 804us/step - loss: 0.5348 - accuracy: 0.7405\n",
      "Epoch 31/100\n",
      "804/804 [==============================] - 1s 796us/step - loss: 0.5345 - accuracy: 0.7398\n",
      "Epoch 32/100\n",
      "804/804 [==============================] - 1s 803us/step - loss: 0.5347 - accuracy: 0.7404\n",
      "Epoch 33/100\n",
      "804/804 [==============================] - 1s 799us/step - loss: 0.5343 - accuracy: 0.7400\n",
      "Epoch 34/100\n",
      "804/804 [==============================] - 1s 799us/step - loss: 0.5332 - accuracy: 0.7407\n",
      "Epoch 35/100\n",
      "804/804 [==============================] - 1s 808us/step - loss: 0.5337 - accuracy: 0.7408\n",
      "Epoch 36/100\n",
      "804/804 [==============================] - 1s 798us/step - loss: 0.5336 - accuracy: 0.7401\n",
      "Epoch 37/100\n",
      "804/804 [==============================] - 1s 796us/step - loss: 0.5336 - accuracy: 0.7406\n",
      "Epoch 38/100\n",
      "804/804 [==============================] - 1s 797us/step - loss: 0.5330 - accuracy: 0.7406\n",
      "Epoch 39/100\n",
      "804/804 [==============================] - 1s 798us/step - loss: 0.5334 - accuracy: 0.7406\n",
      "Epoch 40/100\n",
      "804/804 [==============================] - 1s 794us/step - loss: 0.5331 - accuracy: 0.7403\n",
      "Epoch 41/100\n",
      "804/804 [==============================] - 1s 802us/step - loss: 0.5329 - accuracy: 0.7409\n",
      "Epoch 42/100\n",
      "804/804 [==============================] - 1s 798us/step - loss: 0.5325 - accuracy: 0.7423\n",
      "Epoch 43/100\n",
      "804/804 [==============================] - 1s 799us/step - loss: 0.5329 - accuracy: 0.7404\n",
      "Epoch 44/100\n",
      "804/804 [==============================] - 1s 796us/step - loss: 0.5328 - accuracy: 0.7420\n",
      "Epoch 45/100\n",
      "804/804 [==============================] - 1s 794us/step - loss: 0.5324 - accuracy: 0.7405\n",
      "Epoch 46/100\n",
      "804/804 [==============================] - 1s 798us/step - loss: 0.5327 - accuracy: 0.7407\n",
      "Epoch 47/100\n",
      "804/804 [==============================] - 1s 800us/step - loss: 0.5322 - accuracy: 0.7420\n",
      "Epoch 48/100\n",
      "804/804 [==============================] - 1s 799us/step - loss: 0.5326 - accuracy: 0.7415\n",
      "Epoch 49/100\n",
      "804/804 [==============================] - 1s 797us/step - loss: 0.5319 - accuracy: 0.7410\n",
      "Epoch 50/100\n",
      "804/804 [==============================] - 1s 796us/step - loss: 0.5322 - accuracy: 0.7414\n",
      "Epoch 51/100\n",
      "804/804 [==============================] - 1s 796us/step - loss: 0.5317 - accuracy: 0.7414\n",
      "Epoch 52/100\n",
      "804/804 [==============================] - 1s 798us/step - loss: 0.5311 - accuracy: 0.7415\n",
      "Epoch 53/100\n",
      "804/804 [==============================] - 1s 796us/step - loss: 0.5319 - accuracy: 0.7410\n",
      "Epoch 54/100\n",
      "804/804 [==============================] - 1s 795us/step - loss: 0.5320 - accuracy: 0.7414\n",
      "Epoch 55/100\n",
      "804/804 [==============================] - 1s 807us/step - loss: 0.5317 - accuracy: 0.7412\n",
      "Epoch 56/100\n",
      "804/804 [==============================] - 1s 788us/step - loss: 0.5315 - accuracy: 0.7411\n",
      "Epoch 57/100\n",
      "804/804 [==============================] - 1s 794us/step - loss: 0.5313 - accuracy: 0.7425\n",
      "Epoch 58/100\n",
      "804/804 [==============================] - 1s 809us/step - loss: 0.5307 - accuracy: 0.7423\n",
      "Epoch 59/100\n",
      "804/804 [==============================] - 1s 799us/step - loss: 0.5311 - accuracy: 0.7411\n",
      "Epoch 60/100\n",
      "804/804 [==============================] - 1s 793us/step - loss: 0.5307 - accuracy: 0.7420\n",
      "Epoch 61/100\n",
      "804/804 [==============================] - 1s 789us/step - loss: 0.5307 - accuracy: 0.7423\n",
      "Epoch 62/100\n",
      "804/804 [==============================] - 1s 804us/step - loss: 0.5309 - accuracy: 0.7418\n",
      "Epoch 63/100\n",
      "804/804 [==============================] - 1s 797us/step - loss: 0.5312 - accuracy: 0.7423\n",
      "Epoch 64/100\n",
      "804/804 [==============================] - 1s 790us/step - loss: 0.5305 - accuracy: 0.7421\n",
      "Epoch 65/100\n",
      "804/804 [==============================] - 1s 805us/step - loss: 0.5309 - accuracy: 0.7414\n",
      "Epoch 66/100\n",
      "804/804 [==============================] - 1s 797us/step - loss: 0.5304 - accuracy: 0.7417\n",
      "Epoch 67/100\n",
      "804/804 [==============================] - 1s 797us/step - loss: 0.5304 - accuracy: 0.7421\n",
      "Epoch 68/100\n",
      "804/804 [==============================] - 1s 802us/step - loss: 0.5303 - accuracy: 0.7421\n",
      "Epoch 69/100\n",
      "804/804 [==============================] - 1s 812us/step - loss: 0.5306 - accuracy: 0.7421\n",
      "Epoch 70/100\n",
      "804/804 [==============================] - 1s 799us/step - loss: 0.5301 - accuracy: 0.7420\n",
      "Epoch 71/100\n",
      "804/804 [==============================] - 1s 800us/step - loss: 0.5305 - accuracy: 0.7418\n",
      "Epoch 72/100\n",
      "804/804 [==============================] - 1s 806us/step - loss: 0.5302 - accuracy: 0.7419\n",
      "Epoch 73/100\n",
      "804/804 [==============================] - 1s 801us/step - loss: 0.5300 - accuracy: 0.7421\n",
      "Epoch 74/100\n",
      "804/804 [==============================] - 1s 801us/step - loss: 0.5301 - accuracy: 0.7427\n",
      "Epoch 75/100\n",
      "804/804 [==============================] - 1s 795us/step - loss: 0.5299 - accuracy: 0.7421\n",
      "Epoch 76/100\n",
      "804/804 [==============================] - 1s 821us/step - loss: 0.5296 - accuracy: 0.7425\n",
      "Epoch 77/100\n",
      "804/804 [==============================] - 1s 805us/step - loss: 0.5299 - accuracy: 0.7415\n",
      "Epoch 78/100\n",
      "804/804 [==============================] - 1s 809us/step - loss: 0.5297 - accuracy: 0.7421\n",
      "Epoch 79/100\n",
      "804/804 [==============================] - 1s 808us/step - loss: 0.5298 - accuracy: 0.7423\n",
      "Epoch 80/100\n",
      "804/804 [==============================] - 1s 813us/step - loss: 0.5298 - accuracy: 0.7423\n",
      "Epoch 81/100\n",
      "804/804 [==============================] - 1s 776us/step - loss: 0.5296 - accuracy: 0.7415\n",
      "Epoch 82/100\n",
      "804/804 [==============================] - 1s 814us/step - loss: 0.5292 - accuracy: 0.7423\n",
      "Epoch 83/100\n",
      "804/804 [==============================] - 1s 807us/step - loss: 0.5294 - accuracy: 0.7412\n",
      "Epoch 84/100\n",
      "804/804 [==============================] - 1s 816us/step - loss: 0.5295 - accuracy: 0.7425\n",
      "Epoch 85/100\n",
      "804/804 [==============================] - 1s 814us/step - loss: 0.5292 - accuracy: 0.7421\n",
      "Epoch 86/100\n",
      "804/804 [==============================] - 1s 824us/step - loss: 0.5293 - accuracy: 0.7426\n",
      "Epoch 87/100\n",
      "804/804 [==============================] - 1s 820us/step - loss: 0.5294 - accuracy: 0.7424\n",
      "Epoch 88/100\n",
      "804/804 [==============================] - 1s 820us/step - loss: 0.5292 - accuracy: 0.7421\n",
      "Epoch 89/100\n",
      "804/804 [==============================] - 1s 812us/step - loss: 0.5294 - accuracy: 0.7417\n",
      "Epoch 90/100\n",
      "804/804 [==============================] - 1s 829us/step - loss: 0.5290 - accuracy: 0.7421\n",
      "Epoch 91/100\n",
      "804/804 [==============================] - 1s 818us/step - loss: 0.5292 - accuracy: 0.7422\n",
      "Epoch 92/100\n",
      "804/804 [==============================] - 1s 816us/step - loss: 0.5287 - accuracy: 0.7427\n",
      "Epoch 93/100\n",
      "804/804 [==============================] - 1s 819us/step - loss: 0.5293 - accuracy: 0.7425\n",
      "Epoch 94/100\n",
      "804/804 [==============================] - 1s 804us/step - loss: 0.5287 - accuracy: 0.7430\n",
      "Epoch 95/100\n",
      "804/804 [==============================] - 1s 818us/step - loss: 0.5287 - accuracy: 0.7424\n",
      "Epoch 96/100\n",
      "804/804 [==============================] - 1s 823us/step - loss: 0.5289 - accuracy: 0.7427\n",
      "Epoch 97/100\n",
      "804/804 [==============================] - 1s 816us/step - loss: 0.5286 - accuracy: 0.7427\n",
      "Epoch 98/100\n",
      "804/804 [==============================] - 1s 822us/step - loss: 0.5285 - accuracy: 0.7416\n",
      "Epoch 99/100\n",
      "804/804 [==============================] - 1s 808us/step - loss: 0.5290 - accuracy: 0.7422\n",
      "Epoch 100/100\n",
      "804/804 [==============================] - 1s 824us/step - loss: 0.5284 - accuracy: 0.7427\n"
     ]
    }
   ],
   "source": [
    "# Fit the model with 100 epochs\n",
    "# YOUR CODE HERE\n",
    "\n",
    "fit_model_A2 = nn_A2.fit(X_train_scaled, y_train, epochs=100)"
   ]
  },
  {
   "cell_type": "code",
   "execution_count": 50,
   "metadata": {},
   "outputs": [],
   "source": [
    "# Alternative Model 3 with \"relu\" activation function and optimizer with three hidden layers"
   ]
  },
  {
   "cell_type": "code",
   "execution_count": 51,
   "metadata": {},
   "outputs": [
    {
     "data": {
      "text/plain": [
       "116"
      ]
     },
     "execution_count": 51,
     "metadata": {},
     "output_type": "execute_result"
    }
   ],
   "source": [
    "# Define the the number of inputs (features) to the model\n",
    "number_input_features_A3 = len(X_train.iloc[0])\n",
    "\n",
    "# Review the number of features\n",
    "number_input_features_A3"
   ]
  },
  {
   "cell_type": "code",
   "execution_count": 52,
   "metadata": {},
   "outputs": [],
   "source": [
    "# Define the number of neurons in the output layer\n",
    "number_output_neurons_A3 = 1"
   ]
  },
  {
   "cell_type": "code",
   "execution_count": 53,
   "metadata": {},
   "outputs": [
    {
     "data": {
      "text/plain": [
       "58"
      ]
     },
     "execution_count": 53,
     "metadata": {},
     "output_type": "execute_result"
    }
   ],
   "source": [
    "# Define the number of hidden nodes for the first hidden layer\n",
    "hidden_nodes_layer1_A3 = (number_input_features_A3 + number_output_neurons_A3) // 2\n",
    "\n",
    "# Review the number of hidden nodes in the first layer\n",
    "hidden_nodes_layer1_A3"
   ]
  },
  {
   "cell_type": "code",
   "execution_count": 54,
   "metadata": {},
   "outputs": [
    {
     "data": {
      "text/plain": [
       "29"
      ]
     },
     "execution_count": 54,
     "metadata": {},
     "output_type": "execute_result"
    }
   ],
   "source": [
    "# Define the number of hidden nodes for the second hidden layer\n",
    "hidden_nodes_layer2_A3 = (hidden_nodes_layer1_A3 + number_output_neurons_A3) // 2\n",
    "\n",
    "# Review the number of hidden nodes in the first layer\n",
    "hidden_nodes_layer2_A3"
   ]
  },
  {
   "cell_type": "code",
   "execution_count": 55,
   "metadata": {},
   "outputs": [
    {
     "data": {
      "text/plain": [
       "15"
      ]
     },
     "execution_count": 55,
     "metadata": {},
     "output_type": "execute_result"
    }
   ],
   "source": [
    "# Define the number of hidden nodes for the third hidden layer\n",
    "hidden_nodes_layer3_A3 = (hidden_nodes_layer2_A3 + number_output_neurons_A3) // 2\n",
    "\n",
    "# Review the number of hidden nodes in the first layer\n",
    "hidden_nodes_layer3_A3"
   ]
  },
  {
   "cell_type": "code",
   "execution_count": 56,
   "metadata": {},
   "outputs": [],
   "source": [
    "# Create the Sequential model instance\n",
    "nn_A3 = Sequential()"
   ]
  },
  {
   "cell_type": "code",
   "execution_count": 57,
   "metadata": {},
   "outputs": [
    {
     "name": "stdout",
     "output_type": "stream",
     "text": [
      "Model: \"sequential_3\"\n",
      "_________________________________________________________________\n",
      "Layer (type)                 Output Shape              Param #   \n",
      "=================================================================\n",
      "dense_13 (Dense)             (None, 58)                6786      \n",
      "_________________________________________________________________\n",
      "dense_14 (Dense)             (None, 29)                1711      \n",
      "_________________________________________________________________\n",
      "dense_15 (Dense)             (None, 15)                450       \n",
      "_________________________________________________________________\n",
      "dense_16 (Dense)             (None, 1)                 16        \n",
      "=================================================================\n",
      "Total params: 8,963\n",
      "Trainable params: 8,963\n",
      "Non-trainable params: 0\n",
      "_________________________________________________________________\n"
     ]
    }
   ],
   "source": [
    "# First hidden layer with \"relu\" activation function for the input and sigmoid for the output layer\n",
    "# YOUR CODE HERE\n",
    "nn_A3.add(Dense(units=hidden_nodes_layer1_A3, input_dim=number_input_features_A3, activation=\"relu\"))\n",
    "\n",
    "# second hidden layer\n",
    "# YOUR CODE HERE\n",
    "nn_A3.add(Dense(units=hidden_nodes_layer2_A3, activation=\"relu\"))\n",
    "\n",
    "# Third hidden layer\n",
    "# YOUR CODE HERE\n",
    "nn_A3.add(Dense(units=hidden_nodes_layer3_A3, activation=\"relu\"))\n",
    "\n",
    "\n",
    "# Output layer\n",
    "# YOUR CODE HERE\n",
    "nn_A3.add(Dense(units=number_output_neurons_A3, activation=\"sigmoid\"))\n",
    "\n",
    "# Check the structure of the model\n",
    "# YOUR CODE HERE\n",
    "nn_A3.summary()"
   ]
  },
  {
   "cell_type": "code",
   "execution_count": 58,
   "metadata": {},
   "outputs": [],
   "source": [
    "# Compile the model\n",
    "# YOUR CODE HERE\n",
    "nn_A3.compile(loss=\"binary_crossentropy\", optimizer=\"adam\", metrics=[\"accuracy\"])"
   ]
  },
  {
   "cell_type": "code",
   "execution_count": 59,
   "metadata": {},
   "outputs": [
    {
     "name": "stdout",
     "output_type": "stream",
     "text": [
      "Epoch 1/100\n",
      "804/804 [==============================] - 1s 873us/step - loss: 0.5704 - accuracy: 0.7234\n",
      "Epoch 2/100\n",
      "804/804 [==============================] - 1s 873us/step - loss: 0.5524 - accuracy: 0.7298\n",
      "Epoch 3/100\n",
      "804/804 [==============================] - 1s 875us/step - loss: 0.5488 - accuracy: 0.7312\n",
      "Epoch 4/100\n",
      "804/804 [==============================] - 1s 871us/step - loss: 0.5468 - accuracy: 0.7327\n",
      "Epoch 5/100\n",
      "804/804 [==============================] - 1s 874us/step - loss: 0.5457 - accuracy: 0.7330\n",
      "Epoch 6/100\n",
      "804/804 [==============================] - 1s 836us/step - loss: 0.5439 - accuracy: 0.7344\n",
      "Epoch 7/100\n",
      "804/804 [==============================] - 1s 855us/step - loss: 0.5435 - accuracy: 0.7342\n",
      "Epoch 8/100\n",
      "804/804 [==============================] - 1s 855us/step - loss: 0.5427 - accuracy: 0.7358\n",
      "Epoch 9/100\n",
      "804/804 [==============================] - 1s 862us/step - loss: 0.5422 - accuracy: 0.7359\n",
      "Epoch 10/100\n",
      "804/804 [==============================] - 1s 861us/step - loss: 0.5417 - accuracy: 0.7353\n",
      "Epoch 11/100\n",
      "804/804 [==============================] - 1s 856us/step - loss: 0.5409 - accuracy: 0.7370\n",
      "Epoch 12/100\n",
      "804/804 [==============================] - 1s 863us/step - loss: 0.5404 - accuracy: 0.7365\n",
      "Epoch 13/100\n",
      "804/804 [==============================] - 1s 862us/step - loss: 0.5402 - accuracy: 0.7370\n",
      "Epoch 14/100\n",
      "804/804 [==============================] - 1s 872us/step - loss: 0.5399 - accuracy: 0.7368\n",
      "Epoch 15/100\n",
      "804/804 [==============================] - 1s 855us/step - loss: 0.5394 - accuracy: 0.7381\n",
      "Epoch 16/100\n",
      "804/804 [==============================] - 1s 862us/step - loss: 0.5389 - accuracy: 0.7372\n",
      "Epoch 17/100\n",
      "804/804 [==============================] - 1s 859us/step - loss: 0.5390 - accuracy: 0.7375\n",
      "Epoch 18/100\n",
      "804/804 [==============================] - 1s 854us/step - loss: 0.5386 - accuracy: 0.7374\n",
      "Epoch 19/100\n",
      "804/804 [==============================] - 1s 868us/step - loss: 0.5381 - accuracy: 0.7385\n",
      "Epoch 20/100\n",
      "804/804 [==============================] - 1s 856us/step - loss: 0.5375 - accuracy: 0.7382\n",
      "Epoch 21/100\n",
      "804/804 [==============================] - 1s 860us/step - loss: 0.5380 - accuracy: 0.7379\n",
      "Epoch 22/100\n",
      "804/804 [==============================] - 1s 864us/step - loss: 0.5364 - accuracy: 0.7391\n",
      "Epoch 23/100\n",
      "804/804 [==============================] - 1s 865us/step - loss: 0.5367 - accuracy: 0.7390\n",
      "Epoch 24/100\n",
      "804/804 [==============================] - 1s 864us/step - loss: 0.5370 - accuracy: 0.7395\n",
      "Epoch 25/100\n",
      "804/804 [==============================] - 1s 868us/step - loss: 0.5368 - accuracy: 0.7391\n",
      "Epoch 26/100\n",
      "804/804 [==============================] - 1s 874us/step - loss: 0.5363 - accuracy: 0.7399\n",
      "Epoch 27/100\n",
      "804/804 [==============================] - 1s 857us/step - loss: 0.5357 - accuracy: 0.7398\n",
      "Epoch 28/100\n",
      "804/804 [==============================] - 1s 872us/step - loss: 0.5359 - accuracy: 0.7395\n",
      "Epoch 29/100\n",
      "804/804 [==============================] - 1s 861us/step - loss: 0.5354 - accuracy: 0.7393\n",
      "Epoch 30/100\n",
      "804/804 [==============================] - 1s 873us/step - loss: 0.5349 - accuracy: 0.7398\n",
      "Epoch 31/100\n",
      "804/804 [==============================] - 1s 857us/step - loss: 0.5352 - accuracy: 0.7398\n",
      "Epoch 32/100\n",
      "804/804 [==============================] - 1s 869us/step - loss: 0.5346 - accuracy: 0.7403\n",
      "Epoch 33/100\n",
      "804/804 [==============================] - 1s 863us/step - loss: 0.5347 - accuracy: 0.7407\n",
      "Epoch 34/100\n",
      "804/804 [==============================] - 1s 866us/step - loss: 0.5345 - accuracy: 0.7392\n",
      "Epoch 35/100\n",
      "804/804 [==============================] - 1s 861us/step - loss: 0.5346 - accuracy: 0.7402\n",
      "Epoch 36/100\n",
      "804/804 [==============================] - 1s 872us/step - loss: 0.5346 - accuracy: 0.7398\n",
      "Epoch 37/100\n",
      "804/804 [==============================] - 1s 864us/step - loss: 0.5339 - accuracy: 0.7406\n",
      "Epoch 38/100\n",
      "804/804 [==============================] - 1s 864us/step - loss: 0.5332 - accuracy: 0.7409\n",
      "Epoch 39/100\n",
      "804/804 [==============================] - 1s 867us/step - loss: 0.5333 - accuracy: 0.7412\n",
      "Epoch 40/100\n",
      "804/804 [==============================] - 1s 869us/step - loss: 0.5334 - accuracy: 0.7407\n",
      "Epoch 41/100\n",
      "804/804 [==============================] - 1s 872us/step - loss: 0.5327 - accuracy: 0.7403\n",
      "Epoch 42/100\n",
      "804/804 [==============================] - 1s 875us/step - loss: 0.5331 - accuracy: 0.7403\n",
      "Epoch 43/100\n",
      "804/804 [==============================] - 1s 867us/step - loss: 0.5324 - accuracy: 0.7413\n",
      "Epoch 44/100\n",
      "804/804 [==============================] - 1s 879us/step - loss: 0.5331 - accuracy: 0.7405\n",
      "Epoch 45/100\n",
      "804/804 [==============================] - 1s 865us/step - loss: 0.5323 - accuracy: 0.7405\n",
      "Epoch 46/100\n",
      "804/804 [==============================] - 1s 866us/step - loss: 0.5324 - accuracy: 0.7411\n",
      "Epoch 47/100\n",
      "804/804 [==============================] - 1s 876us/step - loss: 0.5317 - accuracy: 0.7408\n",
      "Epoch 48/100\n",
      "804/804 [==============================] - 1s 888us/step - loss: 0.5315 - accuracy: 0.7400\n",
      "Epoch 49/100\n",
      "804/804 [==============================] - 1s 869us/step - loss: 0.5318 - accuracy: 0.7410\n",
      "Epoch 50/100\n",
      "804/804 [==============================] - 1s 882us/step - loss: 0.5321 - accuracy: 0.7403\n",
      "Epoch 51/100\n",
      "804/804 [==============================] - 1s 874us/step - loss: 0.5317 - accuracy: 0.7404\n",
      "Epoch 52/100\n",
      "804/804 [==============================] - 1s 786us/step - loss: 0.5313 - accuracy: 0.7416\n",
      "Epoch 53/100\n",
      "804/804 [==============================] - 1s 807us/step - loss: 0.5316 - accuracy: 0.7414\n",
      "Epoch 54/100\n",
      "804/804 [==============================] - 1s 806us/step - loss: 0.5312 - accuracy: 0.7409\n",
      "Epoch 55/100\n",
      "804/804 [==============================] - 1s 819us/step - loss: 0.5309 - accuracy: 0.7406\n",
      "Epoch 56/100\n",
      "804/804 [==============================] - 1s 803us/step - loss: 0.5309 - accuracy: 0.7420\n",
      "Epoch 57/100\n",
      "804/804 [==============================] - 1s 819us/step - loss: 0.5313 - accuracy: 0.7423\n",
      "Epoch 58/100\n",
      "804/804 [==============================] - 1s 878us/step - loss: 0.5305 - accuracy: 0.7416\n",
      "Epoch 59/100\n",
      "804/804 [==============================] - 1s 828us/step - loss: 0.5310 - accuracy: 0.7413\n",
      "Epoch 60/100\n",
      "804/804 [==============================] - 1s 823us/step - loss: 0.5306 - accuracy: 0.7413\n",
      "Epoch 61/100\n",
      "804/804 [==============================] - 1s 842us/step - loss: 0.5308 - accuracy: 0.7422\n",
      "Epoch 62/100\n",
      "804/804 [==============================] - 1s 877us/step - loss: 0.5304 - accuracy: 0.7423\n",
      "Epoch 63/100\n",
      "804/804 [==============================] - 1s 885us/step - loss: 0.5299 - accuracy: 0.7419\n",
      "Epoch 64/100\n",
      "804/804 [==============================] - 1s 878us/step - loss: 0.5301 - accuracy: 0.7419\n",
      "Epoch 65/100\n",
      "804/804 [==============================] - 1s 877us/step - loss: 0.5301 - accuracy: 0.7420\n",
      "Epoch 66/100\n",
      "804/804 [==============================] - 1s 884us/step - loss: 0.5298 - accuracy: 0.7420\n",
      "Epoch 67/100\n",
      "804/804 [==============================] - 1s 884us/step - loss: 0.5302 - accuracy: 0.7414\n",
      "Epoch 68/100\n",
      "804/804 [==============================] - 1s 879us/step - loss: 0.5294 - accuracy: 0.7421\n",
      "Epoch 69/100\n",
      "804/804 [==============================] - 1s 854us/step - loss: 0.5297 - accuracy: 0.7420\n",
      "Epoch 70/100\n",
      "804/804 [==============================] - 1s 819us/step - loss: 0.5294 - accuracy: 0.7421\n",
      "Epoch 71/100\n",
      "804/804 [==============================] - 1s 883us/step - loss: 0.5291 - accuracy: 0.7416\n",
      "Epoch 72/100\n",
      "804/804 [==============================] - 1s 887us/step - loss: 0.5293 - accuracy: 0.7424\n",
      "Epoch 73/100\n",
      "804/804 [==============================] - 1s 887us/step - loss: 0.5293 - accuracy: 0.7422\n",
      "Epoch 74/100\n",
      "804/804 [==============================] - 1s 889us/step - loss: 0.5293 - accuracy: 0.7425\n",
      "Epoch 75/100\n",
      "804/804 [==============================] - 1s 887us/step - loss: 0.5291 - accuracy: 0.7415\n",
      "Epoch 76/100\n",
      "804/804 [==============================] - 1s 883us/step - loss: 0.5293 - accuracy: 0.7423\n",
      "Epoch 77/100\n",
      "804/804 [==============================] - 1s 882us/step - loss: 0.5286 - accuracy: 0.7424\n",
      "Epoch 78/100\n",
      "804/804 [==============================] - 1s 883us/step - loss: 0.5290 - accuracy: 0.7427\n",
      "Epoch 79/100\n",
      "804/804 [==============================] - 1s 881us/step - loss: 0.5287 - accuracy: 0.7426\n",
      "Epoch 80/100\n",
      "804/804 [==============================] - 1s 874us/step - loss: 0.5287 - accuracy: 0.7431\n",
      "Epoch 81/100\n",
      "804/804 [==============================] - 1s 827us/step - loss: 0.5289 - accuracy: 0.7415\n",
      "Epoch 82/100\n",
      "804/804 [==============================] - 1s 784us/step - loss: 0.5285 - accuracy: 0.7430\n",
      "Epoch 83/100\n",
      "804/804 [==============================] - 1s 874us/step - loss: 0.5282 - accuracy: 0.7432\n",
      "Epoch 84/100\n",
      "804/804 [==============================] - 1s 876us/step - loss: 0.5284 - accuracy: 0.7433\n",
      "Epoch 85/100\n",
      "804/804 [==============================] - 1s 890us/step - loss: 0.5279 - accuracy: 0.7430\n",
      "Epoch 86/100\n",
      "804/804 [==============================] - 1s 885us/step - loss: 0.5284 - accuracy: 0.7419\n",
      "Epoch 87/100\n",
      "804/804 [==============================] - 1s 887us/step - loss: 0.5282 - accuracy: 0.7425\n",
      "Epoch 88/100\n",
      "804/804 [==============================] - 1s 876us/step - loss: 0.5281 - accuracy: 0.7425\n",
      "Epoch 89/100\n",
      "804/804 [==============================] - 1s 879us/step - loss: 0.5285 - accuracy: 0.7420\n",
      "Epoch 90/100\n",
      "804/804 [==============================] - 1s 886us/step - loss: 0.5281 - accuracy: 0.7429\n",
      "Epoch 91/100\n",
      "804/804 [==============================] - 1s 888us/step - loss: 0.5282 - accuracy: 0.7423\n",
      "Epoch 92/100\n",
      "804/804 [==============================] - 1s 887us/step - loss: 0.5281 - accuracy: 0.7430\n",
      "Epoch 93/100\n",
      "804/804 [==============================] - 1s 880us/step - loss: 0.5276 - accuracy: 0.7430\n",
      "Epoch 94/100\n",
      "804/804 [==============================] - 1s 897us/step - loss: 0.5277 - accuracy: 0.7435\n",
      "Epoch 95/100\n",
      "804/804 [==============================] - 1s 878us/step - loss: 0.5272 - accuracy: 0.7423\n",
      "Epoch 96/100\n",
      "804/804 [==============================] - 1s 881us/step - loss: 0.5279 - accuracy: 0.7434\n",
      "Epoch 97/100\n",
      "804/804 [==============================] - 1s 890us/step - loss: 0.5274 - accuracy: 0.7431\n",
      "Epoch 98/100\n",
      "804/804 [==============================] - 1s 887us/step - loss: 0.5275 - accuracy: 0.7425\n",
      "Epoch 99/100\n",
      "804/804 [==============================] - 1s 888us/step - loss: 0.5272 - accuracy: 0.7434\n",
      "Epoch 100/100\n",
      "804/804 [==============================] - 1s 875us/step - loss: 0.5273 - accuracy: 0.7432\n"
     ]
    }
   ],
   "source": [
    "# Fit the model with 100 epochs\n",
    "# YOUR CODE HERE\n",
    "\n",
    "fit_model_A3 = nn_A3.fit(X_train_scaled, y_train, epochs=100)"
   ]
  },
  {
   "cell_type": "markdown",
   "metadata": {
    "id": "JkA48Z4hURsL"
   },
   "source": [
    "### Step 2: After finishing your models, display the accuracy scores achieved by each model, and compare the results."
   ]
  },
  {
   "cell_type": "code",
   "execution_count": 60,
   "metadata": {
    "id": "RXhF6K8SURsL"
   },
   "outputs": [
    {
     "name": "stdout",
     "output_type": "stream",
     "text": [
      "Original Model Results\n",
      "268/268 - 0s - loss: 0.5605 - accuracy: 0.7306\n",
      "Loss: 0.5604761242866516, Accuracy: 0.7306122183799744\n"
     ]
    }
   ],
   "source": [
    "print(\"Original Model Results\")\n",
    "\n",
    "# Evaluate the model loss and accuracy metrics using the evaluate method and the test data\n",
    "model_loss_baseline, model_accuracy_baseline = nn.evaluate(X_test_scaled,y_test,verbose=2)\n",
    "\n",
    "# Display the model loss and accuracy results\n",
    "print(f\"Loss: {model_loss_baseline}, Accuracy: {model_accuracy_baseline}\")"
   ]
  },
  {
   "cell_type": "code",
   "execution_count": 61,
   "metadata": {},
   "outputs": [
    {
     "data": {
      "text/plain": [
       "<AxesSubplot:title={'center':'Model Accuracy'}, xlabel='epochs', ylabel='accuracy'>"
      ]
     },
     "execution_count": 61,
     "metadata": {},
     "output_type": "execute_result"
    },
    {
     "data": {
      "image/png": "[encoded data removed]",
      "text/plain": [
       "<Figure size 432x288 with 1 Axes>"
      ]
     },
     "metadata": {
      "needs_background": "light"
     },
     "output_type": "display_data"
    },
    {
     "data": {
      "image/png": "[encoded data removed]",
      "text/plain": [
       "<Figure size 432x288 with 1 Axes>"
      ]
     },
     "metadata": {
      "needs_background": "light"
     },
     "output_type": "display_data"
    }
   ],
   "source": [
    "\n",
    "# Create a DataFrame using the model history for loss\n",
    "models_plot_loss = pd.DataFrame(\n",
    "    {'loss_baseline' : fit_model_baseline.history['loss'],\n",
    "    'loss_A1' : fit_model_A1.history['loss'],\n",
    "    'loss_A2' : fit_model_A2.history['loss'],\n",
    "    'loss_A3' : fit_model_A3.history['loss']\n",
    "    }\n",
    ")\n",
    "\n",
    "\n",
    "# Vizualize the model plot where the y-axis displays the loss metric\n",
    "models_plot_loss.plot(title='Model Loss', xlabel='epochs', ylabel='loss')\n",
    "\n",
    "# Create a DataFrame using the model history for accuracy\n",
    "models_plot_accuracy = pd.DataFrame(\n",
    "    {'accuracy_baseline' : fit_model_baseline.history['accuracy'],\n",
    "    'accuracy_A1' : fit_model_A1.history['accuracy'],\n",
    "    'accuracy_A2' : fit_model_A2.history['accuracy'],\n",
    "    'accuracy_A3' : fit_model_A3.history['accuracy']\n",
    "    }\n",
    ")\n",
    "\n",
    "# Vizualize the model plot where the y-axis displays the accuracy metric\n",
    "models_plot_accuracy.plot(title='Model Accuracy', xlabel='epochs', ylabel='accuracy')\n",
    "\n"
   ]
  },
  {
   "cell_type": "code",
   "execution_count": 62,
   "metadata": {},
   "outputs": [
    {
     "data": {
      "text/plain": [
       "<AxesSubplot:title={'center':'Model Accuracy'}, xlabel='epochs', ylabel='accuracy'>"
      ]
     },
     "execution_count": 62,
     "metadata": {},
     "output_type": "execute_result"
    },
    {
     "data": {
      "image/png": "[encoded data removed]",
      "text/plain": [
       "<Figure size 432x288 with 1 Axes>"
      ]
     },
     "metadata": {
      "needs_background": "light"
     },
     "output_type": "display_data"
    },
    {
     "data": {
      "image/png": "[encoded data removed]",
      "text/plain": [
       "<Figure size 432x288 with 1 Axes>"
      ]
     },
     "metadata": {
      "needs_background": "light"
     },
     "output_type": "display_data"
    }
   ],
   "source": [
    "# Create a DataFrame using the model history for loss and comparing thhe baseline data and altternative 1\n",
    "models_plot_loss_baseline_vs_A1 = pd.DataFrame(\n",
    "    {'loss_baseline' : fit_model_baseline.history['loss'],\n",
    "    'loss_A1' : fit_model_A1.history['loss']\n",
    "    }\n",
    ")\n",
    "\n",
    "# Vizualize the model plot where the y-axis displays the loss metric\n",
    "models_plot_loss_baseline_vs_A1.plot(title='Model Loss', xlabel='epochs', ylabel='loss')\n",
    "\n",
    "# Create a DataFrame using the model history for accuracy and comparing the baseline and alternative 1\n",
    "models_plot_accuracy_baseline_vs_A1 = pd.DataFrame(\n",
    "    {'accuracy_baseline' : fit_model_baseline.history['accuracy'],\n",
    "    'accuracy_A1' : fit_model_A1.history['accuracy']\n",
    "    }\n",
    ")\n",
    "\n",
    "# Vizualize the model plot where the y-axis displays the accuracy metric\n",
    "models_plot_accuracy_baseline_vs_A1.plot(title='Model Accuracy', xlabel='epochs', ylabel='accuracy')"
   ]
  },
  {
   "cell_type": "code",
   "execution_count": 63,
   "metadata": {},
   "outputs": [
    {
     "data": {
      "text/plain": [
       "<AxesSubplot:title={'center':'Model Accuracy'}, xlabel='epochs', ylabel='accuracy'>"
      ]
     },
     "execution_count": 63,
     "metadata": {},
     "output_type": "execute_result"
    },
    {
     "data": {
      "image/png": "[encoded data removed]",
      "text/plain": [
       "<Figure size 432x288 with 1 Axes>"
      ]
     },
     "metadata": {
      "needs_background": "light"
     },
     "output_type": "display_data"
    },
    {
     "data": {
      "image/png": "[encoded data removed]",
      "text/plain": [
       "<Figure size 432x288 with 1 Axes>"
      ]
     },
     "metadata": {
      "needs_background": "light"
     },
     "output_type": "display_data"
    }
   ],
   "source": [
    "# Create a DataFrame using the model history for loss and comparing thhe baseline data and altternative 2\n",
    "models_plot_loss_baseline_vs_A2 = pd.DataFrame(\n",
    "    {'loss_baseline' : fit_model_baseline.history['loss'],\n",
    "    'loss_A2' : fit_model_A2.history['loss']\n",
    "    }\n",
    ")\n",
    "\n",
    "# Vizualize the model plot where the y-axis displays the loss metric\n",
    "models_plot_loss_baseline_vs_A2.plot(title='Model Loss', xlabel='epochs', ylabel='loss')\n",
    "\n",
    "# Create a DataFrame using the model history for accuracy and comparing the baseline and alternative 2\n",
    "models_plot_accuracy_baseline_vs_A2 = pd.DataFrame(\n",
    "    {'accuracy_baseline' : fit_model_baseline.history['accuracy'],\n",
    "    'accuracy_A2' : fit_model_A2.history['accuracy']\n",
    "    }\n",
    ")\n",
    "\n",
    "# Vizualize the model plot where the y-axis displays the accuracy metric\n",
    "models_plot_accuracy_baseline_vs_A2.plot(title='Model Accuracy', xlabel='epochs', ylabel='accuracy')"
   ]
  },
  {
   "cell_type": "code",
   "execution_count": 64,
   "metadata": {},
   "outputs": [
    {
     "data": {
      "text/plain": [
       "<AxesSubplot:title={'center':'Model Accuracy'}, xlabel='epochs', ylabel='accuracy'>"
      ]
     },
     "execution_count": 64,
     "metadata": {},
     "output_type": "execute_result"
    },
    {
     "data": {
      "image/png": "[encoded data removed]",
      "text/plain": [
       "<Figure size 432x288 with 1 Axes>"
      ]
     },
     "metadata": {
      "needs_background": "light"
     },
     "output_type": "display_data"
    },
    {
     "data": {
      "image/png": "[encoded data removed]",
      "text/plain": [
       "<Figure size 432x288 with 1 Axes>"
      ]
     },
     "metadata": {
      "needs_background": "light"
     },
     "output_type": "display_data"
    }
   ],
   "source": [
    "# Create a DataFrame using the model history for loss and comparing the baseline data and altternative 3\n",
    "models_plot_loss_baseline_vs_A3 = pd.DataFrame(\n",
    "    {'loss_baseline' : fit_model_baseline.history['loss'],\n",
    "    'loss_A3' : fit_model_A3.history['loss']\n",
    "    }\n",
    ")\n",
    "\n",
    "# Vizualize the model plot where the y-axis displays the loss metric\n",
    "models_plot_loss_baseline_vs_A3.plot(title='Model Loss', xlabel='epochs', ylabel='loss')\n",
    "\n",
    "# Create a DataFrame using the model history for accuracy and comparing the baseline and alternative 3\n",
    "models_plot_accuracy_baseline_vs_A3 = pd.DataFrame(\n",
    "    {'accuracy_baseline' : fit_model_baseline.history['accuracy'],\n",
    "    'accuracy_A3' : fit_model_A3.history['accuracy']\n",
    "    }\n",
    ")\n",
    "\n",
    "# Vizualize the model plot where the y-axis displays the accuracy metric\n",
    "models_plot_accuracy_baseline_vs_A3.plot(title='Model Accuracy', xlabel='epochs', ylabel='accuracy')"
   ]
  },
  {
   "cell_type": "code",
   "execution_count": 65,
   "metadata": {},
   "outputs": [
    {
     "data": {
      "text/plain": [
       "<AxesSubplot:title={'center':'Model Accuracy'}, xlabel='epochs', ylabel='accuracy'>"
      ]
     },
     "execution_count": 65,
     "metadata": {},
     "output_type": "execute_result"
    },
    {
     "data": {
      "image/png": "[encoded data removed]",
      "text/plain": [
       "<Figure size 432x288 with 1 Axes>"
      ]
     },
     "metadata": {
      "needs_background": "light"
     },
     "output_type": "display_data"
    },
    {
     "data": {
      "image/png": "[encoded data removed]",
      "text/plain": [
       "<Figure size 432x288 with 1 Axes>"
      ]
     },
     "metadata": {
      "needs_background": "light"
     },
     "output_type": "display_data"
    }
   ],
   "source": [
    "# Create a DataFrame using the model history for loss and comparing the Alternative 1 and alternative 2\n",
    "models_plot_loss_A1_vs_A2 = pd.DataFrame(\n",
    "    {'loss_A1' : fit_model_A1.history['loss'],\n",
    "    'loss_A2' : fit_model_A2.history['loss']\n",
    "    }\n",
    ")\n",
    "\n",
    "# Vizualize the model plot where the y-axis displays the loss metric\n",
    "models_plot_loss_A1_vs_A2.plot(title='Model Loss', xlabel='epochs', ylabel='loss')\n",
    "\n",
    "# Create a DataFrame using the model history for accuracy and comparing the Alternative 1 and alternative 2\n",
    "models_plot_accuracy_A1_vs_A2 = pd.DataFrame(\n",
    "    {'accuracy_A1' : fit_model_A1.history['accuracy'],\n",
    "    'accuracy_A2' : fit_model_A2.history['accuracy']\n",
    "    }\n",
    ")\n",
    "\n",
    "# Vizualize the model plot where the y-axis displays the accuracy metric\n",
    "models_plot_accuracy_A1_vs_A2.plot(title='Model Accuracy', xlabel='epochs', ylabel='accuracy')"
   ]
  },
  {
   "cell_type": "code",
   "execution_count": 66,
   "metadata": {},
   "outputs": [
    {
     "data": {
      "text/plain": [
       "<AxesSubplot:title={'center':'Model Accuracy'}, xlabel='epochs', ylabel='accuracy'>"
      ]
     },
     "execution_count": 66,
     "metadata": {},
     "output_type": "execute_result"
    },
    {
     "data": {
      "image/png": "[encoded data removed]",
      "text/plain": [
       "<Figure size 432x288 with 1 Axes>"
      ]
     },
     "metadata": {
      "needs_background": "light"
     },
     "output_type": "display_data"
    },
    {
     "data": {
      "image/png": "[encoded data removed]",
      "text/plain": [
       "<Figure size 432x288 with 1 Axes>"
      ]
     },
     "metadata": {
      "needs_background": "light"
     },
     "output_type": "display_data"
    }
   ],
   "source": [
    "# Create a DataFrame using the model history for loss and comparing the Alternative 1 and alternative 3\n",
    "models_plot_loss_A1_vs_A3 = pd.DataFrame(\n",
    "    {'loss_A1' : fit_model_A1.history['loss'],\n",
    "    'loss_A3' : fit_model_A3.history['loss']\n",
    "    }\n",
    ")\n",
    "\n",
    "# Vizualize the model plot where the y-axis displays the loss metric\n",
    "models_plot_loss_A1_vs_A3.plot(title='Model Loss', xlabel='epochs', ylabel='loss')\n",
    "\n",
    "# Create a DataFrame using the model history for accuracy and comparing the Alternative 1 and alternative 3\n",
    "models_plot_accuracy_A1_vs_A3 = pd.DataFrame(\n",
    "    {'accuracy_A1' : fit_model_A1.history['accuracy'],\n",
    "    'accuracy_A3' : fit_model_A3.history['accuracy']\n",
    "    }\n",
    ")\n",
    "\n",
    "# Vizualize the model plot where the y-axis displays the accuracy metric\n",
    "models_plot_accuracy_A1_vs_A3.plot(title='Model Accuracy', xlabel='epochs', ylabel='accuracy')"
   ]
  },
  {
   "cell_type": "code",
   "execution_count": 67,
   "metadata": {},
   "outputs": [
    {
     "data": {
      "text/plain": [
       "<AxesSubplot:title={'center':'Model Accuracy'}, xlabel='epochs', ylabel='accuracy'>"
      ]
     },
     "execution_count": 67,
     "metadata": {},
     "output_type": "execute_result"
    },
    {
     "data": {
      "image/png": "[encoded data removed]",
      "text/plain": [
       "<Figure size 432x288 with 1 Axes>"
      ]
     },
     "metadata": {
      "needs_background": "light"
     },
     "output_type": "display_data"
    },
    {
     "data": {
      "image/png": "[encoded data removed]",
      "text/plain": [
       "<Figure size 432x288 with 1 Axes>"
      ]
     },
     "metadata": {
      "needs_background": "light"
     },
     "output_type": "display_data"
    }
   ],
   "source": [
    "# Create a DataFrame using the model history for loss and comparing the Alternative 2 and alternative 3\n",
    "models_plot_loss_A2_vs_A3 = pd.DataFrame(\n",
    "    {'loss_A2' : fit_model_A2.history['loss'],\n",
    "    'loss_A3' : fit_model_A3.history['loss']\n",
    "    }\n",
    ")\n",
    "\n",
    "# Vizualize the model plot where the y-axis displays the loss metric\n",
    "models_plot_loss_A2_vs_A3.plot(title='Model Loss', xlabel='epochs', ylabel='loss')\n",
    "\n",
    "# Create a DataFrame using the model history for accuracy and comparing the Alternative 2 and alternative 3\n",
    "models_plot_accuracy_A2_vs_A3 = pd.DataFrame(\n",
    "    {'accuracy_A2' : fit_model_A2.history['accuracy'],\n",
    "    'accuracy_A3' : fit_model_A3.history['accuracy']\n",
    "    }\n",
    ")\n",
    "# Vizualize the model plot where the y-axis displays the accuracy metric\n",
    "models_plot_accuracy_A2_vs_A3.plot(title='Model Accuracy', xlabel='epochs', ylabel='accuracy')"
   ]
  },
  {
   "cell_type": "code",
   "execution_count": 68,
   "metadata": {
    "id": "W52oclvkURsL"
   },
   "outputs": [
    {
     "name": "stdout",
     "output_type": "stream",
     "text": [
      "Alternative Model 1 Results\n",
      "268/268 - 0s - loss: 0.5539 - accuracy: 0.7297\n",
      "Loss: 0.5539425611495972, Accuracy: 0.72967928647995\n"
     ]
    }
   ],
   "source": [
    "print(\"Alternative Model 1 Results\")\n",
    "\n",
    "# Evaluate the model loss and accuracy metrics using the evaluate method and the test data\n",
    "model_loss_A1, model_accuracy_A1 = nn_A1.evaluate(X_test_scaled,y_test,verbose=2)\n",
    "\n",
    "# Display the model loss and accuracy results\n",
    "print(f\"Loss: {model_loss_A1}, Accuracy: {model_accuracy_A1}\")"
   ]
  },
  {
   "cell_type": "code",
   "execution_count": 69,
   "metadata": {
    "id": "4yPtU8_nURsL"
   },
   "outputs": [
    {
     "name": "stdout",
     "output_type": "stream",
     "text": [
      "Alternative Model 2 Results\n",
      "268/268 - 0s - loss: 0.5562 - accuracy: 0.7294\n",
      "Loss: 0.5562252402305603, Accuracy: 0.7294460535049438\n"
     ]
    }
   ],
   "source": [
    "print(\"Alternative Model 2 Results\")\n",
    "\n",
    "# Evaluate the model loss and accuracy metrics using the evaluate method and the test data\n",
    "model_loss_A2, model_accuracy_A2 = nn_A2.evaluate(X_test_scaled,y_test,verbose=2)\n",
    "\n",
    "# Display the model loss and accuracy results\n",
    "print(f\"Loss: {model_loss_A2}, Accuracy: {model_accuracy_A2}\")"
   ]
  },
  {
   "cell_type": "code",
   "execution_count": 70,
   "metadata": {},
   "outputs": [
    {
     "name": "stdout",
     "output_type": "stream",
     "text": [
      "Alternative Model 3 Results\n",
      "268/268 - 0s - loss: 0.5665 - accuracy: 0.7320\n",
      "Loss: 0.5665133595466614, Accuracy: 0.7320116758346558\n"
     ]
    }
   ],
   "source": [
    "print(\"Alternative Model 3 Results\")\n",
    "\n",
    "# Evaluate the model loss and accuracy metrics using the evaluate method and the test data\n",
    "model_loss_A3, model_accuracy_A3 = nn_A3.evaluate(X_test_scaled,y_test,verbose=2)\n",
    "\n",
    "# Display the model loss and accuracy results\n",
    "print(f\"Loss: {model_loss_A3}, Accuracy: {model_accuracy_A3}\")"
   ]
  },
  {
   "cell_type": "markdown",
   "metadata": {
    "id": "eQ3b2y7OURsM"
   },
   "source": [
    "### Step 3: Save each of your alternative models as an HDF5 file.\n"
   ]
  },
  {
   "cell_type": "code",
   "execution_count": 71,
   "metadata": {
    "id": "a1tXiNBZURsM"
   },
   "outputs": [],
   "source": [
    "# Set the file path for the first alternative model 1\n",
    "file_path = Path(\"Resources/AlphabetSoup_A1.h5\")\n",
    "\n",
    "\n",
    "# Export your model to a HDF5 file\n",
    "nn_A1.save(file_path)\n"
   ]
  },
  {
   "cell_type": "code",
   "execution_count": 72,
   "metadata": {
    "id": "W9KTZW35URsM"
   },
   "outputs": [],
   "source": [
    "# Set the file path for the second alternative model 2\n",
    "file_path = Path(\"Resources/AlphabetSoup_A2.h5\")\n",
    "\n",
    "# Export your model to a HDF5 file\n",
    "nn_A2.save(file_path)\n"
   ]
  },
  {
   "cell_type": "code",
   "execution_count": 74,
   "metadata": {
    "id": "IiQ2lyQuURsM"
   },
   "outputs": [],
   "source": [
    "# Set the file path for the second alternative model 3\n",
    "file_path = Path(\"Resources/AlphabetSoup_A3.h5\")\n",
    "\n",
    "# Export your model to a HDF5 file\n",
    "nn_A3.save(file_path)"
   ]
  },
  {
   "cell_type": "markdown",
   "metadata": {
    "id": "eQ3b2y7OURsM"
   },
   "source": [
    "### overfitting and Train the model with Validation split \n"
   ]
  },
  {
   "cell_type": "code",
   "execution_count": 89,
   "metadata": {},
   "outputs": [
    {
     "name": "stdout",
     "output_type": "stream",
     "text": [
      "Epoch 1/100\n",
      "751/751 [==============================] - 1s 2ms/step - loss: 0.6894 - accuracy: 0.5435 - val_loss: 0.6956 - val_accuracy: 0.5064\n",
      "Epoch 2/100\n",
      "751/751 [==============================] - 1s 1ms/step - loss: 0.6894 - accuracy: 0.5435 - val_loss: 0.6958 - val_accuracy: 0.5064\n",
      "Epoch 3/100\n",
      "751/751 [==============================] - 1s 1ms/step - loss: 0.6894 - accuracy: 0.5435 - val_loss: 0.6959 - val_accuracy: 0.5064\n",
      "Epoch 4/100\n",
      "751/751 [==============================] - 1s 1ms/step - loss: 0.6894 - accuracy: 0.5435 - val_loss: 0.6963 - val_accuracy: 0.5064\n",
      "Epoch 5/100\n",
      "751/751 [==============================] - 1s 1ms/step - loss: 0.6894 - accuracy: 0.5435 - val_loss: 0.6956 - val_accuracy: 0.5064\n",
      "Epoch 6/100\n",
      "751/751 [==============================] - 1s 1ms/step - loss: 0.6894 - accuracy: 0.5435 - val_loss: 0.6955 - val_accuracy: 0.5064\n",
      "Epoch 7/100\n",
      "751/751 [==============================] - 1s 1ms/step - loss: 0.6894 - accuracy: 0.5435 - val_loss: 0.6956 - val_accuracy: 0.5064\n",
      "Epoch 8/100\n",
      "751/751 [==============================] - 1s 1ms/step - loss: 0.6894 - accuracy: 0.5435 - val_loss: 0.6960 - val_accuracy: 0.5064\n",
      "Epoch 9/100\n",
      "751/751 [==============================] - 1s 1ms/step - loss: 0.6894 - accuracy: 0.5435 - val_loss: 0.6961 - val_accuracy: 0.5064\n",
      "Epoch 10/100\n",
      "751/751 [==============================] - 1s 1ms/step - loss: 0.6894 - accuracy: 0.5435 - val_loss: 0.6958 - val_accuracy: 0.5064\n",
      "Epoch 11/100\n",
      "751/751 [==============================] - 1s 1ms/step - loss: 0.6894 - accuracy: 0.5435 - val_loss: 0.6961 - val_accuracy: 0.5064\n",
      "Epoch 12/100\n",
      "751/751 [==============================] - 1s 1ms/step - loss: 0.6894 - accuracy: 0.5435 - val_loss: 0.6956 - val_accuracy: 0.5064\n",
      "Epoch 13/100\n",
      "751/751 [==============================] - 1s 1ms/step - loss: 0.6894 - accuracy: 0.5435 - val_loss: 0.6958 - val_accuracy: 0.5064\n",
      "Epoch 14/100\n",
      "751/751 [==============================] - 1s 1ms/step - loss: 0.6894 - accuracy: 0.5435 - val_loss: 0.6957 - val_accuracy: 0.5064\n",
      "Epoch 15/100\n",
      "751/751 [==============================] - 1s 1ms/step - loss: 0.6894 - accuracy: 0.5435 - val_loss: 0.6963 - val_accuracy: 0.5064\n",
      "Epoch 16/100\n",
      "751/751 [==============================] - 1s 1ms/step - loss: 0.6894 - accuracy: 0.5435 - val_loss: 0.6960 - val_accuracy: 0.5064\n",
      "Epoch 17/100\n",
      "751/751 [==============================] - 1s 1ms/step - loss: 0.6894 - accuracy: 0.5435 - val_loss: 0.6958 - val_accuracy: 0.5064\n",
      "Epoch 18/100\n",
      "751/751 [==============================] - 1s 1ms/step - loss: 0.6894 - accuracy: 0.5435 - val_loss: 0.6957 - val_accuracy: 0.5064\n",
      "Epoch 19/100\n",
      "751/751 [==============================] - 1s 1ms/step - loss: 0.6894 - accuracy: 0.5435 - val_loss: 0.6956 - val_accuracy: 0.5064\n",
      "Epoch 20/100\n",
      "751/751 [==============================] - 1s 1ms/step - loss: 0.6894 - accuracy: 0.5435 - val_loss: 0.6961 - val_accuracy: 0.5064\n",
      "Epoch 21/100\n",
      "751/751 [==============================] - 1s 1ms/step - loss: 0.6894 - accuracy: 0.5435 - val_loss: 0.6958 - val_accuracy: 0.5064\n",
      "Epoch 22/100\n",
      "751/751 [==============================] - 1s 1ms/step - loss: 0.6894 - accuracy: 0.5435 - val_loss: 0.6958 - val_accuracy: 0.5064\n",
      "Epoch 23/100\n",
      "751/751 [==============================] - 1s 1ms/step - loss: 0.6894 - accuracy: 0.5435 - val_loss: 0.6961 - val_accuracy: 0.5064\n",
      "Epoch 24/100\n",
      "751/751 [==============================] - 1s 1ms/step - loss: 0.6894 - accuracy: 0.5435 - val_loss: 0.6957 - val_accuracy: 0.5064\n",
      "Epoch 25/100\n",
      "751/751 [==============================] - 1s 1ms/step - loss: 0.6894 - accuracy: 0.5435 - val_loss: 0.6959 - val_accuracy: 0.5064\n",
      "Epoch 26/100\n",
      "751/751 [==============================] - 1s 1ms/step - loss: 0.6894 - accuracy: 0.5435 - val_loss: 0.6958 - val_accuracy: 0.5064\n",
      "Epoch 27/100\n",
      "751/751 [==============================] - 1s 1ms/step - loss: 0.6894 - accuracy: 0.5435 - val_loss: 0.6964 - val_accuracy: 0.5064\n",
      "Epoch 28/100\n",
      "751/751 [==============================] - 1s 1ms/step - loss: 0.6894 - accuracy: 0.5435 - val_loss: 0.6963 - val_accuracy: 0.5064\n",
      "Epoch 29/100\n",
      "751/751 [==============================] - 1s 1ms/step - loss: 0.6894 - accuracy: 0.5435 - val_loss: 0.6956 - val_accuracy: 0.5064\n",
      "Epoch 30/100\n",
      "751/751 [==============================] - 1s 2ms/step - loss: 0.6894 - accuracy: 0.5435 - val_loss: 0.6960 - val_accuracy: 0.5064\n",
      "Epoch 31/100\n",
      "751/751 [==============================] - 1s 1ms/step - loss: 0.6894 - accuracy: 0.5435 - val_loss: 0.6957 - val_accuracy: 0.5064\n",
      "Epoch 32/100\n",
      "751/751 [==============================] - 1s 1ms/step - loss: 0.6894 - accuracy: 0.5435 - val_loss: 0.6956 - val_accuracy: 0.5064\n",
      "Epoch 33/100\n",
      "751/751 [==============================] - 1s 1ms/step - loss: 0.6894 - accuracy: 0.5435 - val_loss: 0.6952 - val_accuracy: 0.5064\n",
      "Epoch 34/100\n",
      "751/751 [==============================] - 1s 1ms/step - loss: 0.6894 - accuracy: 0.5435 - val_loss: 0.6959 - val_accuracy: 0.5064\n",
      "Epoch 35/100\n",
      "751/751 [==============================] - 1s 1ms/step - loss: 0.6894 - accuracy: 0.5435 - val_loss: 0.6959 - val_accuracy: 0.5064\n",
      "Epoch 36/100\n",
      "751/751 [==============================] - 1s 1ms/step - loss: 0.6894 - accuracy: 0.5435 - val_loss: 0.6957 - val_accuracy: 0.5064\n",
      "Epoch 37/100\n",
      "751/751 [==============================] - 1s 1ms/step - loss: 0.6894 - accuracy: 0.5435 - val_loss: 0.6957 - val_accuracy: 0.5064\n",
      "Epoch 38/100\n",
      "751/751 [==============================] - 1s 1ms/step - loss: 0.6894 - accuracy: 0.5435 - val_loss: 0.6958 - val_accuracy: 0.5064\n",
      "Epoch 39/100\n",
      "751/751 [==============================] - 1s 1ms/step - loss: 0.6894 - accuracy: 0.5435 - val_loss: 0.6962 - val_accuracy: 0.5064\n",
      "Epoch 40/100\n",
      "751/751 [==============================] - 1s 1ms/step - loss: 0.6894 - accuracy: 0.5435 - val_loss: 0.6961 - val_accuracy: 0.5064\n",
      "Epoch 41/100\n",
      "751/751 [==============================] - 1s 1ms/step - loss: 0.6894 - accuracy: 0.5435 - val_loss: 0.6962 - val_accuracy: 0.5064\n",
      "Epoch 42/100\n",
      "751/751 [==============================] - 1s 1ms/step - loss: 0.6894 - accuracy: 0.5435 - val_loss: 0.6957 - val_accuracy: 0.5064\n",
      "Epoch 43/100\n",
      "751/751 [==============================] - 1s 1ms/step - loss: 0.6894 - accuracy: 0.5435 - val_loss: 0.6956 - val_accuracy: 0.5064\n",
      "Epoch 44/100\n",
      "751/751 [==============================] - 1s 1ms/step - loss: 0.6894 - accuracy: 0.5435 - val_loss: 0.6956 - val_accuracy: 0.5064\n",
      "Epoch 45/100\n",
      "751/751 [==============================] - 1s 1ms/step - loss: 0.6894 - accuracy: 0.5435 - val_loss: 0.6959 - val_accuracy: 0.5064\n",
      "Epoch 46/100\n",
      "751/751 [==============================] - 1s 1ms/step - loss: 0.6894 - accuracy: 0.5435 - val_loss: 0.6962 - val_accuracy: 0.5064\n",
      "Epoch 47/100\n",
      "751/751 [==============================] - 1s 1ms/step - loss: 0.6894 - accuracy: 0.5435 - val_loss: 0.6959 - val_accuracy: 0.5064\n",
      "Epoch 48/100\n",
      "751/751 [==============================] - 1s 1ms/step - loss: 0.6894 - accuracy: 0.5435 - val_loss: 0.6955 - val_accuracy: 0.5064\n",
      "Epoch 49/100\n",
      "751/751 [==============================] - 1s 1ms/step - loss: 0.6894 - accuracy: 0.5435 - val_loss: 0.6958 - val_accuracy: 0.5064\n",
      "Epoch 50/100\n",
      "751/751 [==============================] - 1s 1ms/step - loss: 0.6894 - accuracy: 0.5435 - val_loss: 0.6962 - val_accuracy: 0.5064\n",
      "Epoch 51/100\n",
      "751/751 [==============================] - 1s 1ms/step - loss: 0.6894 - accuracy: 0.5435 - val_loss: 0.6959 - val_accuracy: 0.5064\n",
      "Epoch 52/100\n",
      "751/751 [==============================] - 1s 1ms/step - loss: 0.6894 - accuracy: 0.5435 - val_loss: 0.6955 - val_accuracy: 0.5064\n",
      "Epoch 53/100\n",
      "751/751 [==============================] - 1s 2ms/step - loss: 0.6894 - accuracy: 0.5435 - val_loss: 0.6956 - val_accuracy: 0.5064\n",
      "Epoch 54/100\n",
      "751/751 [==============================] - 1s 1ms/step - loss: 0.6894 - accuracy: 0.5435 - val_loss: 0.6960 - val_accuracy: 0.5064\n",
      "Epoch 55/100\n",
      "751/751 [==============================] - 1s 1ms/step - loss: 0.6894 - accuracy: 0.5435 - val_loss: 0.6959 - val_accuracy: 0.5064\n",
      "Epoch 56/100\n",
      "751/751 [==============================] - 1s 1ms/step - loss: 0.6894 - accuracy: 0.5435 - val_loss: 0.6959 - val_accuracy: 0.5064\n",
      "Epoch 57/100\n",
      "751/751 [==============================] - 1s 1ms/step - loss: 0.6894 - accuracy: 0.5435 - val_loss: 0.6955 - val_accuracy: 0.5064\n",
      "Epoch 58/100\n",
      "751/751 [==============================] - 1s 1ms/step - loss: 0.6894 - accuracy: 0.5435 - val_loss: 0.6960 - val_accuracy: 0.5064\n",
      "Epoch 59/100\n",
      "751/751 [==============================] - 1s 1ms/step - loss: 0.6894 - accuracy: 0.5435 - val_loss: 0.6959 - val_accuracy: 0.5064\n",
      "Epoch 60/100\n",
      "751/751 [==============================] - 1s 1ms/step - loss: 0.6894 - accuracy: 0.5435 - val_loss: 0.6957 - val_accuracy: 0.5064\n",
      "Epoch 61/100\n",
      "751/751 [==============================] - 1s 1ms/step - loss: 0.6894 - accuracy: 0.5435 - val_loss: 0.6957 - val_accuracy: 0.5064\n",
      "Epoch 62/100\n",
      "751/751 [==============================] - 1s 1ms/step - loss: 0.6894 - accuracy: 0.5435 - val_loss: 0.6959 - val_accuracy: 0.5064\n",
      "Epoch 63/100\n",
      "751/751 [==============================] - 1s 1ms/step - loss: 0.6894 - accuracy: 0.5435 - val_loss: 0.6959 - val_accuracy: 0.5064\n",
      "Epoch 64/100\n",
      "751/751 [==============================] - 1s 1ms/step - loss: 0.6894 - accuracy: 0.5435 - val_loss: 0.6962 - val_accuracy: 0.5064\n",
      "Epoch 65/100\n",
      "751/751 [==============================] - 1s 1ms/step - loss: 0.6894 - accuracy: 0.5435 - val_loss: 0.6956 - val_accuracy: 0.5064\n",
      "Epoch 66/100\n",
      "751/751 [==============================] - 1s 1ms/step - loss: 0.6894 - accuracy: 0.5435 - val_loss: 0.6952 - val_accuracy: 0.5064\n",
      "Epoch 67/100\n",
      "751/751 [==============================] - 1s 1ms/step - loss: 0.6894 - accuracy: 0.5435 - val_loss: 0.6957 - val_accuracy: 0.5064\n",
      "Epoch 68/100\n",
      "751/751 [==============================] - 1s 1ms/step - loss: 0.6894 - accuracy: 0.5435 - val_loss: 0.6955 - val_accuracy: 0.5064\n",
      "Epoch 69/100\n",
      "751/751 [==============================] - 1s 1ms/step - loss: 0.6894 - accuracy: 0.5435 - val_loss: 0.6956 - val_accuracy: 0.5064\n",
      "Epoch 70/100\n",
      "751/751 [==============================] - 1s 1ms/step - loss: 0.6894 - accuracy: 0.5435 - val_loss: 0.6958 - val_accuracy: 0.5064\n",
      "Epoch 71/100\n",
      "751/751 [==============================] - 1s 1ms/step - loss: 0.6894 - accuracy: 0.5435 - val_loss: 0.6957 - val_accuracy: 0.5064\n",
      "Epoch 72/100\n",
      "751/751 [==============================] - 1s 1ms/step - loss: 0.6894 - accuracy: 0.5435 - val_loss: 0.6957 - val_accuracy: 0.5064\n",
      "Epoch 73/100\n",
      "751/751 [==============================] - 1s 1ms/step - loss: 0.6894 - accuracy: 0.5435 - val_loss: 0.6960 - val_accuracy: 0.5064\n",
      "Epoch 74/100\n",
      "751/751 [==============================] - 1s 1ms/step - loss: 0.6894 - accuracy: 0.5435 - val_loss: 0.6957 - val_accuracy: 0.5064\n",
      "Epoch 75/100\n",
      "751/751 [==============================] - 1s 1ms/step - loss: 0.6894 - accuracy: 0.5435 - val_loss: 0.6959 - val_accuracy: 0.5064\n",
      "Epoch 76/100\n",
      "751/751 [==============================] - 1s 1ms/step - loss: 0.6894 - accuracy: 0.5435 - val_loss: 0.6958 - val_accuracy: 0.5064\n",
      "Epoch 77/100\n",
      "751/751 [==============================] - 1s 1ms/step - loss: 0.6894 - accuracy: 0.5435 - val_loss: 0.6958 - val_accuracy: 0.5064\n",
      "Epoch 78/100\n",
      "751/751 [==============================] - 1s 1ms/step - loss: 0.6894 - accuracy: 0.5435 - val_loss: 0.6956 - val_accuracy: 0.5064\n",
      "Epoch 79/100\n",
      "751/751 [==============================] - 1s 1ms/step - loss: 0.6894 - accuracy: 0.5435 - val_loss: 0.6956 - val_accuracy: 0.5064\n",
      "Epoch 80/100\n",
      "751/751 [==============================] - 1s 1ms/step - loss: 0.6894 - accuracy: 0.5435 - val_loss: 0.6960 - val_accuracy: 0.5064\n",
      "Epoch 81/100\n",
      "751/751 [==============================] - 1s 1ms/step - loss: 0.6894 - accuracy: 0.5435 - val_loss: 0.6958 - val_accuracy: 0.5064\n",
      "Epoch 82/100\n",
      "751/751 [==============================] - 1s 1ms/step - loss: 0.6894 - accuracy: 0.5435 - val_loss: 0.6952 - val_accuracy: 0.5064\n",
      "Epoch 83/100\n",
      "751/751 [==============================] - 1s 1ms/step - loss: 0.6894 - accuracy: 0.5435 - val_loss: 0.6960 - val_accuracy: 0.5064\n",
      "Epoch 84/100\n",
      "751/751 [==============================] - 1s 1ms/step - loss: 0.6894 - accuracy: 0.5435 - val_loss: 0.6960 - val_accuracy: 0.5064\n",
      "Epoch 85/100\n",
      "751/751 [==============================] - 1s 1ms/step - loss: 0.6894 - accuracy: 0.5435 - val_loss: 0.6961 - val_accuracy: 0.5064\n",
      "Epoch 86/100\n",
      "751/751 [==============================] - 1s 1ms/step - loss: 0.6894 - accuracy: 0.5435 - val_loss: 0.6955 - val_accuracy: 0.5064\n",
      "Epoch 87/100\n",
      "751/751 [==============================] - 1s 1ms/step - loss: 0.6894 - accuracy: 0.5435 - val_loss: 0.6961 - val_accuracy: 0.5064\n",
      "Epoch 88/100\n",
      "751/751 [==============================] - 1s 1ms/step - loss: 0.6894 - accuracy: 0.5435 - val_loss: 0.6959 - val_accuracy: 0.5064\n",
      "Epoch 89/100\n",
      "751/751 [==============================] - 1s 1ms/step - loss: 0.6894 - accuracy: 0.5435 - val_loss: 0.6960 - val_accuracy: 0.5064\n",
      "Epoch 90/100\n",
      "751/751 [==============================] - 1s 1ms/step - loss: 0.6894 - accuracy: 0.5435 - val_loss: 0.6958 - val_accuracy: 0.5064\n",
      "Epoch 91/100\n",
      "751/751 [==============================] - 1s 1ms/step - loss: 0.6894 - accuracy: 0.5435 - val_loss: 0.6962 - val_accuracy: 0.5064\n",
      "Epoch 92/100\n",
      "751/751 [==============================] - 1s 1ms/step - loss: 0.6894 - accuracy: 0.5435 - val_loss: 0.6960 - val_accuracy: 0.5064\n",
      "Epoch 93/100\n",
      "751/751 [==============================] - 1s 1ms/step - loss: 0.6894 - accuracy: 0.5435 - val_loss: 0.6955 - val_accuracy: 0.5064\n",
      "Epoch 94/100\n",
      "751/751 [==============================] - 1s 1ms/step - loss: 0.6894 - accuracy: 0.5435 - val_loss: 0.6961 - val_accuracy: 0.5064\n",
      "Epoch 95/100\n",
      "751/751 [==============================] - 1s 1ms/step - loss: 0.6894 - accuracy: 0.5435 - val_loss: 0.6955 - val_accuracy: 0.5064\n",
      "Epoch 96/100\n",
      "751/751 [==============================] - 1s 1ms/step - loss: 0.6894 - accuracy: 0.5435 - val_loss: 0.6955 - val_accuracy: 0.5064\n",
      "Epoch 97/100\n",
      "751/751 [==============================] - 1s 1ms/step - loss: 0.6894 - accuracy: 0.5435 - val_loss: 0.6956 - val_accuracy: 0.5064\n",
      "Epoch 98/100\n",
      "751/751 [==============================] - 1s 1ms/step - loss: 0.6894 - accuracy: 0.5435 - val_loss: 0.6960 - val_accuracy: 0.5064\n",
      "Epoch 99/100\n",
      "751/751 [==============================] - 1s 1ms/step - loss: 0.6894 - accuracy: 0.5435 - val_loss: 0.6958 - val_accuracy: 0.5064\n",
      "Epoch 100/100\n",
      "751/751 [==============================] - 1s 1ms/step - loss: 0.6894 - accuracy: 0.5435 - val_loss: 0.6961 - val_accuracy: 0.5064\n"
     ]
    }
   ],
   "source": [
    "# With validation split 0.3 and epchos 100 for the baseline ( shallow net)\n",
    "\n",
    "fit_model_baseline_2 = nn.fit(X, y, epochs=100, validation_split=0.3)"
   ]
  },
  {
   "cell_type": "code",
   "execution_count": 90,
   "metadata": {},
   "outputs": [
    {
     "name": "stdout",
     "output_type": "stream",
     "text": [
      "Epoch 1/100\n",
      "751/751 [==============================] - 1s 2ms/step - loss: 0.6894 - accuracy: 0.5435 - val_loss: 0.6955 - val_accuracy: 0.5064\n",
      "Epoch 2/100\n",
      "751/751 [==============================] - 1s 2ms/step - loss: 0.6894 - accuracy: 0.5435 - val_loss: 0.6957 - val_accuracy: 0.5064\n",
      "Epoch 3/100\n",
      "751/751 [==============================] - 1s 2ms/step - loss: 0.6894 - accuracy: 0.5435 - val_loss: 0.6956 - val_accuracy: 0.5064\n",
      "Epoch 4/100\n",
      "751/751 [==============================] - 1s 2ms/step - loss: 0.6894 - accuracy: 0.5435 - val_loss: 0.6958 - val_accuracy: 0.5064\n",
      "Epoch 5/100\n",
      "751/751 [==============================] - 1s 2ms/step - loss: 0.6894 - accuracy: 0.5435 - val_loss: 0.6955 - val_accuracy: 0.5064\n",
      "Epoch 6/100\n",
      "751/751 [==============================] - 1s 2ms/step - loss: 0.6894 - accuracy: 0.5435 - val_loss: 0.6953 - val_accuracy: 0.5064\n",
      "Epoch 7/100\n",
      "751/751 [==============================] - 1s 2ms/step - loss: 0.6894 - accuracy: 0.5435 - val_loss: 0.6960 - val_accuracy: 0.5064\n",
      "Epoch 8/100\n",
      "751/751 [==============================] - 1s 2ms/step - loss: 0.6894 - accuracy: 0.5435 - val_loss: 0.6960 - val_accuracy: 0.5064\n",
      "Epoch 9/100\n",
      "751/751 [==============================] - 1s 2ms/step - loss: 0.6894 - accuracy: 0.5435 - val_loss: 0.6958 - val_accuracy: 0.5064\n",
      "Epoch 10/100\n",
      "751/751 [==============================] - 1s 2ms/step - loss: 0.6894 - accuracy: 0.5435 - val_loss: 0.6961 - val_accuracy: 0.5064\n",
      "Epoch 11/100\n",
      "751/751 [==============================] - 1s 2ms/step - loss: 0.6894 - accuracy: 0.5435 - val_loss: 0.6961 - val_accuracy: 0.5064\n",
      "Epoch 12/100\n",
      "751/751 [==============================] - 1s 2ms/step - loss: 0.6894 - accuracy: 0.5435 - val_loss: 0.6960 - val_accuracy: 0.5064\n",
      "Epoch 13/100\n",
      "751/751 [==============================] - 1s 2ms/step - loss: 0.6894 - accuracy: 0.5435 - val_loss: 0.6957 - val_accuracy: 0.5064\n",
      "Epoch 14/100\n",
      "751/751 [==============================] - 1s 2ms/step - loss: 0.6894 - accuracy: 0.5435 - val_loss: 0.6957 - val_accuracy: 0.5064\n",
      "Epoch 15/100\n",
      "751/751 [==============================] - 1s 2ms/step - loss: 0.6894 - accuracy: 0.5435 - val_loss: 0.6959 - val_accuracy: 0.5064\n",
      "Epoch 16/100\n",
      "751/751 [==============================] - 1s 2ms/step - loss: 0.6894 - accuracy: 0.5435 - val_loss: 0.6960 - val_accuracy: 0.5064\n",
      "Epoch 17/100\n",
      "751/751 [==============================] - 1s 2ms/step - loss: 0.6894 - accuracy: 0.5435 - val_loss: 0.6963 - val_accuracy: 0.5064\n",
      "Epoch 18/100\n",
      "751/751 [==============================] - 1s 2ms/step - loss: 0.6894 - accuracy: 0.5435 - val_loss: 0.6959 - val_accuracy: 0.5064\n",
      "Epoch 19/100\n",
      "751/751 [==============================] - 1s 2ms/step - loss: 0.6894 - accuracy: 0.5435 - val_loss: 0.6957 - val_accuracy: 0.5064\n",
      "Epoch 20/100\n",
      "751/751 [==============================] - 1s 2ms/step - loss: 0.6894 - accuracy: 0.5435 - val_loss: 0.6960 - val_accuracy: 0.5064\n",
      "Epoch 21/100\n",
      "751/751 [==============================] - 1s 2ms/step - loss: 0.6894 - accuracy: 0.5435 - val_loss: 0.6960 - val_accuracy: 0.5064\n",
      "Epoch 22/100\n",
      "751/751 [==============================] - 1s 2ms/step - loss: 0.6894 - accuracy: 0.5435 - val_loss: 0.6955 - val_accuracy: 0.5064\n",
      "Epoch 23/100\n",
      "751/751 [==============================] - 1s 2ms/step - loss: 0.6894 - accuracy: 0.5435 - val_loss: 0.6958 - val_accuracy: 0.5064\n",
      "Epoch 24/100\n",
      "751/751 [==============================] - 1s 2ms/step - loss: 0.6894 - accuracy: 0.5435 - val_loss: 0.6963 - val_accuracy: 0.5064\n",
      "Epoch 25/100\n",
      "751/751 [==============================] - 1s 2ms/step - loss: 0.6893 - accuracy: 0.5435 - val_loss: 0.6952 - val_accuracy: 0.5064\n",
      "Epoch 26/100\n",
      "751/751 [==============================] - 1s 2ms/step - loss: 0.6894 - accuracy: 0.5435 - val_loss: 0.6957 - val_accuracy: 0.5064\n",
      "Epoch 27/100\n",
      "751/751 [==============================] - 1s 2ms/step - loss: 0.6894 - accuracy: 0.5435 - val_loss: 0.6958 - val_accuracy: 0.5064\n",
      "Epoch 28/100\n",
      "751/751 [==============================] - 1s 2ms/step - loss: 0.6894 - accuracy: 0.5435 - val_loss: 0.6958 - val_accuracy: 0.5064\n",
      "Epoch 29/100\n",
      "751/751 [==============================] - 1s 2ms/step - loss: 0.6894 - accuracy: 0.5435 - val_loss: 0.6958 - val_accuracy: 0.5064\n",
      "Epoch 30/100\n",
      "751/751 [==============================] - 1s 2ms/step - loss: 0.6894 - accuracy: 0.5435 - val_loss: 0.6959 - val_accuracy: 0.5064\n",
      "Epoch 31/100\n",
      "751/751 [==============================] - 1s 2ms/step - loss: 0.6894 - accuracy: 0.5435 - val_loss: 0.6956 - val_accuracy: 0.5064\n",
      "Epoch 32/100\n",
      "751/751 [==============================] - 1s 2ms/step - loss: 0.6894 - accuracy: 0.5435 - val_loss: 0.6958 - val_accuracy: 0.5064\n",
      "Epoch 33/100\n",
      "751/751 [==============================] - 1s 2ms/step - loss: 0.6894 - accuracy: 0.5435 - val_loss: 0.6957 - val_accuracy: 0.5064\n",
      "Epoch 34/100\n",
      "751/751 [==============================] - 1s 2ms/step - loss: 0.6894 - accuracy: 0.5435 - val_loss: 0.6959 - val_accuracy: 0.5064\n",
      "Epoch 35/100\n",
      "751/751 [==============================] - 1s 2ms/step - loss: 0.6894 - accuracy: 0.5435 - val_loss: 0.6958 - val_accuracy: 0.5064\n",
      "Epoch 36/100\n",
      "751/751 [==============================] - 1s 2ms/step - loss: 0.6894 - accuracy: 0.5435 - val_loss: 0.6960 - val_accuracy: 0.5064\n",
      "Epoch 37/100\n",
      "751/751 [==============================] - 1s 2ms/step - loss: 0.6894 - accuracy: 0.5435 - val_loss: 0.6961 - val_accuracy: 0.5064\n",
      "Epoch 38/100\n",
      "751/751 [==============================] - 1s 2ms/step - loss: 0.6894 - accuracy: 0.5435 - val_loss: 0.6960 - val_accuracy: 0.5064\n",
      "Epoch 39/100\n",
      "751/751 [==============================] - 1s 2ms/step - loss: 0.6894 - accuracy: 0.5435 - val_loss: 0.6964 - val_accuracy: 0.5064\n",
      "Epoch 40/100\n",
      "751/751 [==============================] - 1s 2ms/step - loss: 0.6894 - accuracy: 0.5435 - val_loss: 0.6963 - val_accuracy: 0.5064\n",
      "Epoch 41/100\n",
      "751/751 [==============================] - 1s 2ms/step - loss: 0.6894 - accuracy: 0.5435 - val_loss: 0.6961 - val_accuracy: 0.5064\n",
      "Epoch 42/100\n",
      "751/751 [==============================] - 1s 2ms/step - loss: 0.6894 - accuracy: 0.5435 - val_loss: 0.6959 - val_accuracy: 0.5064\n",
      "Epoch 43/100\n",
      "751/751 [==============================] - 1s 2ms/step - loss: 0.6894 - accuracy: 0.5435 - val_loss: 0.6957 - val_accuracy: 0.5064\n",
      "Epoch 44/100\n",
      "751/751 [==============================] - 1s 2ms/step - loss: 0.6894 - accuracy: 0.5435 - val_loss: 0.6958 - val_accuracy: 0.5064\n",
      "Epoch 45/100\n",
      "751/751 [==============================] - 1s 2ms/step - loss: 0.6894 - accuracy: 0.5435 - val_loss: 0.6957 - val_accuracy: 0.5064\n",
      "Epoch 46/100\n",
      "751/751 [==============================] - 1s 2ms/step - loss: 0.6894 - accuracy: 0.5435 - val_loss: 0.6957 - val_accuracy: 0.5064\n",
      "Epoch 47/100\n",
      "751/751 [==============================] - 1s 2ms/step - loss: 0.6894 - accuracy: 0.5435 - val_loss: 0.6957 - val_accuracy: 0.5064\n",
      "Epoch 48/100\n",
      "751/751 [==============================] - 1s 2ms/step - loss: 0.6894 - accuracy: 0.5435 - val_loss: 0.6955 - val_accuracy: 0.5064\n",
      "Epoch 49/100\n",
      "751/751 [==============================] - 1s 2ms/step - loss: 0.6894 - accuracy: 0.5435 - val_loss: 0.6955 - val_accuracy: 0.5064\n",
      "Epoch 50/100\n",
      "751/751 [==============================] - 1s 2ms/step - loss: 0.6894 - accuracy: 0.5435 - val_loss: 0.6962 - val_accuracy: 0.5064\n",
      "Epoch 51/100\n",
      "751/751 [==============================] - 1s 2ms/step - loss: 0.6894 - accuracy: 0.5435 - val_loss: 0.6961 - val_accuracy: 0.5064\n",
      "Epoch 52/100\n",
      "751/751 [==============================] - 1s 2ms/step - loss: 0.6894 - accuracy: 0.5435 - val_loss: 0.6954 - val_accuracy: 0.5064\n",
      "Epoch 53/100\n",
      "751/751 [==============================] - 1s 2ms/step - loss: 0.6894 - accuracy: 0.5435 - val_loss: 0.6956 - val_accuracy: 0.5064\n",
      "Epoch 54/100\n",
      "751/751 [==============================] - 1s 2ms/step - loss: 0.6894 - accuracy: 0.5435 - val_loss: 0.6959 - val_accuracy: 0.5064\n",
      "Epoch 55/100\n",
      "751/751 [==============================] - 1s 2ms/step - loss: 0.6894 - accuracy: 0.5435 - val_loss: 0.6957 - val_accuracy: 0.5064\n",
      "Epoch 56/100\n",
      "751/751 [==============================] - 1s 2ms/step - loss: 0.6894 - accuracy: 0.5435 - val_loss: 0.6957 - val_accuracy: 0.5064\n",
      "Epoch 57/100\n",
      "751/751 [==============================] - 1s 2ms/step - loss: 0.6894 - accuracy: 0.5435 - val_loss: 0.6961 - val_accuracy: 0.5064\n",
      "Epoch 58/100\n",
      "751/751 [==============================] - 1s 2ms/step - loss: 0.6894 - accuracy: 0.5435 - val_loss: 0.6957 - val_accuracy: 0.5064\n",
      "Epoch 59/100\n",
      "751/751 [==============================] - 1s 2ms/step - loss: 0.6894 - accuracy: 0.5435 - val_loss: 0.6960 - val_accuracy: 0.5064\n",
      "Epoch 60/100\n",
      "751/751 [==============================] - 1s 2ms/step - loss: 0.6894 - accuracy: 0.5435 - val_loss: 0.6956 - val_accuracy: 0.5064\n",
      "Epoch 61/100\n",
      "751/751 [==============================] - 1s 2ms/step - loss: 0.6894 - accuracy: 0.5435 - val_loss: 0.6961 - val_accuracy: 0.5064\n",
      "Epoch 62/100\n",
      "751/751 [==============================] - 1s 2ms/step - loss: 0.6894 - accuracy: 0.5435 - val_loss: 0.6956 - val_accuracy: 0.5064\n",
      "Epoch 63/100\n",
      "751/751 [==============================] - 1s 2ms/step - loss: 0.6894 - accuracy: 0.5435 - val_loss: 0.6956 - val_accuracy: 0.5064\n",
      "Epoch 64/100\n",
      "751/751 [==============================] - 1s 2ms/step - loss: 0.6894 - accuracy: 0.5435 - val_loss: 0.6958 - val_accuracy: 0.5064\n",
      "Epoch 65/100\n",
      "751/751 [==============================] - 1s 2ms/step - loss: 0.6894 - accuracy: 0.5435 - val_loss: 0.6956 - val_accuracy: 0.5064\n",
      "Epoch 66/100\n",
      "751/751 [==============================] - 1s 2ms/step - loss: 0.6894 - accuracy: 0.5435 - val_loss: 0.6960 - val_accuracy: 0.5064\n",
      "Epoch 67/100\n",
      "751/751 [==============================] - 1s 2ms/step - loss: 0.6894 - accuracy: 0.5435 - val_loss: 0.6959 - val_accuracy: 0.5064\n",
      "Epoch 68/100\n",
      "751/751 [==============================] - 1s 2ms/step - loss: 0.6894 - accuracy: 0.5435 - val_loss: 0.6961 - val_accuracy: 0.5064\n",
      "Epoch 69/100\n",
      "751/751 [==============================] - 1s 2ms/step - loss: 0.6894 - accuracy: 0.5435 - val_loss: 0.6962 - val_accuracy: 0.5064\n",
      "Epoch 70/100\n",
      "751/751 [==============================] - 1s 2ms/step - loss: 0.6894 - accuracy: 0.5435 - val_loss: 0.6957 - val_accuracy: 0.5064\n",
      "Epoch 71/100\n",
      "751/751 [==============================] - 1s 2ms/step - loss: 0.6894 - accuracy: 0.5435 - val_loss: 0.6960 - val_accuracy: 0.5064\n",
      "Epoch 72/100\n",
      "751/751 [==============================] - 1s 2ms/step - loss: 0.6894 - accuracy: 0.5435 - val_loss: 0.6954 - val_accuracy: 0.5064\n",
      "Epoch 73/100\n",
      "751/751 [==============================] - 1s 2ms/step - loss: 0.6894 - accuracy: 0.5435 - val_loss: 0.6962 - val_accuracy: 0.5064\n",
      "Epoch 74/100\n",
      "751/751 [==============================] - 1s 2ms/step - loss: 0.6894 - accuracy: 0.5435 - val_loss: 0.6956 - val_accuracy: 0.5064\n",
      "Epoch 75/100\n",
      "751/751 [==============================] - 1s 2ms/step - loss: 0.6894 - accuracy: 0.5435 - val_loss: 0.6959 - val_accuracy: 0.5064\n",
      "Epoch 76/100\n",
      "751/751 [==============================] - 1s 2ms/step - loss: 0.6894 - accuracy: 0.5435 - val_loss: 0.6960 - val_accuracy: 0.5064\n",
      "Epoch 77/100\n",
      "751/751 [==============================] - 1s 2ms/step - loss: 0.6894 - accuracy: 0.5435 - val_loss: 0.6959 - val_accuracy: 0.5064\n",
      "Epoch 78/100\n",
      "751/751 [==============================] - 1s 2ms/step - loss: 0.6894 - accuracy: 0.5435 - val_loss: 0.6957 - val_accuracy: 0.5064\n",
      "Epoch 79/100\n",
      "751/751 [==============================] - 1s 2ms/step - loss: 0.6894 - accuracy: 0.5435 - val_loss: 0.6959 - val_accuracy: 0.5064\n",
      "Epoch 80/100\n",
      "751/751 [==============================] - 1s 2ms/step - loss: 0.6894 - accuracy: 0.5435 - val_loss: 0.6954 - val_accuracy: 0.5064\n",
      "Epoch 81/100\n",
      "751/751 [==============================] - 1s 2ms/step - loss: 0.6894 - accuracy: 0.5435 - val_loss: 0.6958 - val_accuracy: 0.5064\n",
      "Epoch 82/100\n",
      "751/751 [==============================] - 1s 2ms/step - loss: 0.6894 - accuracy: 0.5435 - val_loss: 0.6964 - val_accuracy: 0.5064\n",
      "Epoch 83/100\n",
      "751/751 [==============================] - 1s 2ms/step - loss: 0.6894 - accuracy: 0.5435 - val_loss: 0.6961 - val_accuracy: 0.5064\n",
      "Epoch 84/100\n",
      "751/751 [==============================] - 1s 2ms/step - loss: 0.6894 - accuracy: 0.5435 - val_loss: 0.6959 - val_accuracy: 0.5064\n",
      "Epoch 85/100\n",
      "751/751 [==============================] - 1s 2ms/step - loss: 0.6894 - accuracy: 0.5435 - val_loss: 0.6962 - val_accuracy: 0.5064\n",
      "Epoch 86/100\n",
      "751/751 [==============================] - 1s 2ms/step - loss: 0.6894 - accuracy: 0.5435 - val_loss: 0.6960 - val_accuracy: 0.5064\n",
      "Epoch 87/100\n",
      "751/751 [==============================] - 1s 2ms/step - loss: 0.6894 - accuracy: 0.5435 - val_loss: 0.6956 - val_accuracy: 0.5064\n",
      "Epoch 88/100\n",
      "751/751 [==============================] - 1s 2ms/step - loss: 0.6894 - accuracy: 0.5435 - val_loss: 0.6955 - val_accuracy: 0.5064\n",
      "Epoch 89/100\n",
      "751/751 [==============================] - 1s 2ms/step - loss: 0.6894 - accuracy: 0.5435 - val_loss: 0.6960 - val_accuracy: 0.5064\n",
      "Epoch 90/100\n",
      "751/751 [==============================] - 1s 2ms/step - loss: 0.6894 - accuracy: 0.5435 - val_loss: 0.6958 - val_accuracy: 0.5064\n",
      "Epoch 91/100\n",
      "751/751 [==============================] - 1s 2ms/step - loss: 0.6894 - accuracy: 0.5435 - val_loss: 0.6960 - val_accuracy: 0.5064\n",
      "Epoch 92/100\n",
      "751/751 [==============================] - 1s 2ms/step - loss: 0.6894 - accuracy: 0.5435 - val_loss: 0.6952 - val_accuracy: 0.5064\n",
      "Epoch 93/100\n",
      "751/751 [==============================] - 1s 2ms/step - loss: 0.6894 - accuracy: 0.5435 - val_loss: 0.6957 - val_accuracy: 0.5064\n",
      "Epoch 94/100\n",
      "751/751 [==============================] - 1s 2ms/step - loss: 0.6894 - accuracy: 0.5435 - val_loss: 0.6958 - val_accuracy: 0.5064\n",
      "Epoch 95/100\n",
      "751/751 [==============================] - 1s 2ms/step - loss: 0.6894 - accuracy: 0.5435 - val_loss: 0.6958 - val_accuracy: 0.5064\n",
      "Epoch 96/100\n",
      "751/751 [==============================] - 1s 2ms/step - loss: 0.6894 - accuracy: 0.5435 - val_loss: 0.6959 - val_accuracy: 0.5064\n",
      "Epoch 97/100\n",
      "751/751 [==============================] - 1s 2ms/step - loss: 0.6894 - accuracy: 0.5435 - val_loss: 0.6962 - val_accuracy: 0.5064\n",
      "Epoch 98/100\n",
      "751/751 [==============================] - 1s 2ms/step - loss: 0.6894 - accuracy: 0.5435 - val_loss: 0.6959 - val_accuracy: 0.5064\n",
      "Epoch 99/100\n",
      "751/751 [==============================] - 1s 2ms/step - loss: 0.6894 - accuracy: 0.5435 - val_loss: 0.6956 - val_accuracy: 0.5064\n",
      "Epoch 100/100\n",
      "751/751 [==============================] - 1s 2ms/step - loss: 0.6894 - accuracy: 0.5435 - val_loss: 0.6959 - val_accuracy: 0.5064\n"
     ]
    }
   ],
   "source": [
    "# With validation split 0.3 and epchos 100 for the Alternative Model 1 ( deep net)\n",
    "\n",
    "fit_model_1 = nn_A1.fit(X, y, epochs=100, validation_split=0.3)"
   ]
  },
  {
   "cell_type": "code",
   "execution_count": 96,
   "metadata": {},
   "outputs": [
    {
     "data": {
      "image/png": "[encoded data removed]",
      "text/plain": [
       "<Figure size 432x288 with 1 Axes>"
      ]
     },
     "metadata": {
      "needs_background": "light"
     },
     "output_type": "display_data"
    }
   ],
   "source": [
    "# Train vs test for shallow net\n",
    "plt.plot(fit_model_baseline_2.history['loss'])\n",
    "plt.plot(fit_model_baseline_2.history['val_loss'])\n",
    "plt.title(\"loss_function - Training Vs. Validation - 1 hidden layer\")\n",
    "plt.legend([\"train\", \"test\"])\n",
    "plt.show()"
   ]
  },
  {
   "cell_type": "code",
   "execution_count": null,
   "metadata": {},
   "outputs": [],
   "source": [
    "#  the above graph tells the test loss is higher than the train loss "
   ]
  },
  {
   "cell_type": "code",
   "execution_count": 93,
   "metadata": {},
   "outputs": [
    {
     "data": {
      "image/png": "[encoded data removed]",
      "text/plain": [
       "<Figure size 432x288 with 1 Axes>"
      ]
     },
     "metadata": {
      "needs_background": "light"
     },
     "output_type": "display_data"
    }
   ],
   "source": [
    "# Train vs test for deep net\n",
    "plt.plot(fit_model_1.history[\"loss\"])\n",
    "plt.plot(fit_model_1.history[\"val_loss\"])\n",
    "plt.title(\"loss_function - Training Vs. Validation - 6 hidden layer\")\n",
    "plt.legend([\"train\", \"test\"])\n",
    "plt.show()"
   ]
  },
  {
   "cell_type": "code",
   "execution_count": null,
   "metadata": {},
   "outputs": [],
   "source": [
    "#  the above graph tells the validation  loss is higher than the train loss "
   ]
  }
 ],
 "metadata": {
  "colab": {
   "name": "venture_funding_with_deep_learning.ipynb",
   "provenance": []
  },
  "kernelspec": {
   "display_name": "python (dev)",
   "language": "python",
   "name": "dev"
  },
  "language_info": {
   "codemirror_mode": {
    "name": "ipython",
    "version": 3
   },
   "file_extension": ".py",
   "mimetype": "text/x-python",
   "name": "python",
   "nbconvert_exporter": "python",
   "pygments_lexer": "ipython3",
   "version": "3.7.10"
  }
 },
 "nbformat": 4,
 "nbformat_minor": 4
}
